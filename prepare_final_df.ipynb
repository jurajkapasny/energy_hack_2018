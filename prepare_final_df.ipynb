{
 "cells": [
  {
   "cell_type": "code",
   "execution_count": 1,
   "metadata": {},
   "outputs": [],
   "source": [
    "import random\n",
    "import pandas as pd \n",
    "from copy import deepcopy\n",
    "from sklearn.externals import joblib\n",
    "from sklearn.model_selection import train_test_split\n",
    "from xgboost.sklearn import XGBRegressor\n",
    "from sklearn.ensemble import RandomForestRegressor\n",
    "from sklearn.model_selection import cross_val_score\n",
    "from sklearn.model_selection import GridSearchCV\n",
    "from sklearn.metrics import r2_score, mean_absolute_error, median_absolute_error,mean_squared_error\n",
    "import matplotlib.pyplot as plt\n",
    "import numpy as np\n",
    "import pickle\n",
    "# from skopt import BayesSearchCV\n",
    "import datetime as dt\n",
    "import itertools\n",
    "\n",
    "import warnings\n",
    "warnings.filterwarnings('ignore')"
   ]
  },
  {
   "cell_type": "code",
   "execution_count": 2,
   "metadata": {},
   "outputs": [],
   "source": [
    "data_path = \"/Users/jurajkapasny/Data/energy_hack/\"\n",
    "df = pd.read_csv(data_path+\"spotreba_prepared.csv\",sep = \";\")"
   ]
  },
  {
   "cell_type": "code",
   "execution_count": 3,
   "metadata": {},
   "outputs": [
    {
     "data": {
      "text/html": [
       "<div>\n",
       "<style scoped>\n",
       "    .dataframe tbody tr th:only-of-type {\n",
       "        vertical-align: middle;\n",
       "    }\n",
       "\n",
       "    .dataframe tbody tr th {\n",
       "        vertical-align: top;\n",
       "    }\n",
       "\n",
       "    .dataframe thead th {\n",
       "        text-align: right;\n",
       "    }\n",
       "</style>\n",
       "<table border=\"1\" class=\"dataframe\">\n",
       "  <thead>\n",
       "    <tr style=\"text-align: right;\">\n",
       "      <th></th>\n",
       "      <th>spotreba</th>\n",
       "      <th>om</th>\n",
       "      <th>timestamp</th>\n",
       "    </tr>\n",
       "  </thead>\n",
       "  <tbody>\n",
       "    <tr>\n",
       "      <th>0</th>\n",
       "      <td>0.211</td>\n",
       "      <td>1</td>\n",
       "      <td>2016-01-01 00:15:00</td>\n",
       "    </tr>\n",
       "    <tr>\n",
       "      <th>1</th>\n",
       "      <td>0.210</td>\n",
       "      <td>1</td>\n",
       "      <td>2016-01-01 00:30:00</td>\n",
       "    </tr>\n",
       "    <tr>\n",
       "      <th>2</th>\n",
       "      <td>0.210</td>\n",
       "      <td>1</td>\n",
       "      <td>2016-01-01 00:45:00</td>\n",
       "    </tr>\n",
       "    <tr>\n",
       "      <th>3</th>\n",
       "      <td>0.206</td>\n",
       "      <td>1</td>\n",
       "      <td>2016-01-01 01:00:00</td>\n",
       "    </tr>\n",
       "    <tr>\n",
       "      <th>4</th>\n",
       "      <td>0.205</td>\n",
       "      <td>1</td>\n",
       "      <td>2016-01-01 01:15:00</td>\n",
       "    </tr>\n",
       "  </tbody>\n",
       "</table>\n",
       "</div>"
      ],
      "text/plain": [
       "   spotreba  om            timestamp\n",
       "0     0.211   1  2016-01-01 00:15:00\n",
       "1     0.210   1  2016-01-01 00:30:00\n",
       "2     0.210   1  2016-01-01 00:45:00\n",
       "3     0.206   1  2016-01-01 01:00:00\n",
       "4     0.205   1  2016-01-01 01:15:00"
      ]
     },
     "execution_count": 3,
     "metadata": {},
     "output_type": "execute_result"
    }
   ],
   "source": [
    "df[\"timestamp\"] = df[\"Dátum a čas\"] + \" \" + df[\"Unnamed: 1\"]\n",
    "df = df[[\"spotreba\",\"om\",\"timestamp\"]]\n",
    "df.head()"
   ]
  },
  {
   "cell_type": "code",
   "execution_count": 4,
   "metadata": {},
   "outputs": [],
   "source": [
    "om_info = pd.read_csv(data_path+\"om_info_prepared.csv\",sep = \";\")\n",
    "om_info.drop(\"Unnamed: 0\",axis = 1, inplace=True)"
   ]
  },
  {
   "cell_type": "code",
   "execution_count": 51,
   "metadata": {},
   "outputs": [
    {
     "data": {
      "text/html": [
       "<div>\n",
       "<style scoped>\n",
       "    .dataframe tbody tr th:only-of-type {\n",
       "        vertical-align: middle;\n",
       "    }\n",
       "\n",
       "    .dataframe tbody tr th {\n",
       "        vertical-align: top;\n",
       "    }\n",
       "\n",
       "    .dataframe thead th {\n",
       "        text-align: right;\n",
       "    }\n",
       "</style>\n",
       "<table border=\"1\" class=\"dataframe\">\n",
       "  <thead>\n",
       "    <tr style=\"text-align: right;\">\n",
       "      <th></th>\n",
       "      <th>Číslo OM</th>\n",
       "      <th>Zapojenie</th>\n",
       "      <th>Druh tarify</th>\n",
       "      <th>Inštalovaný výkon FVE (kWp)</th>\n",
       "    </tr>\n",
       "  </thead>\n",
       "  <tbody>\n",
       "    <tr>\n",
       "      <th>0</th>\n",
       "      <td>1</td>\n",
       "      <td>A</td>\n",
       "      <td>D2</td>\n",
       "      <td>2.0</td>\n",
       "    </tr>\n",
       "    <tr>\n",
       "      <th>1</th>\n",
       "      <td>2</td>\n",
       "      <td>A</td>\n",
       "      <td>D2</td>\n",
       "      <td>7.2</td>\n",
       "    </tr>\n",
       "    <tr>\n",
       "      <th>2</th>\n",
       "      <td>3</td>\n",
       "      <td>A</td>\n",
       "      <td>D2</td>\n",
       "      <td>2.0</td>\n",
       "    </tr>\n",
       "    <tr>\n",
       "      <th>3</th>\n",
       "      <td>4</td>\n",
       "      <td>A</td>\n",
       "      <td>D1</td>\n",
       "      <td>0.0</td>\n",
       "    </tr>\n",
       "    <tr>\n",
       "      <th>4</th>\n",
       "      <td>5</td>\n",
       "      <td>C</td>\n",
       "      <td>D4</td>\n",
       "      <td>9.2</td>\n",
       "    </tr>\n",
       "  </tbody>\n",
       "</table>\n",
       "</div>"
      ],
      "text/plain": [
       "   Číslo OM Zapojenie Druh tarify  Inštalovaný výkon FVE (kWp)\n",
       "0         1         A          D2                          2.0\n",
       "1         2         A          D2                          7.2\n",
       "2         3         A          D2                          2.0\n",
       "3         4         A          D1                          0.0\n",
       "4         5         C          D4                          9.2"
      ]
     },
     "execution_count": 51,
     "metadata": {},
     "output_type": "execute_result"
    }
   ],
   "source": [
    "om_info.head()"
   ]
  },
  {
   "cell_type": "markdown",
   "metadata": {},
   "source": [
    "#### Adding tarif to main_df "
   ]
  },
  {
   "cell_type": "code",
   "execution_count": 5,
   "metadata": {},
   "outputs": [],
   "source": [
    "df_final = df.merge(om_info[[\"Číslo OM\",\n",
    "                             \"Druh tarify\",\n",
    "                             \"Inštalovaný výkon FVE (kWp)\"]], \n",
    "                    how = \"left\", \n",
    "                    left_on = \"om\", \n",
    "                    right_on = \"Číslo OM\")"
   ]
  },
  {
   "cell_type": "code",
   "execution_count": 6,
   "metadata": {},
   "outputs": [
    {
     "data": {
      "text/html": [
       "<div>\n",
       "<style scoped>\n",
       "    .dataframe tbody tr th:only-of-type {\n",
       "        vertical-align: middle;\n",
       "    }\n",
       "\n",
       "    .dataframe tbody tr th {\n",
       "        vertical-align: top;\n",
       "    }\n",
       "\n",
       "    .dataframe thead th {\n",
       "        text-align: right;\n",
       "    }\n",
       "</style>\n",
       "<table border=\"1\" class=\"dataframe\">\n",
       "  <thead>\n",
       "    <tr style=\"text-align: right;\">\n",
       "      <th></th>\n",
       "      <th>spotreba</th>\n",
       "      <th>om</th>\n",
       "      <th>timestamp</th>\n",
       "      <th>Číslo OM</th>\n",
       "      <th>Druh tarify</th>\n",
       "      <th>Inštalovaný výkon FVE (kWp)</th>\n",
       "    </tr>\n",
       "  </thead>\n",
       "  <tbody>\n",
       "    <tr>\n",
       "      <th>0</th>\n",
       "      <td>0.211</td>\n",
       "      <td>1</td>\n",
       "      <td>2016-01-01 00:15:00</td>\n",
       "      <td>1</td>\n",
       "      <td>D2</td>\n",
       "      <td>2.0</td>\n",
       "    </tr>\n",
       "    <tr>\n",
       "      <th>1</th>\n",
       "      <td>0.210</td>\n",
       "      <td>1</td>\n",
       "      <td>2016-01-01 00:30:00</td>\n",
       "      <td>1</td>\n",
       "      <td>D2</td>\n",
       "      <td>2.0</td>\n",
       "    </tr>\n",
       "    <tr>\n",
       "      <th>2</th>\n",
       "      <td>0.210</td>\n",
       "      <td>1</td>\n",
       "      <td>2016-01-01 00:45:00</td>\n",
       "      <td>1</td>\n",
       "      <td>D2</td>\n",
       "      <td>2.0</td>\n",
       "    </tr>\n",
       "    <tr>\n",
       "      <th>3</th>\n",
       "      <td>0.206</td>\n",
       "      <td>1</td>\n",
       "      <td>2016-01-01 01:00:00</td>\n",
       "      <td>1</td>\n",
       "      <td>D2</td>\n",
       "      <td>2.0</td>\n",
       "    </tr>\n",
       "    <tr>\n",
       "      <th>4</th>\n",
       "      <td>0.205</td>\n",
       "      <td>1</td>\n",
       "      <td>2016-01-01 01:15:00</td>\n",
       "      <td>1</td>\n",
       "      <td>D2</td>\n",
       "      <td>2.0</td>\n",
       "    </tr>\n",
       "  </tbody>\n",
       "</table>\n",
       "</div>"
      ],
      "text/plain": [
       "   spotreba  om            timestamp  Číslo OM Druh tarify  \\\n",
       "0     0.211   1  2016-01-01 00:15:00         1          D2   \n",
       "1     0.210   1  2016-01-01 00:30:00         1          D2   \n",
       "2     0.210   1  2016-01-01 00:45:00         1          D2   \n",
       "3     0.206   1  2016-01-01 01:00:00         1          D2   \n",
       "4     0.205   1  2016-01-01 01:15:00         1          D2   \n",
       "\n",
       "   Inštalovaný výkon FVE (kWp)  \n",
       "0                          2.0  \n",
       "1                          2.0  \n",
       "2                          2.0  \n",
       "3                          2.0  \n",
       "4                          2.0  "
      ]
     },
     "execution_count": 6,
     "metadata": {},
     "output_type": "execute_result"
    }
   ],
   "source": [
    "df_final.head()"
   ]
  },
  {
   "cell_type": "markdown",
   "metadata": {},
   "source": [
    "#### Adding vyroba"
   ]
  },
  {
   "cell_type": "code",
   "execution_count": 7,
   "metadata": {},
   "outputs": [],
   "source": [
    "vyroba = pd.read_csv(data_path+\"vyroba_prepared.csv\",sep = \";\")\n",
    "# vyroba.drop(\"Unnamed: 0\",axis = 1, inplace=True)"
   ]
  },
  {
   "cell_type": "code",
   "execution_count": 8,
   "metadata": {},
   "outputs": [
    {
     "data": {
      "text/html": [
       "<div>\n",
       "<style scoped>\n",
       "    .dataframe tbody tr th:only-of-type {\n",
       "        vertical-align: middle;\n",
       "    }\n",
       "\n",
       "    .dataframe tbody tr th {\n",
       "        vertical-align: top;\n",
       "    }\n",
       "\n",
       "    .dataframe thead th {\n",
       "        text-align: right;\n",
       "    }\n",
       "</style>\n",
       "<table border=\"1\" class=\"dataframe\">\n",
       "  <thead>\n",
       "    <tr style=\"text-align: right;\">\n",
       "      <th></th>\n",
       "      <th>time</th>\n",
       "      <th>level_1</th>\n",
       "      <th>0</th>\n",
       "    </tr>\n",
       "  </thead>\n",
       "  <tbody>\n",
       "    <tr>\n",
       "      <th>245947</th>\n",
       "      <td>2016-12-31 23:44:59.993</td>\n",
       "      <td>3.15</td>\n",
       "      <td>0.0</td>\n",
       "    </tr>\n",
       "    <tr>\n",
       "      <th>245948</th>\n",
       "      <td>2016-12-31 23:44:59.993</td>\n",
       "      <td>4</td>\n",
       "      <td>0.0</td>\n",
       "    </tr>\n",
       "    <tr>\n",
       "      <th>245949</th>\n",
       "      <td>2016-12-31 23:44:59.993</td>\n",
       "      <td>5</td>\n",
       "      <td>0.0</td>\n",
       "    </tr>\n",
       "    <tr>\n",
       "      <th>245950</th>\n",
       "      <td>2016-12-31 23:44:59.993</td>\n",
       "      <td>7.2</td>\n",
       "      <td>0.0</td>\n",
       "    </tr>\n",
       "    <tr>\n",
       "      <th>245951</th>\n",
       "      <td>2016-12-31 23:44:59.993</td>\n",
       "      <td>9.2</td>\n",
       "      <td>0.0</td>\n",
       "    </tr>\n",
       "  </tbody>\n",
       "</table>\n",
       "</div>"
      ],
      "text/plain": [
       "                           time level_1    0\n",
       "245947  2016-12-31 23:44:59.993    3.15  0.0\n",
       "245948  2016-12-31 23:44:59.993       4  0.0\n",
       "245949  2016-12-31 23:44:59.993       5  0.0\n",
       "245950  2016-12-31 23:44:59.993     7.2  0.0\n",
       "245951  2016-12-31 23:44:59.993     9.2  0.0"
      ]
     },
     "execution_count": 8,
     "metadata": {},
     "output_type": "execute_result"
    }
   ],
   "source": [
    "vyroba_tr = pd.DataFrame(vyroba.set_index(\"time\").stack()).reset_index()\n",
    "vyroba_tr.tail()"
   ]
  },
  {
   "cell_type": "code",
   "execution_count": 9,
   "metadata": {},
   "outputs": [],
   "source": [
    "vyroba_tr.time = pd.to_datetime(vyroba_tr.time).dt.round('1s')\n",
    "vyroba_tr.level_1 = vyroba_tr.level_1.astype(float)\n",
    "df_final.timestamp = pd.to_datetime(df_final.timestamp)"
   ]
  },
  {
   "cell_type": "code",
   "execution_count": 10,
   "metadata": {},
   "outputs": [
    {
     "data": {
      "text/html": [
       "<div>\n",
       "<style scoped>\n",
       "    .dataframe tbody tr th:only-of-type {\n",
       "        vertical-align: middle;\n",
       "    }\n",
       "\n",
       "    .dataframe tbody tr th {\n",
       "        vertical-align: top;\n",
       "    }\n",
       "\n",
       "    .dataframe thead th {\n",
       "        text-align: right;\n",
       "    }\n",
       "</style>\n",
       "<table border=\"1\" class=\"dataframe\">\n",
       "  <thead>\n",
       "    <tr style=\"text-align: right;\">\n",
       "      <th></th>\n",
       "      <th>time</th>\n",
       "      <th>level_1</th>\n",
       "      <th>0</th>\n",
       "    </tr>\n",
       "  </thead>\n",
       "  <tbody>\n",
       "    <tr>\n",
       "      <th>0</th>\n",
       "      <td>2016-01-01</td>\n",
       "      <td>2.00</td>\n",
       "      <td>0.0</td>\n",
       "    </tr>\n",
       "    <tr>\n",
       "      <th>1</th>\n",
       "      <td>2016-01-01</td>\n",
       "      <td>2.50</td>\n",
       "      <td>0.0</td>\n",
       "    </tr>\n",
       "    <tr>\n",
       "      <th>2</th>\n",
       "      <td>2016-01-01</td>\n",
       "      <td>3.15</td>\n",
       "      <td>0.0</td>\n",
       "    </tr>\n",
       "    <tr>\n",
       "      <th>3</th>\n",
       "      <td>2016-01-01</td>\n",
       "      <td>4.00</td>\n",
       "      <td>0.0</td>\n",
       "    </tr>\n",
       "    <tr>\n",
       "      <th>4</th>\n",
       "      <td>2016-01-01</td>\n",
       "      <td>5.00</td>\n",
       "      <td>0.0</td>\n",
       "    </tr>\n",
       "  </tbody>\n",
       "</table>\n",
       "</div>"
      ],
      "text/plain": [
       "        time  level_1    0\n",
       "0 2016-01-01     2.00  0.0\n",
       "1 2016-01-01     2.50  0.0\n",
       "2 2016-01-01     3.15  0.0\n",
       "3 2016-01-01     4.00  0.0\n",
       "4 2016-01-01     5.00  0.0"
      ]
     },
     "execution_count": 10,
     "metadata": {},
     "output_type": "execute_result"
    }
   ],
   "source": [
    "vyroba_tr.head()"
   ]
  },
  {
   "cell_type": "code",
   "execution_count": 11,
   "metadata": {},
   "outputs": [],
   "source": [
    "df_final = df_final.merge(vyroba_tr[[\"time\",\"level_1\",0]], \n",
    "                          how=\"left\",\n",
    "                          left_on = [\"timestamp\",\"Inštalovaný výkon FVE (kWp)\"],\n",
    "                          right_on = [\"time\",\"level_1\"])"
   ]
  },
  {
   "cell_type": "code",
   "execution_count": 12,
   "metadata": {},
   "outputs": [],
   "source": [
    "df_final.drop([\"time\",\"level_1\",\"Číslo OM\"],axis = 1, inplace=True)"
   ]
  },
  {
   "cell_type": "code",
   "execution_count": 13,
   "metadata": {},
   "outputs": [
    {
     "data": {
      "text/plain": [
       "spotreba                       5245996\n",
       "om                             5245996\n",
       "timestamp                      5245996\n",
       "Druh tarify                    5245996\n",
       "Inštalovaný výkon FVE (kWp)    5245996\n",
       "0                              3489396\n",
       "dtype: int64"
      ]
     },
     "execution_count": 13,
     "metadata": {},
     "output_type": "execute_result"
    }
   ],
   "source": [
    "df_final.count()"
   ]
  },
  {
   "cell_type": "code",
   "execution_count": 14,
   "metadata": {},
   "outputs": [],
   "source": [
    "df_final.fillna(0,inplace = True)"
   ]
  },
  {
   "cell_type": "code",
   "execution_count": 15,
   "metadata": {},
   "outputs": [],
   "source": [
    "# df_final.head()\n",
    "df_final = df_final.rename({0: \"vyroba\", \n",
    "                            \"Inštalovaný výkon FVE (kWp)\":\"vykon\",\n",
    "                           \"Druh tarify\":\"tarifa\"}, axis=1)"
   ]
  },
  {
   "cell_type": "code",
   "execution_count": 16,
   "metadata": {},
   "outputs": [
    {
     "data": {
      "text/plain": [
       "150"
      ]
     },
     "execution_count": 16,
     "metadata": {},
     "output_type": "execute_result"
    }
   ],
   "source": [
    "len(df_final.om.unique())"
   ]
  },
  {
   "cell_type": "markdown",
   "metadata": {},
   "source": [
    "#### getting the diff for everyone everytime"
   ]
  },
  {
   "cell_type": "code",
   "execution_count": 17,
   "metadata": {},
   "outputs": [],
   "source": [
    "df_final[\"diff\"] = df_final.vyroba - df_final.spotreba\n",
    "\n",
    "# total_spotreba_per_day = df_with_day[[\"day\",\"spotreba\",\"vyroba\"]].groupby(\"day\")[[\"spotreba\",\"vyroba\"]].sum()"
   ]
  },
  {
   "cell_type": "code",
   "execution_count": 18,
   "metadata": {},
   "outputs": [
    {
     "data": {
      "text/plain": [
       "spotreba     5245996\n",
       "om           5245996\n",
       "timestamp    5245996\n",
       "tarifa       5245996\n",
       "vykon        5245996\n",
       "vyroba       5245996\n",
       "diff         5245996\n",
       "dtype: int64"
      ]
     },
     "execution_count": 18,
     "metadata": {},
     "output_type": "execute_result"
    }
   ],
   "source": [
    "df_final.count()"
   ]
  },
  {
   "cell_type": "code",
   "execution_count": 19,
   "metadata": {},
   "outputs": [
    {
     "data": {
      "text/html": [
       "<div>\n",
       "<style scoped>\n",
       "    .dataframe tbody tr th:only-of-type {\n",
       "        vertical-align: middle;\n",
       "    }\n",
       "\n",
       "    .dataframe tbody tr th {\n",
       "        vertical-align: top;\n",
       "    }\n",
       "\n",
       "    .dataframe thead th {\n",
       "        text-align: right;\n",
       "    }\n",
       "</style>\n",
       "<table border=\"1\" class=\"dataframe\">\n",
       "  <thead>\n",
       "    <tr style=\"text-align: right;\">\n",
       "      <th></th>\n",
       "      <th>spotreba</th>\n",
       "      <th>om</th>\n",
       "      <th>timestamp</th>\n",
       "      <th>tarifa</th>\n",
       "      <th>vykon</th>\n",
       "      <th>vyroba</th>\n",
       "      <th>diff</th>\n",
       "    </tr>\n",
       "  </thead>\n",
       "  <tbody>\n",
       "    <tr>\n",
       "      <th>0</th>\n",
       "      <td>0.211</td>\n",
       "      <td>1</td>\n",
       "      <td>2016-01-01 00:15:00</td>\n",
       "      <td>D2</td>\n",
       "      <td>2.0</td>\n",
       "      <td>0.0</td>\n",
       "      <td>-0.211</td>\n",
       "    </tr>\n",
       "    <tr>\n",
       "      <th>1</th>\n",
       "      <td>0.210</td>\n",
       "      <td>1</td>\n",
       "      <td>2016-01-01 00:30:00</td>\n",
       "      <td>D2</td>\n",
       "      <td>2.0</td>\n",
       "      <td>0.0</td>\n",
       "      <td>-0.210</td>\n",
       "    </tr>\n",
       "    <tr>\n",
       "      <th>2</th>\n",
       "      <td>0.210</td>\n",
       "      <td>1</td>\n",
       "      <td>2016-01-01 00:45:00</td>\n",
       "      <td>D2</td>\n",
       "      <td>2.0</td>\n",
       "      <td>0.0</td>\n",
       "      <td>-0.210</td>\n",
       "    </tr>\n",
       "    <tr>\n",
       "      <th>3</th>\n",
       "      <td>0.206</td>\n",
       "      <td>1</td>\n",
       "      <td>2016-01-01 01:00:00</td>\n",
       "      <td>D2</td>\n",
       "      <td>2.0</td>\n",
       "      <td>0.0</td>\n",
       "      <td>-0.206</td>\n",
       "    </tr>\n",
       "    <tr>\n",
       "      <th>4</th>\n",
       "      <td>0.205</td>\n",
       "      <td>1</td>\n",
       "      <td>2016-01-01 01:15:00</td>\n",
       "      <td>D2</td>\n",
       "      <td>2.0</td>\n",
       "      <td>0.0</td>\n",
       "      <td>-0.205</td>\n",
       "    </tr>\n",
       "  </tbody>\n",
       "</table>\n",
       "</div>"
      ],
      "text/plain": [
       "   spotreba  om           timestamp tarifa  vykon  vyroba   diff\n",
       "0     0.211   1 2016-01-01 00:15:00     D2    2.0     0.0 -0.211\n",
       "1     0.210   1 2016-01-01 00:30:00     D2    2.0     0.0 -0.210\n",
       "2     0.210   1 2016-01-01 00:45:00     D2    2.0     0.0 -0.210\n",
       "3     0.206   1 2016-01-01 01:00:00     D2    2.0     0.0 -0.206\n",
       "4     0.205   1 2016-01-01 01:15:00     D2    2.0     0.0 -0.205"
      ]
     },
     "execution_count": 19,
     "metadata": {},
     "output_type": "execute_result"
    }
   ],
   "source": [
    "df_final.head()"
   ]
  },
  {
   "cell_type": "markdown",
   "metadata": {},
   "source": [
    "#### percentages"
   ]
  },
  {
   "cell_type": "code",
   "execution_count": 20,
   "metadata": {},
   "outputs": [],
   "source": [
    "all_times = list(df_final.timestamp.unique())\n",
    "df_final[\"viac_spotreby\"] = 0\n",
    "df_final.loc[df_final[\"diff\"] <= 0, \"viac_spotreby\"] = 1"
   ]
  },
  {
   "cell_type": "code",
   "execution_count": 21,
   "metadata": {},
   "outputs": [],
   "source": [
    "temp_gr = df_final.groupby([\"timestamp\",\"viac_spotreby\",\"om\"])[[\"diff\"]].sum()"
   ]
  },
  {
   "cell_type": "code",
   "execution_count": 22,
   "metadata": {},
   "outputs": [],
   "source": [
    "temp_gr_pcts = temp_gr.groupby(level=[0,1]).apply(lambda x:\n",
    "                                                 100 * x / float(x.sum()))"
   ]
  },
  {
   "cell_type": "code",
   "execution_count": 23,
   "metadata": {},
   "outputs": [],
   "source": [
    "temp_gr_pcts = temp_gr_pcts.rename({\"diff\": \"percentage\"}, axis=1)\n",
    "temp_gr_pcts = temp_gr_pcts.reset_index()"
   ]
  },
  {
   "cell_type": "code",
   "execution_count": 24,
   "metadata": {},
   "outputs": [],
   "source": [
    "df_final = df_final.merge(temp_gr_pcts.reset_index(), how = \"left\", on = [\"timestamp\",\"om\"])"
   ]
  },
  {
   "cell_type": "code",
   "execution_count": 25,
   "metadata": {},
   "outputs": [
    {
     "data": {
      "text/html": [
       "<div>\n",
       "<style scoped>\n",
       "    .dataframe tbody tr th:only-of-type {\n",
       "        vertical-align: middle;\n",
       "    }\n",
       "\n",
       "    .dataframe tbody tr th {\n",
       "        vertical-align: top;\n",
       "    }\n",
       "\n",
       "    .dataframe thead th {\n",
       "        text-align: right;\n",
       "    }\n",
       "</style>\n",
       "<table border=\"1\" class=\"dataframe\">\n",
       "  <thead>\n",
       "    <tr style=\"text-align: right;\">\n",
       "      <th></th>\n",
       "      <th>spotreba</th>\n",
       "      <th>om</th>\n",
       "      <th>timestamp</th>\n",
       "      <th>tarifa</th>\n",
       "      <th>vykon</th>\n",
       "      <th>vyroba</th>\n",
       "      <th>diff</th>\n",
       "      <th>viac_spotreby_x</th>\n",
       "      <th>index</th>\n",
       "      <th>viac_spotreby_y</th>\n",
       "      <th>percentage</th>\n",
       "    </tr>\n",
       "  </thead>\n",
       "  <tbody>\n",
       "    <tr>\n",
       "      <th>0</th>\n",
       "      <td>0.211</td>\n",
       "      <td>1</td>\n",
       "      <td>2016-01-01 00:15:00</td>\n",
       "      <td>D2</td>\n",
       "      <td>2.0</td>\n",
       "      <td>0.0</td>\n",
       "      <td>-0.211</td>\n",
       "      <td>1</td>\n",
       "      <td>147</td>\n",
       "      <td>1</td>\n",
       "      <td>0.697163</td>\n",
       "    </tr>\n",
       "    <tr>\n",
       "      <th>1</th>\n",
       "      <td>0.210</td>\n",
       "      <td>1</td>\n",
       "      <td>2016-01-01 00:30:00</td>\n",
       "      <td>D2</td>\n",
       "      <td>2.0</td>\n",
       "      <td>0.0</td>\n",
       "      <td>-0.210</td>\n",
       "      <td>1</td>\n",
       "      <td>294</td>\n",
       "      <td>1</td>\n",
       "      <td>0.696575</td>\n",
       "    </tr>\n",
       "    <tr>\n",
       "      <th>2</th>\n",
       "      <td>0.210</td>\n",
       "      <td>1</td>\n",
       "      <td>2016-01-01 00:45:00</td>\n",
       "      <td>D2</td>\n",
       "      <td>2.0</td>\n",
       "      <td>0.0</td>\n",
       "      <td>-0.210</td>\n",
       "      <td>1</td>\n",
       "      <td>441</td>\n",
       "      <td>1</td>\n",
       "      <td>0.696899</td>\n",
       "    </tr>\n",
       "    <tr>\n",
       "      <th>3</th>\n",
       "      <td>0.206</td>\n",
       "      <td>1</td>\n",
       "      <td>2016-01-01 01:00:00</td>\n",
       "      <td>D2</td>\n",
       "      <td>2.0</td>\n",
       "      <td>0.0</td>\n",
       "      <td>-0.206</td>\n",
       "      <td>1</td>\n",
       "      <td>588</td>\n",
       "      <td>1</td>\n",
       "      <td>0.668940</td>\n",
       "    </tr>\n",
       "    <tr>\n",
       "      <th>4</th>\n",
       "      <td>0.205</td>\n",
       "      <td>1</td>\n",
       "      <td>2016-01-01 01:15:00</td>\n",
       "      <td>D2</td>\n",
       "      <td>2.0</td>\n",
       "      <td>0.0</td>\n",
       "      <td>-0.205</td>\n",
       "      <td>1</td>\n",
       "      <td>735</td>\n",
       "      <td>1</td>\n",
       "      <td>0.692088</td>\n",
       "    </tr>\n",
       "  </tbody>\n",
       "</table>\n",
       "</div>"
      ],
      "text/plain": [
       "   spotreba  om           timestamp tarifa  vykon  vyroba   diff  \\\n",
       "0     0.211   1 2016-01-01 00:15:00     D2    2.0     0.0 -0.211   \n",
       "1     0.210   1 2016-01-01 00:30:00     D2    2.0     0.0 -0.210   \n",
       "2     0.210   1 2016-01-01 00:45:00     D2    2.0     0.0 -0.210   \n",
       "3     0.206   1 2016-01-01 01:00:00     D2    2.0     0.0 -0.206   \n",
       "4     0.205   1 2016-01-01 01:15:00     D2    2.0     0.0 -0.205   \n",
       "\n",
       "   viac_spotreby_x  index  viac_spotreby_y  percentage  \n",
       "0                1    147                1    0.697163  \n",
       "1                1    294                1    0.696575  \n",
       "2                1    441                1    0.696899  \n",
       "3                1    588                1    0.668940  \n",
       "4                1    735                1    0.692088  "
      ]
     },
     "execution_count": 25,
     "metadata": {},
     "output_type": "execute_result"
    }
   ],
   "source": [
    "df_final.head()"
   ]
  },
  {
   "cell_type": "code",
   "execution_count": 26,
   "metadata": {},
   "outputs": [],
   "source": [
    "df_final = df_final.rename({\"viac_spotreby_x\": \"viac_spotreby\"}, axis=1)\n",
    "df_final.drop(\"viac_spotreby_y\", axis = 1, inplace=True)"
   ]
  },
  {
   "cell_type": "code",
   "execution_count": 27,
   "metadata": {},
   "outputs": [],
   "source": [
    "# total_energy_left = df_final[[\"timestamp\",\"diff\"]].groupby(\"timestamp\").sum(\"diff\")"
   ]
  },
  {
   "cell_type": "code",
   "execution_count": 34,
   "metadata": {},
   "outputs": [],
   "source": [
    "# only those with profit \n",
    "# df_with_day_profit = temp[temp[\"diff\"] > 0]\n",
    "# df_with_day_loss = temp[temp[\"diff\"] <= 0]\n",
    "# df_with_day_loss[\"percentage\"] = df_with_day_loss[\"diff\"] / df_with_day_loss[\"diff\"].sum()\n",
    "# df_with_day_profit[\"percentage\"] = df_with_day_profit[\"diff\"] / df_with_day_profit[\"diff\"].sum()\n",
    "\n",
    "# total_energy_left = temp[temp[\"diff\"] > 0][\"diff\"].sum()\n",
    "# total_energy_needed = -temp[temp[\"diff\"] <= 0][\"diff\"].sum()\n",
    "total_energy_left = df_final[[\"timestamp\",\"viac_spotreby\",\"diff\"]].groupby([\"timestamp\",\"viac_spotreby\"]).sum()\n",
    "index = pd.MultiIndex.from_product([all_times, [0,1]], names = [\"timestamp\", \"viac_spotreby\"])\n",
    "all_comb = pd.DataFrame(index = index).reset_index()\n",
    "\n",
    "total_energy_left = all_comb.merge(total_energy_left.reset_index(), how = \"left\", on = [\"timestamp\",\"viac_spotreby\"])\n",
    "\n",
    "total_energy_left.fillna(0, inplace=True)\n",
    "\n",
    "# bad_guys = list(temp[temp[\"diff\"] < 0].om.unique())"
   ]
  },
  {
   "cell_type": "code",
   "execution_count": 35,
   "metadata": {},
   "outputs": [
    {
     "data": {
      "text/html": [
       "<div>\n",
       "<style scoped>\n",
       "    .dataframe tbody tr th:only-of-type {\n",
       "        vertical-align: middle;\n",
       "    }\n",
       "\n",
       "    .dataframe tbody tr th {\n",
       "        vertical-align: top;\n",
       "    }\n",
       "\n",
       "    .dataframe thead th {\n",
       "        text-align: right;\n",
       "    }\n",
       "</style>\n",
       "<table border=\"1\" class=\"dataframe\">\n",
       "  <thead>\n",
       "    <tr style=\"text-align: right;\">\n",
       "      <th></th>\n",
       "      <th>timestamp</th>\n",
       "      <th>viac_spotreby</th>\n",
       "      <th>diff</th>\n",
       "    </tr>\n",
       "  </thead>\n",
       "  <tbody>\n",
       "    <tr>\n",
       "      <th>0</th>\n",
       "      <td>2016-01-01 00:15:00</td>\n",
       "      <td>0</td>\n",
       "      <td>0.0000</td>\n",
       "    </tr>\n",
       "    <tr>\n",
       "      <th>1</th>\n",
       "      <td>2016-01-01 00:15:00</td>\n",
       "      <td>1</td>\n",
       "      <td>-30.2655</td>\n",
       "    </tr>\n",
       "    <tr>\n",
       "      <th>2</th>\n",
       "      <td>2016-01-01 00:30:00</td>\n",
       "      <td>0</td>\n",
       "      <td>0.0000</td>\n",
       "    </tr>\n",
       "    <tr>\n",
       "      <th>3</th>\n",
       "      <td>2016-01-01 00:30:00</td>\n",
       "      <td>1</td>\n",
       "      <td>-30.1475</td>\n",
       "    </tr>\n",
       "    <tr>\n",
       "      <th>4</th>\n",
       "      <td>2016-01-01 00:45:00</td>\n",
       "      <td>0</td>\n",
       "      <td>0.0000</td>\n",
       "    </tr>\n",
       "  </tbody>\n",
       "</table>\n",
       "</div>"
      ],
      "text/plain": [
       "            timestamp  viac_spotreby     diff\n",
       "0 2016-01-01 00:15:00              0   0.0000\n",
       "1 2016-01-01 00:15:00              1 -30.2655\n",
       "2 2016-01-01 00:30:00              0   0.0000\n",
       "3 2016-01-01 00:30:00              1 -30.1475\n",
       "4 2016-01-01 00:45:00              0   0.0000"
      ]
     },
     "execution_count": 35,
     "metadata": {},
     "output_type": "execute_result"
    }
   ],
   "source": [
    "total_energy_left.head()"
   ]
  },
  {
   "cell_type": "code",
   "execution_count": 36,
   "metadata": {},
   "outputs": [
    {
     "data": {
      "text/html": [
       "<div>\n",
       "<style scoped>\n",
       "    .dataframe tbody tr th:only-of-type {\n",
       "        vertical-align: middle;\n",
       "    }\n",
       "\n",
       "    .dataframe tbody tr th {\n",
       "        vertical-align: top;\n",
       "    }\n",
       "\n",
       "    .dataframe thead th {\n",
       "        text-align: right;\n",
       "    }\n",
       "</style>\n",
       "<table border=\"1\" class=\"dataframe\">\n",
       "  <thead>\n",
       "    <tr style=\"text-align: right;\">\n",
       "      <th></th>\n",
       "      <th>timestamp</th>\n",
       "      <th>viac_spotreby_total</th>\n",
       "    </tr>\n",
       "  </thead>\n",
       "  <tbody>\n",
       "    <tr>\n",
       "      <th>1</th>\n",
       "      <td>2016-01-01 00:15:00</td>\n",
       "      <td>1</td>\n",
       "    </tr>\n",
       "    <tr>\n",
       "      <th>3</th>\n",
       "      <td>2016-01-01 00:30:00</td>\n",
       "      <td>1</td>\n",
       "    </tr>\n",
       "    <tr>\n",
       "      <th>5</th>\n",
       "      <td>2016-01-01 00:45:00</td>\n",
       "      <td>1</td>\n",
       "    </tr>\n",
       "    <tr>\n",
       "      <th>7</th>\n",
       "      <td>2016-01-01 01:00:00</td>\n",
       "      <td>1</td>\n",
       "    </tr>\n",
       "    <tr>\n",
       "      <th>9</th>\n",
       "      <td>2016-01-01 01:15:00</td>\n",
       "      <td>1</td>\n",
       "    </tr>\n",
       "  </tbody>\n",
       "</table>\n",
       "</div>"
      ],
      "text/plain": [
       "            timestamp  viac_spotreby_total\n",
       "1 2016-01-01 00:15:00                    1\n",
       "3 2016-01-01 00:30:00                    1\n",
       "5 2016-01-01 00:45:00                    1\n",
       "7 2016-01-01 01:00:00                    1\n",
       "9 2016-01-01 01:15:00                    1"
      ]
     },
     "execution_count": 36,
     "metadata": {},
     "output_type": "execute_result"
    }
   ],
   "source": [
    "total_energy_left[\"diff_abs\"] = total_energy_left[\"diff\"].abs()\n",
    "temp_max = total_energy_left.groupby([\"timestamp\"])[[\"diff_abs\"]].max()\n",
    "temp_max[\"ind\"] = \"value\"\n",
    "temp_max = temp_max.reset_index()\n",
    "\n",
    "temp_max = total_energy_left.merge(temp_max,\n",
    "                       how = \"left\",\n",
    "                                  on = [\"timestamp\",\"diff_abs\"])\n",
    "\n",
    "temp_max = temp_max[temp_max.ind.notnull()][[\"timestamp\",\"viac_spotreby\"]]\n",
    "temp_max.rename({\"viac_spotreby\":\"viac_spotreby_total\"},axis = 1, inplace=True)\n",
    "temp_max.head()"
   ]
  },
  {
   "cell_type": "code",
   "execution_count": 37,
   "metadata": {},
   "outputs": [],
   "source": [
    "total_energy_left.rename({\"diff\": \"diff_total\"},\n",
    "                                            axis =1,\n",
    "                                            inplace = True)"
   ]
  },
  {
   "cell_type": "code",
   "execution_count": 39,
   "metadata": {},
   "outputs": [],
   "source": [
    "df_final = df_final.merge(total_energy_left[[\"timestamp\",\"viac_spotreby\",\"diff_total\"]], how = \"left\", on = [\"timestamp\",\"viac_spotreby\"])"
   ]
  },
  {
   "cell_type": "code",
   "execution_count": 40,
   "metadata": {},
   "outputs": [
    {
     "data": {
      "text/html": [
       "<div>\n",
       "<style scoped>\n",
       "    .dataframe tbody tr th:only-of-type {\n",
       "        vertical-align: middle;\n",
       "    }\n",
       "\n",
       "    .dataframe tbody tr th {\n",
       "        vertical-align: top;\n",
       "    }\n",
       "\n",
       "    .dataframe thead th {\n",
       "        text-align: right;\n",
       "    }\n",
       "</style>\n",
       "<table border=\"1\" class=\"dataframe\">\n",
       "  <thead>\n",
       "    <tr style=\"text-align: right;\">\n",
       "      <th></th>\n",
       "      <th>spotreba</th>\n",
       "      <th>om</th>\n",
       "      <th>timestamp</th>\n",
       "      <th>tarifa</th>\n",
       "      <th>vykon</th>\n",
       "      <th>vyroba</th>\n",
       "      <th>diff</th>\n",
       "      <th>viac_spotreby</th>\n",
       "      <th>index</th>\n",
       "      <th>percentage</th>\n",
       "      <th>diff_total</th>\n",
       "    </tr>\n",
       "  </thead>\n",
       "  <tbody>\n",
       "    <tr>\n",
       "      <th>0</th>\n",
       "      <td>0.211</td>\n",
       "      <td>1</td>\n",
       "      <td>2016-01-01 00:15:00</td>\n",
       "      <td>D2</td>\n",
       "      <td>2.0</td>\n",
       "      <td>0.0</td>\n",
       "      <td>-0.211</td>\n",
       "      <td>1</td>\n",
       "      <td>147</td>\n",
       "      <td>0.697163</td>\n",
       "      <td>-30.2655</td>\n",
       "    </tr>\n",
       "    <tr>\n",
       "      <th>1</th>\n",
       "      <td>0.210</td>\n",
       "      <td>1</td>\n",
       "      <td>2016-01-01 00:30:00</td>\n",
       "      <td>D2</td>\n",
       "      <td>2.0</td>\n",
       "      <td>0.0</td>\n",
       "      <td>-0.210</td>\n",
       "      <td>1</td>\n",
       "      <td>294</td>\n",
       "      <td>0.696575</td>\n",
       "      <td>-30.1475</td>\n",
       "    </tr>\n",
       "    <tr>\n",
       "      <th>2</th>\n",
       "      <td>0.210</td>\n",
       "      <td>1</td>\n",
       "      <td>2016-01-01 00:45:00</td>\n",
       "      <td>D2</td>\n",
       "      <td>2.0</td>\n",
       "      <td>0.0</td>\n",
       "      <td>-0.210</td>\n",
       "      <td>1</td>\n",
       "      <td>441</td>\n",
       "      <td>0.696899</td>\n",
       "      <td>-30.1335</td>\n",
       "    </tr>\n",
       "    <tr>\n",
       "      <th>3</th>\n",
       "      <td>0.206</td>\n",
       "      <td>1</td>\n",
       "      <td>2016-01-01 01:00:00</td>\n",
       "      <td>D2</td>\n",
       "      <td>2.0</td>\n",
       "      <td>0.0</td>\n",
       "      <td>-0.206</td>\n",
       "      <td>1</td>\n",
       "      <td>588</td>\n",
       "      <td>0.668940</td>\n",
       "      <td>-30.7950</td>\n",
       "    </tr>\n",
       "    <tr>\n",
       "      <th>4</th>\n",
       "      <td>0.205</td>\n",
       "      <td>1</td>\n",
       "      <td>2016-01-01 01:15:00</td>\n",
       "      <td>D2</td>\n",
       "      <td>2.0</td>\n",
       "      <td>0.0</td>\n",
       "      <td>-0.205</td>\n",
       "      <td>1</td>\n",
       "      <td>735</td>\n",
       "      <td>0.692088</td>\n",
       "      <td>-29.6205</td>\n",
       "    </tr>\n",
       "  </tbody>\n",
       "</table>\n",
       "</div>"
      ],
      "text/plain": [
       "   spotreba  om           timestamp tarifa  vykon  vyroba   diff  \\\n",
       "0     0.211   1 2016-01-01 00:15:00     D2    2.0     0.0 -0.211   \n",
       "1     0.210   1 2016-01-01 00:30:00     D2    2.0     0.0 -0.210   \n",
       "2     0.210   1 2016-01-01 00:45:00     D2    2.0     0.0 -0.210   \n",
       "3     0.206   1 2016-01-01 01:00:00     D2    2.0     0.0 -0.206   \n",
       "4     0.205   1 2016-01-01 01:15:00     D2    2.0     0.0 -0.205   \n",
       "\n",
       "   viac_spotreby  index  percentage  diff_total  \n",
       "0              1    147    0.697163    -30.2655  \n",
       "1              1    294    0.696575    -30.1475  \n",
       "2              1    441    0.696899    -30.1335  \n",
       "3              1    588    0.668940    -30.7950  \n",
       "4              1    735    0.692088    -29.6205  "
      ]
     },
     "execution_count": 40,
     "metadata": {},
     "output_type": "execute_result"
    }
   ],
   "source": [
    "df_final.head()"
   ]
  },
  {
   "cell_type": "code",
   "execution_count": null,
   "metadata": {},
   "outputs": [],
   "source": []
  },
  {
   "cell_type": "code",
   "execution_count": 309,
   "metadata": {},
   "outputs": [],
   "source": [
    "res = df_final.copy(deep=True)"
   ]
  },
  {
   "cell_type": "code",
   "execution_count": 310,
   "metadata": {},
   "outputs": [],
   "source": [
    "res = res.merge(temp_max, on = \"timestamp\")"
   ]
  },
  {
   "cell_type": "markdown",
   "metadata": {},
   "source": [
    "#### what to buy and sell to community"
   ]
  },
  {
   "cell_type": "code",
   "execution_count": 311,
   "metadata": {},
   "outputs": [],
   "source": [
    "res = res.merge(total_energy_left[[\"timestamp\",\"viac_spotreby\",\"diff_total\"]].set_index([\"timestamp\",\"viac_spotreby\"]).unstack().reset_index(),\n",
    "                how=\"left\",\n",
    "                on = \"timestamp\"\n",
    "               )"
   ]
  },
  {
   "cell_type": "code",
   "execution_count": 312,
   "metadata": {},
   "outputs": [
    {
     "data": {
      "text/html": [
       "<div>\n",
       "<style scoped>\n",
       "    .dataframe tbody tr th:only-of-type {\n",
       "        vertical-align: middle;\n",
       "    }\n",
       "\n",
       "    .dataframe tbody tr th {\n",
       "        vertical-align: top;\n",
       "    }\n",
       "\n",
       "    .dataframe thead th {\n",
       "        text-align: right;\n",
       "    }\n",
       "</style>\n",
       "<table border=\"1\" class=\"dataframe\">\n",
       "  <thead>\n",
       "    <tr style=\"text-align: right;\">\n",
       "      <th></th>\n",
       "      <th>spotreba</th>\n",
       "      <th>om</th>\n",
       "      <th>timestamp</th>\n",
       "      <th>tarifa</th>\n",
       "      <th>vykon</th>\n",
       "      <th>vyroba</th>\n",
       "      <th>diff</th>\n",
       "      <th>viac_spotreby</th>\n",
       "      <th>index</th>\n",
       "      <th>percentage</th>\n",
       "      <th>diff_total</th>\n",
       "      <th>viac_spotreby_total</th>\n",
       "      <th>(diff_total, 0)</th>\n",
       "      <th>(diff_total, 1)</th>\n",
       "    </tr>\n",
       "  </thead>\n",
       "  <tbody>\n",
       "    <tr>\n",
       "      <th>0</th>\n",
       "      <td>0.211</td>\n",
       "      <td>1</td>\n",
       "      <td>2016-01-01 00:15:00</td>\n",
       "      <td>D2</td>\n",
       "      <td>2.0</td>\n",
       "      <td>0.0</td>\n",
       "      <td>-0.211</td>\n",
       "      <td>1</td>\n",
       "      <td>147</td>\n",
       "      <td>0.697163</td>\n",
       "      <td>-30.2655</td>\n",
       "      <td>1</td>\n",
       "      <td>0.0</td>\n",
       "      <td>-30.2655</td>\n",
       "    </tr>\n",
       "    <tr>\n",
       "      <th>1</th>\n",
       "      <td>0.060</td>\n",
       "      <td>2</td>\n",
       "      <td>2016-01-01 00:15:00</td>\n",
       "      <td>D2</td>\n",
       "      <td>7.2</td>\n",
       "      <td>0.0</td>\n",
       "      <td>-0.060</td>\n",
       "      <td>1</td>\n",
       "      <td>148</td>\n",
       "      <td>0.198246</td>\n",
       "      <td>-30.2655</td>\n",
       "      <td>1</td>\n",
       "      <td>0.0</td>\n",
       "      <td>-30.2655</td>\n",
       "    </tr>\n",
       "    <tr>\n",
       "      <th>2</th>\n",
       "      <td>0.292</td>\n",
       "      <td>3</td>\n",
       "      <td>2016-01-01 00:15:00</td>\n",
       "      <td>D2</td>\n",
       "      <td>2.0</td>\n",
       "      <td>0.0</td>\n",
       "      <td>-0.292</td>\n",
       "      <td>1</td>\n",
       "      <td>149</td>\n",
       "      <td>0.964795</td>\n",
       "      <td>-30.2655</td>\n",
       "      <td>1</td>\n",
       "      <td>0.0</td>\n",
       "      <td>-30.2655</td>\n",
       "    </tr>\n",
       "    <tr>\n",
       "      <th>3</th>\n",
       "      <td>1.535</td>\n",
       "      <td>4</td>\n",
       "      <td>2016-01-01 00:15:00</td>\n",
       "      <td>D1</td>\n",
       "      <td>0.0</td>\n",
       "      <td>0.0</td>\n",
       "      <td>-1.535</td>\n",
       "      <td>1</td>\n",
       "      <td>150</td>\n",
       "      <td>5.071781</td>\n",
       "      <td>-30.2655</td>\n",
       "      <td>1</td>\n",
       "      <td>0.0</td>\n",
       "      <td>-30.2655</td>\n",
       "    </tr>\n",
       "    <tr>\n",
       "      <th>4</th>\n",
       "      <td>0.460</td>\n",
       "      <td>5</td>\n",
       "      <td>2016-01-01 00:15:00</td>\n",
       "      <td>D4</td>\n",
       "      <td>9.2</td>\n",
       "      <td>0.0</td>\n",
       "      <td>-0.460</td>\n",
       "      <td>1</td>\n",
       "      <td>151</td>\n",
       "      <td>1.519882</td>\n",
       "      <td>-30.2655</td>\n",
       "      <td>1</td>\n",
       "      <td>0.0</td>\n",
       "      <td>-30.2655</td>\n",
       "    </tr>\n",
       "  </tbody>\n",
       "</table>\n",
       "</div>"
      ],
      "text/plain": [
       "   spotreba  om           timestamp tarifa  vykon  vyroba   diff  \\\n",
       "0     0.211   1 2016-01-01 00:15:00     D2    2.0     0.0 -0.211   \n",
       "1     0.060   2 2016-01-01 00:15:00     D2    7.2     0.0 -0.060   \n",
       "2     0.292   3 2016-01-01 00:15:00     D2    2.0     0.0 -0.292   \n",
       "3     1.535   4 2016-01-01 00:15:00     D1    0.0     0.0 -1.535   \n",
       "4     0.460   5 2016-01-01 00:15:00     D4    9.2     0.0 -0.460   \n",
       "\n",
       "   viac_spotreby  index  percentage  diff_total  viac_spotreby_total  \\\n",
       "0              1    147    0.697163    -30.2655                    1   \n",
       "1              1    148    0.198246    -30.2655                    1   \n",
       "2              1    149    0.964795    -30.2655                    1   \n",
       "3              1    150    5.071781    -30.2655                    1   \n",
       "4              1    151    1.519882    -30.2655                    1   \n",
       "\n",
       "   (diff_total, 0)  (diff_total, 1)  \n",
       "0              0.0         -30.2655  \n",
       "1              0.0         -30.2655  \n",
       "2              0.0         -30.2655  \n",
       "3              0.0         -30.2655  \n",
       "4              0.0         -30.2655  "
      ]
     },
     "execution_count": 312,
     "metadata": {},
     "output_type": "execute_result"
    }
   ],
   "source": [
    "res.head()"
   ]
  },
  {
   "cell_type": "code",
   "execution_count": 313,
   "metadata": {},
   "outputs": [],
   "source": [
    "res.rename({res.columns[-2]:\"total_produced\"}, axis = 1, inplace = True)\n",
    "res.rename({res.columns[-1]:\"total_spent\"}, axis = 1, inplace = True)"
   ]
  },
  {
   "cell_type": "code",
   "execution_count": 314,
   "metadata": {},
   "outputs": [],
   "source": [
    "res[\"nakup_from_community\"] = 0\n",
    "res.loc[(res.viac_spotreby == 1) & (res.viac_spotreby_total == 1), \"nakup_from_community\"] = \\\n",
    "        (res.loc[(res.viac_spotreby == 1) & (res.viac_spotreby_total == 1)].percentage / 100 ) * \\\n",
    "         res.loc[(res.viac_spotreby == 1) & (res.viac_spotreby_total == 1)].total_produced\n",
    "        \n",
    "\n",
    "res.loc[(res.viac_spotreby == 1) & (res.viac_spotreby_total == 0), \"nakup_from_community\"] = \\\n",
    "        -res.loc[(res.viac_spotreby == 1) & (res.viac_spotreby_total == 0)][\"diff\"]\n",
    "\n",
    "\n",
    "res[\"nakup_from_network\"] = 0\n",
    "res.loc[res.viac_spotreby == 1, \"nakup_from_network\"] = \\\n",
    "- res.loc[res.viac_spotreby == 1][\"diff\"] - res.loc[res.viac_spotreby == 1][\"nakup_from_community\"]\n",
    "\n",
    "    \n",
    "res[\"predaj_to_community\"] = 0\n",
    "res.loc[(res.viac_spotreby == 0) & (res.viac_spotreby_total == 0), \"predaj_to_community\"] = \\\n",
    "        (res.loc[(res.viac_spotreby == 0) & (res.viac_spotreby_total == 0)].percentage / 100 ) * \\\n",
    "         - res.loc[(res.viac_spotreby == 0) & (res.viac_spotreby_total == 0)].total_spent\n",
    "\n",
    "res.loc[(res.viac_spotreby == 0) & (res.viac_spotreby_total == 1), \"predaj_to_community\"] = \\\n",
    "        res.loc[(res.viac_spotreby == 0) & (res.viac_spotreby_total == 1)][\"diff\"]\n",
    "\n",
    "    \n",
    "res[\"predaj_to_network\"] = 0\n",
    "res.loc[res.viac_spotreby == 0, \"predaj_to_network\"] = \\\n",
    "         res.loc[res.viac_spotreby == 0][\"diff\"] - res.loc[res.viac_spotreby == 0][\"predaj_to_community\"]"
   ]
  },
  {
   "cell_type": "code",
   "execution_count": null,
   "metadata": {},
   "outputs": [],
   "source": []
  },
  {
   "cell_type": "code",
   "execution_count": 315,
   "metadata": {},
   "outputs": [],
   "source": [
    "res = res.drop(\"index\", axis = 1)"
   ]
  },
  {
   "cell_type": "code",
   "execution_count": 316,
   "metadata": {},
   "outputs": [
    {
     "data": {
      "text/html": [
       "<div>\n",
       "<style scoped>\n",
       "    .dataframe tbody tr th:only-of-type {\n",
       "        vertical-align: middle;\n",
       "    }\n",
       "\n",
       "    .dataframe tbody tr th {\n",
       "        vertical-align: top;\n",
       "    }\n",
       "\n",
       "    .dataframe thead th {\n",
       "        text-align: right;\n",
       "    }\n",
       "</style>\n",
       "<table border=\"1\" class=\"dataframe\">\n",
       "  <thead>\n",
       "    <tr style=\"text-align: right;\">\n",
       "      <th></th>\n",
       "      <th>spotreba</th>\n",
       "      <th>om</th>\n",
       "      <th>timestamp</th>\n",
       "      <th>tarifa</th>\n",
       "      <th>vykon</th>\n",
       "      <th>vyroba</th>\n",
       "      <th>diff</th>\n",
       "      <th>viac_spotreby</th>\n",
       "      <th>percentage</th>\n",
       "      <th>diff_total</th>\n",
       "      <th>viac_spotreby_total</th>\n",
       "      <th>total_produced</th>\n",
       "      <th>total_spent</th>\n",
       "      <th>nakup_from_community</th>\n",
       "      <th>nakup_from_network</th>\n",
       "      <th>predaj_to_community</th>\n",
       "      <th>predaj_to_network</th>\n",
       "    </tr>\n",
       "  </thead>\n",
       "  <tbody>\n",
       "    <tr>\n",
       "      <th>0</th>\n",
       "      <td>0.211</td>\n",
       "      <td>1</td>\n",
       "      <td>2016-01-01 00:15:00</td>\n",
       "      <td>D2</td>\n",
       "      <td>2.0</td>\n",
       "      <td>0.0</td>\n",
       "      <td>-0.211</td>\n",
       "      <td>1</td>\n",
       "      <td>0.697163</td>\n",
       "      <td>-30.2655</td>\n",
       "      <td>1</td>\n",
       "      <td>0.0</td>\n",
       "      <td>-30.2655</td>\n",
       "      <td>0.0</td>\n",
       "      <td>0.211</td>\n",
       "      <td>0.0</td>\n",
       "      <td>0.0</td>\n",
       "    </tr>\n",
       "    <tr>\n",
       "      <th>1</th>\n",
       "      <td>0.060</td>\n",
       "      <td>2</td>\n",
       "      <td>2016-01-01 00:15:00</td>\n",
       "      <td>D2</td>\n",
       "      <td>7.2</td>\n",
       "      <td>0.0</td>\n",
       "      <td>-0.060</td>\n",
       "      <td>1</td>\n",
       "      <td>0.198246</td>\n",
       "      <td>-30.2655</td>\n",
       "      <td>1</td>\n",
       "      <td>0.0</td>\n",
       "      <td>-30.2655</td>\n",
       "      <td>0.0</td>\n",
       "      <td>0.060</td>\n",
       "      <td>0.0</td>\n",
       "      <td>0.0</td>\n",
       "    </tr>\n",
       "    <tr>\n",
       "      <th>2</th>\n",
       "      <td>0.292</td>\n",
       "      <td>3</td>\n",
       "      <td>2016-01-01 00:15:00</td>\n",
       "      <td>D2</td>\n",
       "      <td>2.0</td>\n",
       "      <td>0.0</td>\n",
       "      <td>-0.292</td>\n",
       "      <td>1</td>\n",
       "      <td>0.964795</td>\n",
       "      <td>-30.2655</td>\n",
       "      <td>1</td>\n",
       "      <td>0.0</td>\n",
       "      <td>-30.2655</td>\n",
       "      <td>0.0</td>\n",
       "      <td>0.292</td>\n",
       "      <td>0.0</td>\n",
       "      <td>0.0</td>\n",
       "    </tr>\n",
       "    <tr>\n",
       "      <th>3</th>\n",
       "      <td>1.535</td>\n",
       "      <td>4</td>\n",
       "      <td>2016-01-01 00:15:00</td>\n",
       "      <td>D1</td>\n",
       "      <td>0.0</td>\n",
       "      <td>0.0</td>\n",
       "      <td>-1.535</td>\n",
       "      <td>1</td>\n",
       "      <td>5.071781</td>\n",
       "      <td>-30.2655</td>\n",
       "      <td>1</td>\n",
       "      <td>0.0</td>\n",
       "      <td>-30.2655</td>\n",
       "      <td>0.0</td>\n",
       "      <td>1.535</td>\n",
       "      <td>0.0</td>\n",
       "      <td>0.0</td>\n",
       "    </tr>\n",
       "    <tr>\n",
       "      <th>4</th>\n",
       "      <td>0.460</td>\n",
       "      <td>5</td>\n",
       "      <td>2016-01-01 00:15:00</td>\n",
       "      <td>D4</td>\n",
       "      <td>9.2</td>\n",
       "      <td>0.0</td>\n",
       "      <td>-0.460</td>\n",
       "      <td>1</td>\n",
       "      <td>1.519882</td>\n",
       "      <td>-30.2655</td>\n",
       "      <td>1</td>\n",
       "      <td>0.0</td>\n",
       "      <td>-30.2655</td>\n",
       "      <td>0.0</td>\n",
       "      <td>0.460</td>\n",
       "      <td>0.0</td>\n",
       "      <td>0.0</td>\n",
       "    </tr>\n",
       "  </tbody>\n",
       "</table>\n",
       "</div>"
      ],
      "text/plain": [
       "   spotreba  om           timestamp tarifa  vykon  vyroba   diff  \\\n",
       "0     0.211   1 2016-01-01 00:15:00     D2    2.0     0.0 -0.211   \n",
       "1     0.060   2 2016-01-01 00:15:00     D2    7.2     0.0 -0.060   \n",
       "2     0.292   3 2016-01-01 00:15:00     D2    2.0     0.0 -0.292   \n",
       "3     1.535   4 2016-01-01 00:15:00     D1    0.0     0.0 -1.535   \n",
       "4     0.460   5 2016-01-01 00:15:00     D4    9.2     0.0 -0.460   \n",
       "\n",
       "   viac_spotreby  percentage  diff_total  viac_spotreby_total  total_produced  \\\n",
       "0              1    0.697163    -30.2655                    1             0.0   \n",
       "1              1    0.198246    -30.2655                    1             0.0   \n",
       "2              1    0.964795    -30.2655                    1             0.0   \n",
       "3              1    5.071781    -30.2655                    1             0.0   \n",
       "4              1    1.519882    -30.2655                    1             0.0   \n",
       "\n",
       "   total_spent  nakup_from_community  nakup_from_network  predaj_to_community  \\\n",
       "0     -30.2655                   0.0               0.211                  0.0   \n",
       "1     -30.2655                   0.0               0.060                  0.0   \n",
       "2     -30.2655                   0.0               0.292                  0.0   \n",
       "3     -30.2655                   0.0               1.535                  0.0   \n",
       "4     -30.2655                   0.0               0.460                  0.0   \n",
       "\n",
       "   predaj_to_network  \n",
       "0                0.0  \n",
       "1                0.0  \n",
       "2                0.0  \n",
       "3                0.0  \n",
       "4                0.0  "
      ]
     },
     "execution_count": 316,
     "metadata": {},
     "output_type": "execute_result"
    }
   ],
   "source": [
    "res.head()"
   ]
  },
  {
   "cell_type": "code",
   "execution_count": 211,
   "metadata": {},
   "outputs": [],
   "source": [
    "# res.to_csv(data_path + \"data_prepared_for_dashboard.csv\", sep = \";\", index = False)"
   ]
  },
  {
   "cell_type": "code",
   "execution_count": null,
   "metadata": {},
   "outputs": [],
   "source": []
  },
  {
   "cell_type": "markdown",
   "metadata": {},
   "source": [
    "#### Add Prices"
   ]
  },
  {
   "cell_type": "code",
   "execution_count": 317,
   "metadata": {},
   "outputs": [],
   "source": [
    "price_zo_siete = pd.read_csv(data_path+\"price_zo_siete.csv\",sep = \";\")"
   ]
  },
  {
   "cell_type": "code",
   "execution_count": 318,
   "metadata": {},
   "outputs": [
    {
     "data": {
      "text/html": [
       "<div>\n",
       "<style scoped>\n",
       "    .dataframe tbody tr th:only-of-type {\n",
       "        vertical-align: middle;\n",
       "    }\n",
       "\n",
       "    .dataframe tbody tr th {\n",
       "        vertical-align: top;\n",
       "    }\n",
       "\n",
       "    .dataframe thead th {\n",
       "        text-align: right;\n",
       "    }\n",
       "</style>\n",
       "<table border=\"1\" class=\"dataframe\">\n",
       "  <thead>\n",
       "    <tr style=\"text-align: right;\">\n",
       "      <th></th>\n",
       "      <th>druh_tarify</th>\n",
       "      <th>hodiny</th>\n",
       "      <th>price</th>\n",
       "    </tr>\n",
       "  </thead>\n",
       "  <tbody>\n",
       "    <tr>\n",
       "      <th>0</th>\n",
       "      <td>D1</td>\n",
       "      <td>0</td>\n",
       "      <td>0.119989</td>\n",
       "    </tr>\n",
       "    <tr>\n",
       "      <th>1</th>\n",
       "      <td>D1</td>\n",
       "      <td>1</td>\n",
       "      <td>0.119989</td>\n",
       "    </tr>\n",
       "    <tr>\n",
       "      <th>2</th>\n",
       "      <td>D1</td>\n",
       "      <td>2</td>\n",
       "      <td>0.119989</td>\n",
       "    </tr>\n",
       "    <tr>\n",
       "      <th>3</th>\n",
       "      <td>D1</td>\n",
       "      <td>3</td>\n",
       "      <td>0.119989</td>\n",
       "    </tr>\n",
       "    <tr>\n",
       "      <th>4</th>\n",
       "      <td>D1</td>\n",
       "      <td>4</td>\n",
       "      <td>0.119989</td>\n",
       "    </tr>\n",
       "  </tbody>\n",
       "</table>\n",
       "</div>"
      ],
      "text/plain": [
       "  druh_tarify  hodiny     price\n",
       "0          D1       0  0.119989\n",
       "1          D1       1  0.119989\n",
       "2          D1       2  0.119989\n",
       "3          D1       3  0.119989\n",
       "4          D1       4  0.119989"
      ]
     },
     "execution_count": 318,
     "metadata": {},
     "output_type": "execute_result"
    }
   ],
   "source": [
    "price_zo_siete.head()"
   ]
  },
  {
   "cell_type": "code",
   "execution_count": 319,
   "metadata": {},
   "outputs": [],
   "source": [
    "res[\"hour\"] = res.timestamp.dt.hour"
   ]
  },
  {
   "cell_type": "code",
   "execution_count": 320,
   "metadata": {},
   "outputs": [],
   "source": [
    "res = res.merge(price_zo_siete, how = \"left\",left_on=[\"tarifa\",\"hour\"],right_on=[\"druh_tarify\",\"hodiny\"])"
   ]
  },
  {
   "cell_type": "code",
   "execution_count": 321,
   "metadata": {},
   "outputs": [],
   "source": [
    "res.rename({\"price\":\"price_zo_siete\"},axis = 1, inplace=True)"
   ]
  },
  {
   "cell_type": "code",
   "execution_count": null,
   "metadata": {},
   "outputs": [],
   "source": []
  },
  {
   "cell_type": "code",
   "execution_count": 322,
   "metadata": {},
   "outputs": [],
   "source": [
    "price_z_komunity = pd.read_csv(data_path+\"price_z_komunity.csv\",sep = \";\")\n",
    "add_on_price_z_komunity = pd.read_csv(data_path + \"add_on_price_z_komunity.csv\", sep = \";\")"
   ]
  },
  {
   "cell_type": "code",
   "execution_count": 323,
   "metadata": {},
   "outputs": [],
   "source": [
    "price_z_komunity.timestamp = pd.to_datetime(price_z_komunity.timestamp).dt.round('1s')"
   ]
  },
  {
   "cell_type": "code",
   "execution_count": 324,
   "metadata": {},
   "outputs": [
    {
     "data": {
      "text/html": [
       "<div>\n",
       "<style scoped>\n",
       "    .dataframe tbody tr th:only-of-type {\n",
       "        vertical-align: middle;\n",
       "    }\n",
       "\n",
       "    .dataframe tbody tr th {\n",
       "        vertical-align: top;\n",
       "    }\n",
       "\n",
       "    .dataframe thead th {\n",
       "        text-align: right;\n",
       "    }\n",
       "</style>\n",
       "<table border=\"1\" class=\"dataframe\">\n",
       "  <thead>\n",
       "    <tr style=\"text-align: right;\">\n",
       "      <th></th>\n",
       "      <th>timestamp</th>\n",
       "      <th>main_price</th>\n",
       "    </tr>\n",
       "  </thead>\n",
       "  <tbody>\n",
       "    <tr>\n",
       "      <th>35131</th>\n",
       "      <td>2016-12-31 22:45:00</td>\n",
       "      <td>0.057197</td>\n",
       "    </tr>\n",
       "    <tr>\n",
       "      <th>35132</th>\n",
       "      <td>2016-12-31 23:00:00</td>\n",
       "      <td>0.055030</td>\n",
       "    </tr>\n",
       "    <tr>\n",
       "      <th>35133</th>\n",
       "      <td>2016-12-31 23:15:00</td>\n",
       "      <td>0.013757</td>\n",
       "    </tr>\n",
       "    <tr>\n",
       "      <th>35134</th>\n",
       "      <td>2016-12-31 23:30:00</td>\n",
       "      <td>0.027515</td>\n",
       "    </tr>\n",
       "    <tr>\n",
       "      <th>35135</th>\n",
       "      <td>2016-12-31 23:45:00</td>\n",
       "      <td>0.041272</td>\n",
       "    </tr>\n",
       "  </tbody>\n",
       "</table>\n",
       "</div>"
      ],
      "text/plain": [
       "                timestamp  main_price\n",
       "35131 2016-12-31 22:45:00    0.057197\n",
       "35132 2016-12-31 23:00:00    0.055030\n",
       "35133 2016-12-31 23:15:00    0.013757\n",
       "35134 2016-12-31 23:30:00    0.027515\n",
       "35135 2016-12-31 23:45:00    0.041272"
      ]
     },
     "execution_count": 324,
     "metadata": {},
     "output_type": "execute_result"
    }
   ],
   "source": [
    "price_z_komunity.tail()"
   ]
  },
  {
   "cell_type": "code",
   "execution_count": 325,
   "metadata": {},
   "outputs": [
    {
     "data": {
      "text/plain": [
       "35136"
      ]
     },
     "execution_count": 325,
     "metadata": {},
     "output_type": "execute_result"
    }
   ],
   "source": [
    "len(price_do_komunity)"
   ]
  },
  {
   "cell_type": "code",
   "execution_count": 326,
   "metadata": {},
   "outputs": [
    {
     "data": {
      "text/html": [
       "<div>\n",
       "<style scoped>\n",
       "    .dataframe tbody tr th:only-of-type {\n",
       "        vertical-align: middle;\n",
       "    }\n",
       "\n",
       "    .dataframe tbody tr th {\n",
       "        vertical-align: top;\n",
       "    }\n",
       "\n",
       "    .dataframe thead th {\n",
       "        text-align: right;\n",
       "    }\n",
       "</style>\n",
       "<table border=\"1\" class=\"dataframe\">\n",
       "  <thead>\n",
       "    <tr style=\"text-align: right;\">\n",
       "      <th></th>\n",
       "      <th>tarifa</th>\n",
       "      <th>cena</th>\n",
       "    </tr>\n",
       "  </thead>\n",
       "  <tbody>\n",
       "    <tr>\n",
       "      <th>0</th>\n",
       "      <td>D1</td>\n",
       "      <td>0.048533</td>\n",
       "    </tr>\n",
       "    <tr>\n",
       "      <th>1</th>\n",
       "      <td>D2</td>\n",
       "      <td>0.032936</td>\n",
       "    </tr>\n",
       "    <tr>\n",
       "      <th>2</th>\n",
       "      <td>D3</td>\n",
       "      <td>0.032936</td>\n",
       "    </tr>\n",
       "    <tr>\n",
       "      <th>3</th>\n",
       "      <td>D4</td>\n",
       "      <td>0.027581</td>\n",
       "    </tr>\n",
       "    <tr>\n",
       "      <th>4</th>\n",
       "      <td>D5</td>\n",
       "      <td>0.027581</td>\n",
       "    </tr>\n",
       "  </tbody>\n",
       "</table>\n",
       "</div>"
      ],
      "text/plain": [
       "  tarifa      cena\n",
       "0     D1  0.048533\n",
       "1     D2  0.032936\n",
       "2     D3  0.032936\n",
       "3     D4  0.027581\n",
       "4     D5  0.027581"
      ]
     },
     "execution_count": 326,
     "metadata": {},
     "output_type": "execute_result"
    }
   ],
   "source": [
    "add_on_price_z_komunity"
   ]
  },
  {
   "cell_type": "code",
   "execution_count": 327,
   "metadata": {},
   "outputs": [],
   "source": [
    "res = res.merge(price_z_komunity, how = \"left\", on = \"timestamp\")\n",
    "res = res.merge(add_on_price_z_komunity, how = \"left\", on = \"tarifa\")"
   ]
  },
  {
   "cell_type": "code",
   "execution_count": 328,
   "metadata": {},
   "outputs": [],
   "source": [
    "res[\"price_z_komunity\"] = res[\"main_price\"] + res[\"cena\"]\n",
    "res.drop([\"main_price\",\"cena\"],axis = 1, inplace=True)"
   ]
  },
  {
   "cell_type": "code",
   "execution_count": null,
   "metadata": {},
   "outputs": [],
   "source": []
  },
  {
   "cell_type": "code",
   "execution_count": null,
   "metadata": {},
   "outputs": [],
   "source": []
  },
  {
   "cell_type": "code",
   "execution_count": 329,
   "metadata": {},
   "outputs": [
    {
     "data": {
      "text/html": [
       "<div>\n",
       "<style scoped>\n",
       "    .dataframe tbody tr th:only-of-type {\n",
       "        vertical-align: middle;\n",
       "    }\n",
       "\n",
       "    .dataframe tbody tr th {\n",
       "        vertical-align: top;\n",
       "    }\n",
       "\n",
       "    .dataframe thead th {\n",
       "        text-align: right;\n",
       "    }\n",
       "</style>\n",
       "<table border=\"1\" class=\"dataframe\">\n",
       "  <thead>\n",
       "    <tr style=\"text-align: right;\">\n",
       "      <th></th>\n",
       "      <th>timestamp</th>\n",
       "      <th>main_price</th>\n",
       "    </tr>\n",
       "  </thead>\n",
       "  <tbody>\n",
       "    <tr>\n",
       "      <th>0</th>\n",
       "      <td>2016-01-01 00:00:00.000</td>\n",
       "      <td>0.02490</td>\n",
       "    </tr>\n",
       "    <tr>\n",
       "      <th>1</th>\n",
       "      <td>2016-01-01 00:15:00.000</td>\n",
       "      <td>0.02501</td>\n",
       "    </tr>\n",
       "    <tr>\n",
       "      <th>2</th>\n",
       "      <td>2016-01-01 00:30:00.000</td>\n",
       "      <td>0.02512</td>\n",
       "    </tr>\n",
       "    <tr>\n",
       "      <th>3</th>\n",
       "      <td>2016-01-01 00:45:00.000</td>\n",
       "      <td>0.02523</td>\n",
       "    </tr>\n",
       "    <tr>\n",
       "      <th>4</th>\n",
       "      <td>2016-01-01 01:00:00.000</td>\n",
       "      <td>0.02534</td>\n",
       "    </tr>\n",
       "  </tbody>\n",
       "</table>\n",
       "</div>"
      ],
      "text/plain": [
       "                 timestamp  main_price\n",
       "0  2016-01-01 00:00:00.000     0.02490\n",
       "1  2016-01-01 00:15:00.000     0.02501\n",
       "2  2016-01-01 00:30:00.000     0.02512\n",
       "3  2016-01-01 00:45:00.000     0.02523\n",
       "4  2016-01-01 01:00:00.000     0.02534"
      ]
     },
     "execution_count": 329,
     "metadata": {},
     "output_type": "execute_result"
    }
   ],
   "source": [
    "price_do_komunity = pd.read_csv(data_path + \"price_do_komunity.csv\", sep = \";\")\n",
    "price_do_komunity.head()"
   ]
  },
  {
   "cell_type": "code",
   "execution_count": 330,
   "metadata": {},
   "outputs": [],
   "source": [
    "price_do_komunity.timestamp = pd.to_datetime(price_do_komunity.timestamp).dt.round('1s')"
   ]
  },
  {
   "cell_type": "code",
   "execution_count": 331,
   "metadata": {},
   "outputs": [],
   "source": [
    "res = res.merge(price_do_komunity, how = \"left\", on = \"timestamp\")\n",
    "res.rename({\"main_price\":\"price_do_komunity\"},axis = 1, inplace=True)"
   ]
  },
  {
   "cell_type": "code",
   "execution_count": null,
   "metadata": {},
   "outputs": [],
   "source": []
  },
  {
   "cell_type": "code",
   "execution_count": 332,
   "metadata": {},
   "outputs": [
    {
     "data": {
      "text/html": [
       "<div>\n",
       "<style scoped>\n",
       "    .dataframe tbody tr th:only-of-type {\n",
       "        vertical-align: middle;\n",
       "    }\n",
       "\n",
       "    .dataframe tbody tr th {\n",
       "        vertical-align: top;\n",
       "    }\n",
       "\n",
       "    .dataframe thead th {\n",
       "        text-align: right;\n",
       "    }\n",
       "</style>\n",
       "<table border=\"1\" class=\"dataframe\">\n",
       "  <thead>\n",
       "    <tr style=\"text-align: right;\">\n",
       "      <th></th>\n",
       "      <th>timestamp</th>\n",
       "      <th>main_price</th>\n",
       "    </tr>\n",
       "  </thead>\n",
       "  <tbody>\n",
       "    <tr>\n",
       "      <th>0</th>\n",
       "      <td>2016-01-01 00:00:00.000</td>\n",
       "      <td>0.02090</td>\n",
       "    </tr>\n",
       "    <tr>\n",
       "      <th>1</th>\n",
       "      <td>2016-01-01 00:15:00.000</td>\n",
       "      <td>0.02101</td>\n",
       "    </tr>\n",
       "    <tr>\n",
       "      <th>2</th>\n",
       "      <td>2016-01-01 00:30:00.000</td>\n",
       "      <td>0.02112</td>\n",
       "    </tr>\n",
       "    <tr>\n",
       "      <th>3</th>\n",
       "      <td>2016-01-01 00:45:00.000</td>\n",
       "      <td>0.02123</td>\n",
       "    </tr>\n",
       "    <tr>\n",
       "      <th>4</th>\n",
       "      <td>2016-01-01 01:00:00.000</td>\n",
       "      <td>0.02134</td>\n",
       "    </tr>\n",
       "  </tbody>\n",
       "</table>\n",
       "</div>"
      ],
      "text/plain": [
       "                 timestamp  main_price\n",
       "0  2016-01-01 00:00:00.000     0.02090\n",
       "1  2016-01-01 00:15:00.000     0.02101\n",
       "2  2016-01-01 00:30:00.000     0.02112\n",
       "3  2016-01-01 00:45:00.000     0.02123\n",
       "4  2016-01-01 01:00:00.000     0.02134"
      ]
     },
     "execution_count": 332,
     "metadata": {},
     "output_type": "execute_result"
    }
   ],
   "source": [
    "price_do_siete = pd.read_csv(data_path + \"price_do_siete.csv\", sep = \";\")\n",
    "price_do_siete.head()"
   ]
  },
  {
   "cell_type": "code",
   "execution_count": 333,
   "metadata": {},
   "outputs": [],
   "source": [
    "price_do_siete.timestamp = pd.to_datetime(price_do_siete.timestamp).dt.round('1s')"
   ]
  },
  {
   "cell_type": "code",
   "execution_count": 334,
   "metadata": {},
   "outputs": [],
   "source": [
    "res = res.merge(price_do_komunity, how = \"left\", on = \"timestamp\")\n",
    "res.rename({\"main_price\":\"price_do_siete\"},axis = 1, inplace=True)"
   ]
  },
  {
   "cell_type": "code",
   "execution_count": 335,
   "metadata": {},
   "outputs": [
    {
     "data": {
      "text/plain": [
       "Index(['spotreba', 'om', 'timestamp', 'tarifa', 'vykon', 'vyroba', 'diff',\n",
       "       'viac_spotreby', 'percentage', 'diff_total', 'viac_spotreby_total',\n",
       "       'total_produced', 'total_spent', 'nakup_from_community',\n",
       "       'nakup_from_network', 'predaj_to_community', 'predaj_to_network',\n",
       "       'hour', 'druh_tarify', 'hodiny', 'price_zo_siete', 'price_z_komunity',\n",
       "       'price_do_komunity', 'price_do_siete'],\n",
       "      dtype='object')"
      ]
     },
     "execution_count": 335,
     "metadata": {},
     "output_type": "execute_result"
    }
   ],
   "source": [
    "res.columns"
   ]
  },
  {
   "cell_type": "code",
   "execution_count": 336,
   "metadata": {},
   "outputs": [],
   "source": [
    "res.drop([\"druh_tarify\",\"hodiny\",\"hour\",\"vykon\"],axis = 1, inplace=True)"
   ]
  },
  {
   "cell_type": "code",
   "execution_count": 337,
   "metadata": {},
   "outputs": [],
   "source": [
    "res[\"income_from_komunity\"] = res[\"predaj_to_community\"] * res[\"price_do_komunity\"]\n",
    "res[\"income_from_network\"] = res[\"predaj_to_network\"] * res[\"price_do_siete\"]\n",
    "res[\"expense_to_komunity\"] = res[\"nakup_from_community\"] * res[\"price_z_komunity\"]\n",
    "res[\"expense_to_network\"] = res[\"nakup_from_network\"] * res[\"price_zo_siete\"]"
   ]
  },
  {
   "cell_type": "code",
   "execution_count": 338,
   "metadata": {},
   "outputs": [],
   "source": [
    "clusters = pd.read_csv(data_path + \"clusters.csv\", sep = \";\")\n",
    "res = res.merge(clusters, on = \"om\", how=\"left\")"
   ]
  },
  {
   "cell_type": "code",
   "execution_count": 339,
   "metadata": {},
   "outputs": [],
   "source": [
    "# res[\"cluster\"] = res[\"tarifa\"]"
   ]
  },
  {
   "cell_type": "code",
   "execution_count": 340,
   "metadata": {},
   "outputs": [],
   "source": [
    "lows = []\n",
    "highs = []\n",
    "for value in list(res[\"cluster\"].unique()):\n",
    "    \n",
    "    lows.append(res.loc[res.cluster == value][[\"spotreba\",\"timestamp\",\"cluster\"]].groupby([\"timestamp\",\"cluster\"])[[\"spotreba\"]].quantile(0.1).reset_index())\n",
    "    highs.append(res.loc[res.cluster == value][[\"spotreba\",\"timestamp\",\"cluster\"]].groupby([\"timestamp\",\"cluster\"])[[\"spotreba\"]].quantile(0.9).reset_index())\n",
    "    \n",
    "#     res.loc[res.cluster == value,\"low_border\"] = res.loc[res.cluster == value].spotreba.quantile(0.2)\n",
    "#     res.loc[res.cluster == value,\"high_border\"] = res.loc[res.cluster == value].spotreba.quantile(0.95)"
   ]
  },
  {
   "cell_type": "code",
   "execution_count": 341,
   "metadata": {},
   "outputs": [],
   "source": [
    "for dataframe in lows:\n",
    "    dataframe.columns = [\"timestamp\",\"cluster\",\"lower_bound\"]\n",
    "for dataframe in highs:\n",
    "    dataframe.columns = [\"timestamp\",\"cluster\",\"upper_bound\"]"
   ]
  },
  {
   "cell_type": "code",
   "execution_count": 342,
   "metadata": {},
   "outputs": [],
   "source": [
    "res = res.merge(pd.concat(lows).reset_index(drop=True), how = \"left\", on = [\"timestamp\",\"cluster\"])"
   ]
  },
  {
   "cell_type": "code",
   "execution_count": 343,
   "metadata": {},
   "outputs": [],
   "source": [
    "res = res.merge(pd.concat(highs).reset_index(drop=True), how = \"left\", on = [\"timestamp\",\"cluster\"])"
   ]
  },
  {
   "cell_type": "code",
   "execution_count": 344,
   "metadata": {},
   "outputs": [
    {
     "data": {
      "text/plain": [
       "spotreba                5245996\n",
       "om                      5245996\n",
       "timestamp               5245996\n",
       "tarifa                  5245996\n",
       "vyroba                  5245996\n",
       "diff                    5245996\n",
       "viac_spotreby           5245996\n",
       "percentage              5245996\n",
       "diff_total              5245996\n",
       "viac_spotreby_total     5245996\n",
       "total_produced          5245996\n",
       "total_spent             5245996\n",
       "nakup_from_community    5245996\n",
       "nakup_from_network      5245996\n",
       "predaj_to_community     5245996\n",
       "predaj_to_network       5245996\n",
       "price_zo_siete          5245996\n",
       "price_z_komunity        5245996\n",
       "price_do_komunity       5245996\n",
       "price_do_siete          5245996\n",
       "income_from_komunity    5245996\n",
       "income_from_network     5245996\n",
       "expense_to_komunity     5245996\n",
       "expense_to_network      5245996\n",
       "cluster                 5245996\n",
       "lower_bound             5245996\n",
       "upper_bound             5245996\n",
       "dtype: int64"
      ]
     },
     "execution_count": 344,
     "metadata": {},
     "output_type": "execute_result"
    }
   ],
   "source": [
    "res.count()"
   ]
  },
  {
   "cell_type": "code",
   "execution_count": 345,
   "metadata": {},
   "outputs": [],
   "source": [
    "# res.sort_values([\"timestamp\",\"om\"])"
   ]
  },
  {
   "cell_type": "code",
   "execution_count": 346,
   "metadata": {},
   "outputs": [],
   "source": [
    "res = res.sort_values([\"om\",\"timestamp\"])"
   ]
  },
  {
   "cell_type": "markdown",
   "metadata": {},
   "source": [
    "#### cost if vyroba a predaj je zakazany"
   ]
  },
  {
   "cell_type": "code",
   "execution_count": 347,
   "metadata": {},
   "outputs": [],
   "source": [
    "res[\"cost_ak_vyroba_nejde\"] = - res[\"spotreba\"] * res[\"price_zo_siete\"]\n",
    "res[\"cost_ak_vyroba_ide\"] = res[\"income_from_komunity\"] + res[\"income_from_network\"] - res[\"expense_to_komunity\"] - res[\"expense_to_network\"]"
   ]
  },
  {
   "cell_type": "code",
   "execution_count": 348,
   "metadata": {},
   "outputs": [
    {
     "data": {
      "text/plain": [
       "Index(['spotreba', 'om', 'timestamp', 'tarifa', 'vyroba', 'diff',\n",
       "       'viac_spotreby', 'percentage', 'diff_total', 'viac_spotreby_total',\n",
       "       'total_produced', 'total_spent', 'nakup_from_community',\n",
       "       'nakup_from_network', 'predaj_to_community', 'predaj_to_network',\n",
       "       'price_zo_siete', 'price_z_komunity', 'price_do_komunity',\n",
       "       'price_do_siete', 'income_from_komunity', 'income_from_network',\n",
       "       'expense_to_komunity', 'expense_to_network', 'cluster', 'lower_bound',\n",
       "       'upper_bound', 'cost_ak_vyroba_nejde', 'cost_ak_vyroba_ide'],\n",
       "      dtype='object')"
      ]
     },
     "execution_count": 348,
     "metadata": {},
     "output_type": "execute_result"
    }
   ],
   "source": [
    "res.columns"
   ]
  },
  {
   "cell_type": "code",
   "execution_count": 349,
   "metadata": {},
   "outputs": [],
   "source": [
    "res['cost_ak_vyroba_nejde_1D'] = res.groupby('om').apply(lambda res: res.sort_values('timestamp')['cost_ak_vyroba_nejde'].rolling(96, min_periods=1).sum()).values\n",
    "res['cost_ak_vyroba_nejde_2D'] = res.groupby('om').apply(lambda res: res.sort_values('timestamp')['cost_ak_vyroba_nejde'].rolling(96*2, min_periods=1).sum()).values\n",
    "res['cost_ak_vyroba_nejde_3D'] = res.groupby('om').apply(lambda res: res.sort_values('timestamp')['cost_ak_vyroba_nejde'].rolling(96*3, min_periods=1).sum()).values\n",
    "res['cost_ak_vyroba_nejde_4D'] = res.groupby('om').apply(lambda res: res.sort_values('timestamp')['cost_ak_vyroba_nejde'].rolling(96*4, min_periods=1).sum()).values\n",
    "res['cost_ak_vyroba_nejde_5D'] = res.groupby('om').apply(lambda res: res.sort_values('timestamp')['cost_ak_vyroba_nejde'].rolling(96*5, min_periods=1).sum()).values\n",
    "res['cost_ak_vyroba_nejde_6D'] = res.groupby('om').apply(lambda res: res.sort_values('timestamp')['cost_ak_vyroba_nejde'].rolling(96*6, min_periods=1).sum()).values\n",
    "res['cost_ak_vyroba_nejde_7D'] = res.groupby('om').apply(lambda res: res.sort_values('timestamp')['cost_ak_vyroba_nejde'].rolling(96*7, min_periods=1).sum()).values\n",
    "\n",
    "res['cost_ak_vyroba_ide_1D'] = res.groupby('om').apply(lambda res: res.sort_values('timestamp')['cost_ak_vyroba_ide'].rolling(96, min_periods=1).sum()).values\n",
    "res['cost_ak_vyroba_ide_2D'] = res.groupby('om').apply(lambda res: res.sort_values('timestamp')['cost_ak_vyroba_ide'].rolling(96*2, min_periods=1).sum()).values\n",
    "res['cost_ak_vyroba_ide_3D'] = res.groupby('om').apply(lambda res: res.sort_values('timestamp')['cost_ak_vyroba_ide'].rolling(96*3, min_periods=1).sum()).values\n",
    "res['cost_ak_vyroba_ide_4D'] = res.groupby('om').apply(lambda res: res.sort_values('timestamp')['cost_ak_vyroba_ide'].rolling(96*4, min_periods=1).sum()).values\n",
    "res['cost_ak_vyroba_ide_5D'] = res.groupby('om').apply(lambda res: res.sort_values('timestamp')['cost_ak_vyroba_ide'].rolling(96*5, min_periods=1).sum()).values\n",
    "res['cost_ak_vyroba_ide_6D'] = res.groupby('om').apply(lambda res: res.sort_values('timestamp')['cost_ak_vyroba_ide'].rolling(96*6, min_periods=1).sum()).values\n",
    "res['cost_ak_vyroba_ide_7D'] = res.groupby('om').apply(lambda res: res.sort_values('timestamp')['cost_ak_vyroba_ide'].rolling(96*7, min_periods=1).sum()).values\n"
   ]
  },
  {
   "cell_type": "code",
   "execution_count": 350,
   "metadata": {},
   "outputs": [],
   "source": [
    "# res[res.cost_ak_vyroba_ide_7D > 0]"
   ]
  },
  {
   "cell_type": "code",
   "execution_count": 351,
   "metadata": {},
   "outputs": [],
   "source": [
    "res['lower_quantile_1D'] = res.groupby('om').apply(lambda res: res.sort_values('timestamp')['spotreba'].rolling(96, min_periods=1).quantile(0.25)).values\n",
    "res['upper_quantile_1D'] = res.groupby('om').apply(lambda res: res.sort_values('timestamp')['spotreba'].rolling(96, min_periods=1).quantile(0.75)).values\n",
    "res['iqr_1D'] = res['upper_quantile_1D'] - res['lower_quantile_1D']"
   ]
  },
  {
   "cell_type": "code",
   "execution_count": 246,
   "metadata": {},
   "outputs": [],
   "source": []
  },
  {
   "cell_type": "code",
   "execution_count": null,
   "metadata": {},
   "outputs": [],
   "source": []
  },
  {
   "cell_type": "code",
   "execution_count": 352,
   "metadata": {},
   "outputs": [
    {
     "data": {
      "text/plain": [
       "Index(['spotreba', 'om', 'timestamp', 'tarifa', 'vyroba', 'diff',\n",
       "       'viac_spotreby', 'percentage', 'diff_total', 'viac_spotreby_total',\n",
       "       'total_produced', 'total_spent', 'nakup_from_community',\n",
       "       'nakup_from_network', 'predaj_to_community', 'predaj_to_network',\n",
       "       'price_zo_siete', 'price_z_komunity', 'price_do_komunity',\n",
       "       'price_do_siete', 'income_from_komunity', 'income_from_network',\n",
       "       'expense_to_komunity', 'expense_to_network', 'cluster', 'lower_bound',\n",
       "       'upper_bound', 'cost_ak_vyroba_nejde', 'cost_ak_vyroba_ide',\n",
       "       'cost_ak_vyroba_nejde_1D', 'cost_ak_vyroba_nejde_2D',\n",
       "       'cost_ak_vyroba_nejde_3D', 'cost_ak_vyroba_nejde_4D',\n",
       "       'cost_ak_vyroba_nejde_5D', 'cost_ak_vyroba_nejde_6D',\n",
       "       'cost_ak_vyroba_nejde_7D', 'cost_ak_vyroba_ide_1D',\n",
       "       'cost_ak_vyroba_ide_2D', 'cost_ak_vyroba_ide_3D',\n",
       "       'cost_ak_vyroba_ide_4D', 'cost_ak_vyroba_ide_5D',\n",
       "       'cost_ak_vyroba_ide_6D', 'cost_ak_vyroba_ide_7D', 'lower_quantile_1D',\n",
       "       'upper_quantile_1D', 'iqr_1D'],\n",
       "      dtype='object')"
      ]
     },
     "execution_count": 352,
     "metadata": {},
     "output_type": "execute_result"
    }
   ],
   "source": [
    "res.columns"
   ]
  },
  {
   "cell_type": "code",
   "execution_count": null,
   "metadata": {},
   "outputs": [],
   "source": []
  },
  {
   "cell_type": "markdown",
   "metadata": {},
   "source": [
    "#### Some final columns about the spendings (all of them 1 day aggregates) and for both variants, with creation and without\n",
    "- cost OM za elekriku do siete\n",
    "- cost OM za elektriku do komunity\n",
    "- cost OM za distibuciu\n",
    "- zisk OM z predaja do komunity\n",
    "- zisk OM z predaja do komunity\n",
    "\n",
    "- zisk zse total\n",
    "- zisk zse z distribucie\n",
    "- zisk zse z elektriky"
   ]
  },
  {
   "cell_type": "code",
   "execution_count": 394,
   "metadata": {},
   "outputs": [],
   "source": [
    "res_cost = res[[\"timestamp\",\"om\",'price_zo_siete', 'tarifa', 'price_z_komunity', 'price_do_komunity',\n",
    "       'price_do_siete', 'nakup_from_community',\n",
    "       'nakup_from_network', 'predaj_to_community', 'predaj_to_network']]"
   ]
  },
  {
   "cell_type": "code",
   "execution_count": 395,
   "metadata": {},
   "outputs": [],
   "source": [
    "cena_za_distribuciu_pri_nakupe_zo_siete = pd.DataFrame({\"D1\": 0.80889,\"D2\":0.054894,\"D3\":0.054894,\"D4\":0.045968,\"D5\":0.45968}, index=[\"cena\"]).transpose()"
   ]
  },
  {
   "cell_type": "code",
   "execution_count": 396,
   "metadata": {},
   "outputs": [],
   "source": [
    "cena_za_distribuciu_pri_nakupe_zo_siete = cena_za_distribuciu_pri_nakupe_zo_siete.reset_index()"
   ]
  },
  {
   "cell_type": "code",
   "execution_count": 397,
   "metadata": {},
   "outputs": [],
   "source": [
    "cena_za_distribuciu_pri_nakupe_zo_siete.columns = [\"tarifa\",\"cena_za_distribuciu_pri_nakupe_zo_siete\"]"
   ]
  },
  {
   "cell_type": "code",
   "execution_count": 398,
   "metadata": {},
   "outputs": [],
   "source": [
    "res_cost = res_cost.merge(cena_za_distribuciu_pri_nakupe_zo_siete, how = \"left\", on = \"tarifa\")"
   ]
  },
  {
   "cell_type": "code",
   "execution_count": 399,
   "metadata": {},
   "outputs": [],
   "source": [
    "# obchodovanie povolene\n",
    "res_cost[\"cost_OM_za_el_zo_siete\"] = res_cost[\"nakup_from_network\"] * (res_cost[\"price_zo_siete\"] - res_cost[\"cena_za_distribuciu_pri_nakupe_zo_siete\"])\n",
    "# obchodovanie zakazane\n",
    "res_cost[\"cost_OM_za_el_zo_siete_no_power\"] = (res_cost[\"nakup_from_community\"] + res_cost[\"nakup_from_network\"]) * (res_cost[\"price_zo_siete\"] - res_cost[\"cena_za_distribuciu_pri_nakupe_zo_siete\"])\n",
    "\n"
   ]
  },
  {
   "cell_type": "code",
   "execution_count": 400,
   "metadata": {},
   "outputs": [],
   "source": [
    "cena_za_distribuciu_pri_nakupe_z_komunity = pd.DataFrame({\"D1\":0.0485334,\n",
    "\"D2\":0.0329364,\n",
    "\"D3\":0.0329364,\n",
    "\"D4\":0.0275808,\n",
    "\"D5\":0.0275808}, index = [\"cena\"]).transpose()\n",
    "cena_za_distribuciu_pri_nakupe_z_komunity = cena_za_distribuciu_pri_nakupe_z_komunity.reset_index()\n",
    "cena_za_distribuciu_pri_nakupe_z_komunity.columns = [\"tarifa\",\"cena_za_distribuciu_pri_nakupe_z_komunity\"]"
   ]
  },
  {
   "cell_type": "code",
   "execution_count": 401,
   "metadata": {},
   "outputs": [],
   "source": [
    "res_cost = res_cost.merge(cena_za_distribuciu_pri_nakupe_z_komunity, how = \"left\", on = \"tarifa\")"
   ]
  },
  {
   "cell_type": "code",
   "execution_count": 402,
   "metadata": {},
   "outputs": [],
   "source": [
    "# obchodovanie povolene\n",
    "res_cost[\"cost_OM_za_el_z_komunity\"] = res_cost[\"nakup_from_community\"] * (res_cost[\"price_z_komunity\"] - res_cost[\"cena_za_distribuciu_pri_nakupe_z_komunity\"])\n",
    "# obchodovanie zakazane\n",
    "res_cost[\"cost_OM_za_el_z_komunity_no_power\"] = 0"
   ]
  },
  {
   "cell_type": "code",
   "execution_count": 403,
   "metadata": {},
   "outputs": [],
   "source": [
    "# obchodovanie povolene\n",
    "res_cost[\"cost_OM_za_distribuciu\"] = (res_cost[\"nakup_from_community\"] * res_cost[\"cena_za_distribuciu_pri_nakupe_z_komunity\"]) + \\\n",
    "                                     (res_cost[\"nakup_from_network\"] * res_cost[\"cena_za_distribuciu_pri_nakupe_zo_siete\"])\n",
    "# obchodovanie zakazane\n",
    "res_cost[\"cost_OM_za_distribuciu_no_power\"] = ((res_cost[\"nakup_from_network\"] + res_cost[\"nakup_from_community\"]) * res_cost[\"cena_za_distribuciu_pri_nakupe_zo_siete\"])"
   ]
  },
  {
   "cell_type": "code",
   "execution_count": 404,
   "metadata": {},
   "outputs": [],
   "source": [
    "# obchodovanie povolene\n",
    "res_cost[\"revenue_OM_za_predaj_do_komunuty\"] = res_cost[\"predaj_to_community\"] * res_cost[\"price_do_komunity\"]\n",
    "res_cost[\"revenue_OM_za_predaj_do_siete\"] = res_cost[\"predaj_to_network\"] * res_cost[\"price_do_siete\"]\n",
    "# obchodovanie zakazane\n",
    "res_cost[\"revenue_OM_za_predaj_do_komunuty_no_power\"] = 0\n",
    "res_cost[\"revenue_OM_za_predaj_do_siete_no_power\"] = (res_cost[\"predaj_to_network\"]+res_cost[\"predaj_to_community\"]) * res_cost[\"price_do_siete\"]"
   ]
  },
  {
   "cell_type": "code",
   "execution_count": null,
   "metadata": {},
   "outputs": [],
   "source": []
  },
  {
   "cell_type": "code",
   "execution_count": 405,
   "metadata": {},
   "outputs": [],
   "source": [
    "# obchodovanie povolene\n",
    "res_cost[\"revenue_zse_total\"] = (res_cost[\"nakup_from_network\"] * res_cost[\"price_zo_siete\"]) + \\\n",
    "                             (res_cost[\"nakup_from_community\"] * res_cost[\"cena_za_distribuciu_pri_nakupe_z_komunity\"]) + \\\n",
    "                                (res_cost[\"predaj_to_community\"] * 0.008) - \\\n",
    "                                (res_cost[\"predaj_to_network\"] * res_cost[\"price_do_siete\"])\n",
    "# obchodovanie zakazane\n",
    "res_cost[\"revenue_zse_total_no_power\"] = ((res_cost[\"nakup_from_network\"]+res_cost[\"nakup_from_community\"]) * res_cost[\"price_zo_siete\"]) + \\\n",
    "                                ((res_cost[\"predaj_to_network\"]+res_cost[\"predaj_to_community\"]) * res_cost[\"price_do_siete\"])"
   ]
  },
  {
   "cell_type": "code",
   "execution_count": 406,
   "metadata": {},
   "outputs": [],
   "source": [
    "# obchodovanie povolene\n",
    "res_cost[\"revenue_zse_distribucia\"] = (res_cost[\"nakup_from_network\"] * res_cost[\"cena_za_distribuciu_pri_nakupe_zo_siete\"]) + \\\n",
    "                                      (res_cost[\"nakup_from_community\"] * res_cost[\"cena_za_distribuciu_pri_nakupe_z_komunity\"]) + \\\n",
    "                                      (res_cost[\"predaj_to_community\"] * 0.008)\n",
    "# obchodovanie zakazane\n",
    "res_cost[\"revenue_zse_distribucia_no_power\"] = ((res_cost[\"nakup_from_network\"]+res_cost[\"nakup_from_community\"]) * res_cost[\"cena_za_distribuciu_pri_nakupe_zo_siete\"])"
   ]
  },
  {
   "cell_type": "code",
   "execution_count": 407,
   "metadata": {},
   "outputs": [],
   "source": [
    "# obchodovanie povolene\n",
    "res_cost[\"revenue_zse_elektrika\"] = res_cost[\"revenue_zse_total\"] - res_cost[\"revenue_zse_distribucia\"]\n",
    "# obchodovanie zakazane\n",
    "res_cost[\"revenue_zse_elektrika_no_power\"] = res_cost[\"revenue_zse_total_no_power\"] - res_cost[\"revenue_zse_distribucia_no_power\"]"
   ]
  },
  {
   "cell_type": "code",
   "execution_count": 422,
   "metadata": {},
   "outputs": [],
   "source": [
    "res_cost = res_cost.sort_values([\"om\",\"timestamp\"])"
   ]
  },
  {
   "cell_type": "code",
   "execution_count": 425,
   "metadata": {},
   "outputs": [],
   "source": [
    "# rolling variables, 1D\n",
    "res_cost['cost_OM_za_el_zo_siete_1D'] = res_cost.groupby('om').apply(lambda res: res.sort_values('timestamp')['cost_OM_za_el_zo_siete'].rolling(96, min_periods=1).sum()).values\n",
    "res_cost['cost_OM_za_el_zo_siete_no_power_1D'] = res_cost.groupby('om').apply(lambda res: res.sort_values('timestamp')['cost_OM_za_el_zo_siete_no_power'].rolling(96, min_periods=1).sum()).values\n",
    "res_cost['cost_OM_za_el_z_komunity_1D'] = res_cost.groupby('om').apply(lambda res: res.sort_values('timestamp')['cost_OM_za_el_z_komunity'].rolling(96, min_periods=1).sum()).values\n",
    "res_cost['cost_OM_za_el_z_komunity_no_power_1D'] = res_cost.groupby('om').apply(lambda res: res.sort_values('timestamp')['cost_OM_za_el_z_komunity_no_power'].rolling(96, min_periods=1).sum()).values\n",
    "res_cost['cost_OM_za_distribuciu_1D'] = res_cost.groupby('om').apply(lambda res: res.sort_values('timestamp')['cost_OM_za_distribuciu'].rolling(96, min_periods=1).sum()).values\n",
    "res_cost['cost_OM_za_distribuciu_no_power_1D'] = res_cost.groupby('om').apply(lambda res: res.sort_values('timestamp')['cost_OM_za_distribuciu_no_power'].rolling(96, min_periods=1).sum()).values\n",
    "res_cost['revenue_OM_za_predaj_do_komunuty_1D'] = res_cost.groupby('om').apply(lambda res: res.sort_values('timestamp')['revenue_OM_za_predaj_do_komunuty'].rolling(96, min_periods=1).sum()).values\n",
    "res_cost['revenue_OM_za_predaj_do_siete_1D'] = res_cost.groupby('om').apply(lambda res: res.sort_values('timestamp')['revenue_OM_za_predaj_do_siete'].rolling(96, min_periods=1).sum()).values\n",
    "res_cost['revenue_OM_za_predaj_do_komunuty_no_power_1D'] = res_cost.groupby('om').apply(lambda res: res.sort_values('timestamp')['revenue_OM_za_predaj_do_komunuty_no_power'].rolling(96, min_periods=1).sum()).values\n",
    "res_cost['revenue_OM_za_predaj_do_siete_no_power_1D'] = res_cost.groupby('om').apply(lambda res: res.sort_values('timestamp')['revenue_OM_za_predaj_do_siete_no_power'].rolling(96, min_periods=1).sum()).values\n",
    "res_cost['revenue_zse_total_1D'] = res_cost.groupby('om').apply(lambda res: res.sort_values('timestamp')['revenue_zse_total'].rolling(96, min_periods=1).sum()).values\n",
    "res_cost['revenue_zse_total_no_power_1D'] = res_cost.groupby('om').apply(lambda res: res.sort_values('timestamp')['revenue_zse_total_no_power'].rolling(96, min_periods=1).sum()).values\n",
    "res_cost['revenue_zse_distribucia_1D'] = res_cost.groupby('om').apply(lambda res: res.sort_values('timestamp')['revenue_zse_distribucia'].rolling(96, min_periods=1).sum()).values\n",
    "res_cost['revenue_zse_distribucia_no_power_1D'] = res_cost.groupby('om').apply(lambda res: res.sort_values('timestamp')['revenue_zse_distribucia_no_power'].rolling(96, min_periods=1).sum()).values\n",
    "res_cost['revenue_zse_elektrika_1D'] = res_cost.groupby('om').apply(lambda res: res.sort_values('timestamp')['revenue_zse_elektrika'].rolling(96, min_periods=1).sum()).values\n",
    "res_cost['revenue_zse_elektrika_no_power_1D'] = res_cost.groupby('om').apply(lambda res: res.sort_values('timestamp')['revenue_zse_elektrika_no_power'].rolling(96, min_periods=1).sum()).values\n",
    "\n"
   ]
  },
  {
   "cell_type": "code",
   "execution_count": 429,
   "metadata": {},
   "outputs": [
    {
     "data": {
      "text/plain": [
       "Index(['timestamp', 'om', 'price_zo_siete', 'tarifa', 'price_z_komunity',\n",
       "       'price_do_komunity', 'price_do_siete', 'nakup_from_community',\n",
       "       'nakup_from_network', 'predaj_to_community', 'predaj_to_network',\n",
       "       'cena_za_distribuciu_pri_nakupe_zo_siete', 'cost_OM_za_el_zo_siete',\n",
       "       'cost_OM_za_el_zo_siete_no_power',\n",
       "       'cena_za_distribuciu_pri_nakupe_z_komunity', 'cost_OM_za_el_z_komunity',\n",
       "       'cost_OM_za_el_z_komunity_no_power', 'cost_OM_za_distribuciu',\n",
       "       'cost_OM_za_distribuciu_no_power', 'revenue_OM_za_predaj_do_komunuty',\n",
       "       'revenue_OM_za_predaj_do_siete',\n",
       "       'revenue_OM_za_predaj_do_komunuty_no_power',\n",
       "       'revenue_OM_za_predaj_do_siete_no_power', 'revenue_zse_total',\n",
       "       'revenue_zse_total_no_power', 'revenue_zse_distribucia',\n",
       "       'revenue_zse_distribucia_no_power', 'revenue_zse_elektrika',\n",
       "       'revenue_zse_elektrika_no_power', 'cost_OM_za_el_zo_siete_1D',\n",
       "       'cost_OM_za_el_zo_siete_no_power_1D', 'cost_OM_za_el_z_komunity_1D',\n",
       "       'cost_OM_za_el_z_komunity_no_power_1D', 'cost_OM_za_distribuciu_1D',\n",
       "       'cost_OM_za_distribuciu_no_power_1D',\n",
       "       'revenue_OM_za_predaj_do_komunuty_1D',\n",
       "       'revenue_OM_za_predaj_do_siete_1D',\n",
       "       'revenue_OM_za_predaj_do_komunuty_no_power_1D',\n",
       "       'revenue_OM_za_predaj_do_siete_no_power_1D', 'revenue_zse_total_1D',\n",
       "       'revenue_zse_total_no_power_1D', 'revenue_zse_distribucia_1D',\n",
       "       'revenue_zse_distribucia_no_power_1D', 'revenue_zse_elektrika_1D',\n",
       "       'revenue_zse_elektrika_no_power_1D'],\n",
       "      dtype='object')"
      ]
     },
     "execution_count": 429,
     "metadata": {},
     "output_type": "execute_result"
    }
   ],
   "source": [
    "res_cost.columns"
   ]
  },
  {
   "cell_type": "code",
   "execution_count": 428,
   "metadata": {},
   "outputs": [],
   "source": [
    "res.drop(['cost_ak_vyroba_nejde_1D', 'cost_ak_vyroba_nejde_2D',\n",
    "       'cost_ak_vyroba_nejde_3D', 'cost_ak_vyroba_nejde_4D',\n",
    "       'cost_ak_vyroba_nejde_5D', 'cost_ak_vyroba_nejde_6D',\n",
    "       'cost_ak_vyroba_nejde_7D', 'cost_ak_vyroba_ide_1D',\n",
    "       'cost_ak_vyroba_ide_2D', 'cost_ak_vyroba_ide_3D',\n",
    "       'cost_ak_vyroba_ide_4D', 'cost_ak_vyroba_ide_5D',\n",
    "       'cost_ak_vyroba_ide_6D', 'cost_ak_vyroba_ide_7D'],axis = 1, inplace=True)"
   ]
  },
  {
   "cell_type": "code",
   "execution_count": 430,
   "metadata": {},
   "outputs": [],
   "source": [
    "res_cost.drop(['price_zo_siete', 'tarifa', 'price_z_komunity',\n",
    "       'price_do_komunity', 'price_do_siete', 'nakup_from_community',\n",
    "       'nakup_from_network', 'predaj_to_community', 'predaj_to_network',\n",
    "       'cena_za_distribuciu_pri_nakupe_zo_siete'], axis = 1, inplace=True)"
   ]
  },
  {
   "cell_type": "code",
   "execution_count": 431,
   "metadata": {},
   "outputs": [],
   "source": [
    "res = res.merge(res_cost, how = \"left\", on = [\"om\",\"timestamp\"])"
   ]
  },
  {
   "cell_type": "code",
   "execution_count": 432,
   "metadata": {},
   "outputs": [
    {
     "data": {
      "text/html": [
       "<div>\n",
       "<style scoped>\n",
       "    .dataframe tbody tr th:only-of-type {\n",
       "        vertical-align: middle;\n",
       "    }\n",
       "\n",
       "    .dataframe tbody tr th {\n",
       "        vertical-align: top;\n",
       "    }\n",
       "\n",
       "    .dataframe thead th {\n",
       "        text-align: right;\n",
       "    }\n",
       "</style>\n",
       "<table border=\"1\" class=\"dataframe\">\n",
       "  <thead>\n",
       "    <tr style=\"text-align: right;\">\n",
       "      <th></th>\n",
       "      <th>spotreba</th>\n",
       "      <th>om</th>\n",
       "      <th>timestamp</th>\n",
       "      <th>tarifa</th>\n",
       "      <th>vyroba</th>\n",
       "      <th>diff</th>\n",
       "      <th>viac_spotreby</th>\n",
       "      <th>percentage</th>\n",
       "      <th>diff_total</th>\n",
       "      <th>viac_spotreby_total</th>\n",
       "      <th>...</th>\n",
       "      <th>revenue_OM_za_predaj_do_komunuty_1D</th>\n",
       "      <th>revenue_OM_za_predaj_do_siete_1D</th>\n",
       "      <th>revenue_OM_za_predaj_do_komunuty_no_power_1D</th>\n",
       "      <th>revenue_OM_za_predaj_do_siete_no_power_1D</th>\n",
       "      <th>revenue_zse_total_1D</th>\n",
       "      <th>revenue_zse_total_no_power_1D</th>\n",
       "      <th>revenue_zse_distribucia_1D</th>\n",
       "      <th>revenue_zse_distribucia_no_power_1D</th>\n",
       "      <th>revenue_zse_elektrika_1D</th>\n",
       "      <th>revenue_zse_elektrika_no_power_1D</th>\n",
       "    </tr>\n",
       "  </thead>\n",
       "  <tbody>\n",
       "    <tr>\n",
       "      <th>0</th>\n",
       "      <td>0.199</td>\n",
       "      <td>1</td>\n",
       "      <td>2016-01-01 00:00:00</td>\n",
       "      <td>D2</td>\n",
       "      <td>0.0</td>\n",
       "      <td>-0.199</td>\n",
       "      <td>1</td>\n",
       "      <td>0.742011</td>\n",
       "      <td>-26.8190</td>\n",
       "      <td>1</td>\n",
       "      <td>...</td>\n",
       "      <td>0.0</td>\n",
       "      <td>0.0</td>\n",
       "      <td>0.0</td>\n",
       "      <td>0.0</td>\n",
       "      <td>0.019919</td>\n",
       "      <td>0.019919</td>\n",
       "      <td>0.010924</td>\n",
       "      <td>0.010924</td>\n",
       "      <td>0.008995</td>\n",
       "      <td>0.008995</td>\n",
       "    </tr>\n",
       "    <tr>\n",
       "      <th>1</th>\n",
       "      <td>0.211</td>\n",
       "      <td>1</td>\n",
       "      <td>2016-01-01 00:15:00</td>\n",
       "      <td>D2</td>\n",
       "      <td>0.0</td>\n",
       "      <td>-0.211</td>\n",
       "      <td>1</td>\n",
       "      <td>0.697163</td>\n",
       "      <td>-30.2655</td>\n",
       "      <td>1</td>\n",
       "      <td>...</td>\n",
       "      <td>0.0</td>\n",
       "      <td>0.0</td>\n",
       "      <td>0.0</td>\n",
       "      <td>0.0</td>\n",
       "      <td>0.041039</td>\n",
       "      <td>0.041039</td>\n",
       "      <td>0.022507</td>\n",
       "      <td>0.022507</td>\n",
       "      <td>0.018532</td>\n",
       "      <td>0.018532</td>\n",
       "    </tr>\n",
       "    <tr>\n",
       "      <th>2</th>\n",
       "      <td>0.210</td>\n",
       "      <td>1</td>\n",
       "      <td>2016-01-01 00:30:00</td>\n",
       "      <td>D2</td>\n",
       "      <td>0.0</td>\n",
       "      <td>-0.210</td>\n",
       "      <td>1</td>\n",
       "      <td>0.696575</td>\n",
       "      <td>-30.1475</td>\n",
       "      <td>1</td>\n",
       "      <td>...</td>\n",
       "      <td>0.0</td>\n",
       "      <td>0.0</td>\n",
       "      <td>0.0</td>\n",
       "      <td>0.0</td>\n",
       "      <td>0.062058</td>\n",
       "      <td>0.062058</td>\n",
       "      <td>0.034034</td>\n",
       "      <td>0.034034</td>\n",
       "      <td>0.028024</td>\n",
       "      <td>0.028024</td>\n",
       "    </tr>\n",
       "    <tr>\n",
       "      <th>3</th>\n",
       "      <td>0.210</td>\n",
       "      <td>1</td>\n",
       "      <td>2016-01-01 00:45:00</td>\n",
       "      <td>D2</td>\n",
       "      <td>0.0</td>\n",
       "      <td>-0.210</td>\n",
       "      <td>1</td>\n",
       "      <td>0.696899</td>\n",
       "      <td>-30.1335</td>\n",
       "      <td>1</td>\n",
       "      <td>...</td>\n",
       "      <td>0.0</td>\n",
       "      <td>0.0</td>\n",
       "      <td>0.0</td>\n",
       "      <td>0.0</td>\n",
       "      <td>0.083078</td>\n",
       "      <td>0.083078</td>\n",
       "      <td>0.045562</td>\n",
       "      <td>0.045562</td>\n",
       "      <td>0.037516</td>\n",
       "      <td>0.037516</td>\n",
       "    </tr>\n",
       "    <tr>\n",
       "      <th>4</th>\n",
       "      <td>0.206</td>\n",
       "      <td>1</td>\n",
       "      <td>2016-01-01 01:00:00</td>\n",
       "      <td>D2</td>\n",
       "      <td>0.0</td>\n",
       "      <td>-0.206</td>\n",
       "      <td>1</td>\n",
       "      <td>0.668940</td>\n",
       "      <td>-30.7950</td>\n",
       "      <td>1</td>\n",
       "      <td>...</td>\n",
       "      <td>0.0</td>\n",
       "      <td>0.0</td>\n",
       "      <td>0.0</td>\n",
       "      <td>0.0</td>\n",
       "      <td>0.103697</td>\n",
       "      <td>0.103697</td>\n",
       "      <td>0.056870</td>\n",
       "      <td>0.056870</td>\n",
       "      <td>0.046827</td>\n",
       "      <td>0.046827</td>\n",
       "    </tr>\n",
       "  </tbody>\n",
       "</table>\n",
       "<p>5 rows × 65 columns</p>\n",
       "</div>"
      ],
      "text/plain": [
       "   spotreba  om           timestamp tarifa  vyroba   diff  viac_spotreby  \\\n",
       "0     0.199   1 2016-01-01 00:00:00     D2     0.0 -0.199              1   \n",
       "1     0.211   1 2016-01-01 00:15:00     D2     0.0 -0.211              1   \n",
       "2     0.210   1 2016-01-01 00:30:00     D2     0.0 -0.210              1   \n",
       "3     0.210   1 2016-01-01 00:45:00     D2     0.0 -0.210              1   \n",
       "4     0.206   1 2016-01-01 01:00:00     D2     0.0 -0.206              1   \n",
       "\n",
       "   percentage  diff_total  viac_spotreby_total  \\\n",
       "0    0.742011    -26.8190                    1   \n",
       "1    0.697163    -30.2655                    1   \n",
       "2    0.696575    -30.1475                    1   \n",
       "3    0.696899    -30.1335                    1   \n",
       "4    0.668940    -30.7950                    1   \n",
       "\n",
       "                 ...                  revenue_OM_za_predaj_do_komunuty_1D  \\\n",
       "0                ...                                                  0.0   \n",
       "1                ...                                                  0.0   \n",
       "2                ...                                                  0.0   \n",
       "3                ...                                                  0.0   \n",
       "4                ...                                                  0.0   \n",
       "\n",
       "   revenue_OM_za_predaj_do_siete_1D  \\\n",
       "0                               0.0   \n",
       "1                               0.0   \n",
       "2                               0.0   \n",
       "3                               0.0   \n",
       "4                               0.0   \n",
       "\n",
       "   revenue_OM_za_predaj_do_komunuty_no_power_1D  \\\n",
       "0                                           0.0   \n",
       "1                                           0.0   \n",
       "2                                           0.0   \n",
       "3                                           0.0   \n",
       "4                                           0.0   \n",
       "\n",
       "   revenue_OM_za_predaj_do_siete_no_power_1D  revenue_zse_total_1D  \\\n",
       "0                                        0.0              0.019919   \n",
       "1                                        0.0              0.041039   \n",
       "2                                        0.0              0.062058   \n",
       "3                                        0.0              0.083078   \n",
       "4                                        0.0              0.103697   \n",
       "\n",
       "   revenue_zse_total_no_power_1D  revenue_zse_distribucia_1D  \\\n",
       "0                       0.019919                    0.010924   \n",
       "1                       0.041039                    0.022507   \n",
       "2                       0.062058                    0.034034   \n",
       "3                       0.083078                    0.045562   \n",
       "4                       0.103697                    0.056870   \n",
       "\n",
       "   revenue_zse_distribucia_no_power_1D  revenue_zse_elektrika_1D  \\\n",
       "0                             0.010924                  0.008995   \n",
       "1                             0.022507                  0.018532   \n",
       "2                             0.034034                  0.028024   \n",
       "3                             0.045562                  0.037516   \n",
       "4                             0.056870                  0.046827   \n",
       "\n",
       "   revenue_zse_elektrika_no_power_1D  \n",
       "0                           0.008995  \n",
       "1                           0.018532  \n",
       "2                           0.028024  \n",
       "3                           0.037516  \n",
       "4                           0.046827  \n",
       "\n",
       "[5 rows x 65 columns]"
      ]
     },
     "execution_count": 432,
     "metadata": {},
     "output_type": "execute_result"
    }
   ],
   "source": [
    "res.head()"
   ]
  },
  {
   "cell_type": "code",
   "execution_count": 420,
   "metadata": {},
   "outputs": [],
   "source": [
    "# res_cost[res_cost[\"revenue_OM_za_predaj_do_komunuty\"] != res_cost[\"revenue_OM_za_predaj_do_siete_no_power\"]]"
   ]
  },
  {
   "cell_type": "code",
   "execution_count": 437,
   "metadata": {},
   "outputs": [],
   "source": [
    "res.cluster = res.cluster.astype(str) + \"C\""
   ]
  },
  {
   "cell_type": "code",
   "execution_count": 438,
   "metadata": {},
   "outputs": [
    {
     "data": {
      "text/plain": [
       "2C    2025272\n",
       "3C    1510676\n",
       "0C    1112804\n",
       "1C     597244\n",
       "Name: cluster, dtype: int64"
      ]
     },
     "execution_count": 438,
     "metadata": {},
     "output_type": "execute_result"
    }
   ],
   "source": [
    "res.cluster.value_counts()"
   ]
  },
  {
   "cell_type": "code",
   "execution_count": 248,
   "metadata": {},
   "outputs": [],
   "source": [
    "# res.to_csv(data_path + \"data_prepared_for_dashboard.csv\", sep = \";\", index = False)"
   ]
  },
  {
   "cell_type": "code",
   "execution_count": 304,
   "metadata": {},
   "outputs": [],
   "source": []
  },
  {
   "cell_type": "code",
   "execution_count": 306,
   "metadata": {},
   "outputs": [],
   "source": [
    "# res.rename({\"cluster_y\":\"cluster\"},axis = 1, inplace=True)"
   ]
  },
  {
   "cell_type": "code",
   "execution_count": 307,
   "metadata": {},
   "outputs": [
    {
     "data": {
      "text/plain": [
       "2    2025272\n",
       "3    1510676\n",
       "0    1112804\n",
       "1     597244\n",
       "Name: cluster, dtype: int64"
      ]
     },
     "execution_count": 307,
     "metadata": {},
     "output_type": "execute_result"
    }
   ],
   "source": [
    "# res.cluster.value_counts()"
   ]
  },
  {
   "cell_type": "code",
   "execution_count": 439,
   "metadata": {},
   "outputs": [],
   "source": [
    "res[res.timestamp >= \"2016-09-30 00:00:00\"].to_csv(data_path + \"data_prepared_for_dashboard.csv\", sep = \";\", index = False)"
   ]
  },
  {
   "cell_type": "code",
   "execution_count": 297,
   "metadata": {},
   "outputs": [],
   "source": [
    "# res[(res.om == 5) & (res.timestamp.between(\"2016-10-28 00:00:00\",\"2016-10-31 00:00:00\"))][[\"diff\",\"diff_total\",\"percentage\",\"viac_spotreby\",\"viac_spotreby_total\",\n",
    "#                                                                                            \"expense_to_komunity\",\"expense_to_network\",\n",
    "#                                                                                           \"nakup_from_community\",\"nakup_from_network\"\n",
    "#                                                                                           ]]"
   ]
  }
 ],
 "metadata": {
  "kernelspec": {
   "display_name": "Python 3",
   "language": "python",
   "name": "python3"
  },
  "language_info": {
   "codemirror_mode": {
    "name": "ipython",
    "version": 3
   },
   "file_extension": ".py",
   "mimetype": "text/x-python",
   "name": "python",
   "nbconvert_exporter": "python",
   "pygments_lexer": "ipython3",
   "version": "3.6.1"
  }
 },
 "nbformat": 4,
 "nbformat_minor": 2
}
