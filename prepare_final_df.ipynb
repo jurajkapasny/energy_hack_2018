{
 "cells": [
  {
   "cell_type": "code",
   "execution_count": 1,
   "metadata": {},
   "outputs": [],
   "source": [
    "import random\n",
    "import pandas as pd \n",
    "from copy import deepcopy\n",
    "from sklearn.externals import joblib\n",
    "from sklearn.model_selection import train_test_split\n",
    "from xgboost.sklearn import XGBRegressor\n",
    "from sklearn.ensemble import RandomForestRegressor\n",
    "from sklearn.model_selection import cross_val_score\n",
    "from sklearn.model_selection import GridSearchCV\n",
    "from sklearn.metrics import r2_score, mean_absolute_error, median_absolute_error,mean_squared_error\n",
    "import matplotlib.pyplot as plt\n",
    "import numpy as np\n",
    "import pickle\n",
    "# from skopt import BayesSearchCV\n",
    "import datetime as dt\n",
    "import itertools\n",
    "\n",
    "import warnings\n",
    "warnings.filterwarnings('ignore')"
   ]
  },
  {
   "cell_type": "code",
   "execution_count": 2,
   "metadata": {},
   "outputs": [],
   "source": [
    "data_path = \"/Users/jurajkapasny/Data/energy_hack/\"\n",
    "df = pd.read_csv(data_path+\"spotreba_prepared.csv\",sep = \";\")"
   ]
  },
  {
   "cell_type": "code",
   "execution_count": 3,
   "metadata": {},
   "outputs": [
    {
     "data": {
      "text/html": [
       "<div>\n",
       "<style scoped>\n",
       "    .dataframe tbody tr th:only-of-type {\n",
       "        vertical-align: middle;\n",
       "    }\n",
       "\n",
       "    .dataframe tbody tr th {\n",
       "        vertical-align: top;\n",
       "    }\n",
       "\n",
       "    .dataframe thead th {\n",
       "        text-align: right;\n",
       "    }\n",
       "</style>\n",
       "<table border=\"1\" class=\"dataframe\">\n",
       "  <thead>\n",
       "    <tr style=\"text-align: right;\">\n",
       "      <th></th>\n",
       "      <th>spotreba</th>\n",
       "      <th>om</th>\n",
       "      <th>timestamp</th>\n",
       "    </tr>\n",
       "  </thead>\n",
       "  <tbody>\n",
       "    <tr>\n",
       "      <th>0</th>\n",
       "      <td>0.211</td>\n",
       "      <td>1</td>\n",
       "      <td>2016-01-01 00:15:00</td>\n",
       "    </tr>\n",
       "    <tr>\n",
       "      <th>1</th>\n",
       "      <td>0.210</td>\n",
       "      <td>1</td>\n",
       "      <td>2016-01-01 00:30:00</td>\n",
       "    </tr>\n",
       "    <tr>\n",
       "      <th>2</th>\n",
       "      <td>0.210</td>\n",
       "      <td>1</td>\n",
       "      <td>2016-01-01 00:45:00</td>\n",
       "    </tr>\n",
       "    <tr>\n",
       "      <th>3</th>\n",
       "      <td>0.206</td>\n",
       "      <td>1</td>\n",
       "      <td>2016-01-01 01:00:00</td>\n",
       "    </tr>\n",
       "    <tr>\n",
       "      <th>4</th>\n",
       "      <td>0.205</td>\n",
       "      <td>1</td>\n",
       "      <td>2016-01-01 01:15:00</td>\n",
       "    </tr>\n",
       "  </tbody>\n",
       "</table>\n",
       "</div>"
      ],
      "text/plain": [
       "   spotreba  om            timestamp\n",
       "0     0.211   1  2016-01-01 00:15:00\n",
       "1     0.210   1  2016-01-01 00:30:00\n",
       "2     0.210   1  2016-01-01 00:45:00\n",
       "3     0.206   1  2016-01-01 01:00:00\n",
       "4     0.205   1  2016-01-01 01:15:00"
      ]
     },
     "execution_count": 3,
     "metadata": {},
     "output_type": "execute_result"
    }
   ],
   "source": [
    "df[\"timestamp\"] = df[\"Dátum a čas\"] + \" \" + df[\"Unnamed: 1\"]\n",
    "df = df[[\"spotreba\",\"om\",\"timestamp\"]]\n",
    "df.head()"
   ]
  },
  {
   "cell_type": "code",
   "execution_count": 4,
   "metadata": {},
   "outputs": [],
   "source": [
    "om_info = pd.read_csv(data_path+\"om_info_prepared.csv\",sep = \";\")\n",
    "om_info.drop(\"Unnamed: 0\",axis = 1, inplace=True)"
   ]
  },
  {
   "cell_type": "code",
   "execution_count": 51,
   "metadata": {},
   "outputs": [
    {
     "data": {
      "text/html": [
       "<div>\n",
       "<style scoped>\n",
       "    .dataframe tbody tr th:only-of-type {\n",
       "        vertical-align: middle;\n",
       "    }\n",
       "\n",
       "    .dataframe tbody tr th {\n",
       "        vertical-align: top;\n",
       "    }\n",
       "\n",
       "    .dataframe thead th {\n",
       "        text-align: right;\n",
       "    }\n",
       "</style>\n",
       "<table border=\"1\" class=\"dataframe\">\n",
       "  <thead>\n",
       "    <tr style=\"text-align: right;\">\n",
       "      <th></th>\n",
       "      <th>Číslo OM</th>\n",
       "      <th>Zapojenie</th>\n",
       "      <th>Druh tarify</th>\n",
       "      <th>Inštalovaný výkon FVE (kWp)</th>\n",
       "    </tr>\n",
       "  </thead>\n",
       "  <tbody>\n",
       "    <tr>\n",
       "      <th>0</th>\n",
       "      <td>1</td>\n",
       "      <td>A</td>\n",
       "      <td>D2</td>\n",
       "      <td>2.0</td>\n",
       "    </tr>\n",
       "    <tr>\n",
       "      <th>1</th>\n",
       "      <td>2</td>\n",
       "      <td>A</td>\n",
       "      <td>D2</td>\n",
       "      <td>7.2</td>\n",
       "    </tr>\n",
       "    <tr>\n",
       "      <th>2</th>\n",
       "      <td>3</td>\n",
       "      <td>A</td>\n",
       "      <td>D2</td>\n",
       "      <td>2.0</td>\n",
       "    </tr>\n",
       "    <tr>\n",
       "      <th>3</th>\n",
       "      <td>4</td>\n",
       "      <td>A</td>\n",
       "      <td>D1</td>\n",
       "      <td>0.0</td>\n",
       "    </tr>\n",
       "    <tr>\n",
       "      <th>4</th>\n",
       "      <td>5</td>\n",
       "      <td>C</td>\n",
       "      <td>D4</td>\n",
       "      <td>9.2</td>\n",
       "    </tr>\n",
       "  </tbody>\n",
       "</table>\n",
       "</div>"
      ],
      "text/plain": [
       "   Číslo OM Zapojenie Druh tarify  Inštalovaný výkon FVE (kWp)\n",
       "0         1         A          D2                          2.0\n",
       "1         2         A          D2                          7.2\n",
       "2         3         A          D2                          2.0\n",
       "3         4         A          D1                          0.0\n",
       "4         5         C          D4                          9.2"
      ]
     },
     "execution_count": 51,
     "metadata": {},
     "output_type": "execute_result"
    }
   ],
   "source": [
    "om_info.head()"
   ]
  },
  {
   "cell_type": "markdown",
   "metadata": {},
   "source": [
    "#### Adding tarif to main_df "
   ]
  },
  {
   "cell_type": "code",
   "execution_count": 5,
   "metadata": {},
   "outputs": [],
   "source": [
    "df_final = df.merge(om_info[[\"Číslo OM\",\n",
    "                             \"Druh tarify\",\n",
    "                             \"Inštalovaný výkon FVE (kWp)\"]], \n",
    "                    how = \"left\", \n",
    "                    left_on = \"om\", \n",
    "                    right_on = \"Číslo OM\")"
   ]
  },
  {
   "cell_type": "code",
   "execution_count": 6,
   "metadata": {},
   "outputs": [
    {
     "data": {
      "text/html": [
       "<div>\n",
       "<style scoped>\n",
       "    .dataframe tbody tr th:only-of-type {\n",
       "        vertical-align: middle;\n",
       "    }\n",
       "\n",
       "    .dataframe tbody tr th {\n",
       "        vertical-align: top;\n",
       "    }\n",
       "\n",
       "    .dataframe thead th {\n",
       "        text-align: right;\n",
       "    }\n",
       "</style>\n",
       "<table border=\"1\" class=\"dataframe\">\n",
       "  <thead>\n",
       "    <tr style=\"text-align: right;\">\n",
       "      <th></th>\n",
       "      <th>spotreba</th>\n",
       "      <th>om</th>\n",
       "      <th>timestamp</th>\n",
       "      <th>Číslo OM</th>\n",
       "      <th>Druh tarify</th>\n",
       "      <th>Inštalovaný výkon FVE (kWp)</th>\n",
       "    </tr>\n",
       "  </thead>\n",
       "  <tbody>\n",
       "    <tr>\n",
       "      <th>0</th>\n",
       "      <td>0.211</td>\n",
       "      <td>1</td>\n",
       "      <td>2016-01-01 00:15:00</td>\n",
       "      <td>1</td>\n",
       "      <td>D2</td>\n",
       "      <td>2.0</td>\n",
       "    </tr>\n",
       "    <tr>\n",
       "      <th>1</th>\n",
       "      <td>0.210</td>\n",
       "      <td>1</td>\n",
       "      <td>2016-01-01 00:30:00</td>\n",
       "      <td>1</td>\n",
       "      <td>D2</td>\n",
       "      <td>2.0</td>\n",
       "    </tr>\n",
       "    <tr>\n",
       "      <th>2</th>\n",
       "      <td>0.210</td>\n",
       "      <td>1</td>\n",
       "      <td>2016-01-01 00:45:00</td>\n",
       "      <td>1</td>\n",
       "      <td>D2</td>\n",
       "      <td>2.0</td>\n",
       "    </tr>\n",
       "    <tr>\n",
       "      <th>3</th>\n",
       "      <td>0.206</td>\n",
       "      <td>1</td>\n",
       "      <td>2016-01-01 01:00:00</td>\n",
       "      <td>1</td>\n",
       "      <td>D2</td>\n",
       "      <td>2.0</td>\n",
       "    </tr>\n",
       "    <tr>\n",
       "      <th>4</th>\n",
       "      <td>0.205</td>\n",
       "      <td>1</td>\n",
       "      <td>2016-01-01 01:15:00</td>\n",
       "      <td>1</td>\n",
       "      <td>D2</td>\n",
       "      <td>2.0</td>\n",
       "    </tr>\n",
       "  </tbody>\n",
       "</table>\n",
       "</div>"
      ],
      "text/plain": [
       "   spotreba  om            timestamp  Číslo OM Druh tarify  \\\n",
       "0     0.211   1  2016-01-01 00:15:00         1          D2   \n",
       "1     0.210   1  2016-01-01 00:30:00         1          D2   \n",
       "2     0.210   1  2016-01-01 00:45:00         1          D2   \n",
       "3     0.206   1  2016-01-01 01:00:00         1          D2   \n",
       "4     0.205   1  2016-01-01 01:15:00         1          D2   \n",
       "\n",
       "   Inštalovaný výkon FVE (kWp)  \n",
       "0                          2.0  \n",
       "1                          2.0  \n",
       "2                          2.0  \n",
       "3                          2.0  \n",
       "4                          2.0  "
      ]
     },
     "execution_count": 6,
     "metadata": {},
     "output_type": "execute_result"
    }
   ],
   "source": [
    "df_final.head()"
   ]
  },
  {
   "cell_type": "markdown",
   "metadata": {},
   "source": [
    "#### Adding vyroba"
   ]
  },
  {
   "cell_type": "code",
   "execution_count": 7,
   "metadata": {},
   "outputs": [],
   "source": [
    "vyroba = pd.read_csv(data_path+\"vyroba_prepared.csv\",sep = \";\")\n",
    "# vyroba.drop(\"Unnamed: 0\",axis = 1, inplace=True)"
   ]
  },
  {
   "cell_type": "code",
   "execution_count": 8,
   "metadata": {},
   "outputs": [
    {
     "data": {
      "text/html": [
       "<div>\n",
       "<style scoped>\n",
       "    .dataframe tbody tr th:only-of-type {\n",
       "        vertical-align: middle;\n",
       "    }\n",
       "\n",
       "    .dataframe tbody tr th {\n",
       "        vertical-align: top;\n",
       "    }\n",
       "\n",
       "    .dataframe thead th {\n",
       "        text-align: right;\n",
       "    }\n",
       "</style>\n",
       "<table border=\"1\" class=\"dataframe\">\n",
       "  <thead>\n",
       "    <tr style=\"text-align: right;\">\n",
       "      <th></th>\n",
       "      <th>time</th>\n",
       "      <th>level_1</th>\n",
       "      <th>0</th>\n",
       "    </tr>\n",
       "  </thead>\n",
       "  <tbody>\n",
       "    <tr>\n",
       "      <th>245947</th>\n",
       "      <td>2016-12-31 23:44:59.993</td>\n",
       "      <td>3.15</td>\n",
       "      <td>0.0</td>\n",
       "    </tr>\n",
       "    <tr>\n",
       "      <th>245948</th>\n",
       "      <td>2016-12-31 23:44:59.993</td>\n",
       "      <td>4</td>\n",
       "      <td>0.0</td>\n",
       "    </tr>\n",
       "    <tr>\n",
       "      <th>245949</th>\n",
       "      <td>2016-12-31 23:44:59.993</td>\n",
       "      <td>5</td>\n",
       "      <td>0.0</td>\n",
       "    </tr>\n",
       "    <tr>\n",
       "      <th>245950</th>\n",
       "      <td>2016-12-31 23:44:59.993</td>\n",
       "      <td>7.2</td>\n",
       "      <td>0.0</td>\n",
       "    </tr>\n",
       "    <tr>\n",
       "      <th>245951</th>\n",
       "      <td>2016-12-31 23:44:59.993</td>\n",
       "      <td>9.2</td>\n",
       "      <td>0.0</td>\n",
       "    </tr>\n",
       "  </tbody>\n",
       "</table>\n",
       "</div>"
      ],
      "text/plain": [
       "                           time level_1    0\n",
       "245947  2016-12-31 23:44:59.993    3.15  0.0\n",
       "245948  2016-12-31 23:44:59.993       4  0.0\n",
       "245949  2016-12-31 23:44:59.993       5  0.0\n",
       "245950  2016-12-31 23:44:59.993     7.2  0.0\n",
       "245951  2016-12-31 23:44:59.993     9.2  0.0"
      ]
     },
     "execution_count": 8,
     "metadata": {},
     "output_type": "execute_result"
    }
   ],
   "source": [
    "vyroba_tr = pd.DataFrame(vyroba.set_index(\"time\").stack()).reset_index()\n",
    "vyroba_tr.tail()"
   ]
  },
  {
   "cell_type": "code",
   "execution_count": 9,
   "metadata": {},
   "outputs": [],
   "source": [
    "vyroba_tr.time = pd.to_datetime(vyroba_tr.time).dt.round('1s')\n",
    "vyroba_tr.level_1 = vyroba_tr.level_1.astype(float)\n",
    "df_final.timestamp = pd.to_datetime(df_final.timestamp)"
   ]
  },
  {
   "cell_type": "code",
   "execution_count": 10,
   "metadata": {},
   "outputs": [
    {
     "data": {
      "text/html": [
       "<div>\n",
       "<style scoped>\n",
       "    .dataframe tbody tr th:only-of-type {\n",
       "        vertical-align: middle;\n",
       "    }\n",
       "\n",
       "    .dataframe tbody tr th {\n",
       "        vertical-align: top;\n",
       "    }\n",
       "\n",
       "    .dataframe thead th {\n",
       "        text-align: right;\n",
       "    }\n",
       "</style>\n",
       "<table border=\"1\" class=\"dataframe\">\n",
       "  <thead>\n",
       "    <tr style=\"text-align: right;\">\n",
       "      <th></th>\n",
       "      <th>time</th>\n",
       "      <th>level_1</th>\n",
       "      <th>0</th>\n",
       "    </tr>\n",
       "  </thead>\n",
       "  <tbody>\n",
       "    <tr>\n",
       "      <th>0</th>\n",
       "      <td>2016-01-01</td>\n",
       "      <td>2.00</td>\n",
       "      <td>0.0</td>\n",
       "    </tr>\n",
       "    <tr>\n",
       "      <th>1</th>\n",
       "      <td>2016-01-01</td>\n",
       "      <td>2.50</td>\n",
       "      <td>0.0</td>\n",
       "    </tr>\n",
       "    <tr>\n",
       "      <th>2</th>\n",
       "      <td>2016-01-01</td>\n",
       "      <td>3.15</td>\n",
       "      <td>0.0</td>\n",
       "    </tr>\n",
       "    <tr>\n",
       "      <th>3</th>\n",
       "      <td>2016-01-01</td>\n",
       "      <td>4.00</td>\n",
       "      <td>0.0</td>\n",
       "    </tr>\n",
       "    <tr>\n",
       "      <th>4</th>\n",
       "      <td>2016-01-01</td>\n",
       "      <td>5.00</td>\n",
       "      <td>0.0</td>\n",
       "    </tr>\n",
       "  </tbody>\n",
       "</table>\n",
       "</div>"
      ],
      "text/plain": [
       "        time  level_1    0\n",
       "0 2016-01-01     2.00  0.0\n",
       "1 2016-01-01     2.50  0.0\n",
       "2 2016-01-01     3.15  0.0\n",
       "3 2016-01-01     4.00  0.0\n",
       "4 2016-01-01     5.00  0.0"
      ]
     },
     "execution_count": 10,
     "metadata": {},
     "output_type": "execute_result"
    }
   ],
   "source": [
    "vyroba_tr.head()"
   ]
  },
  {
   "cell_type": "code",
   "execution_count": 11,
   "metadata": {},
   "outputs": [],
   "source": [
    "df_final = df_final.merge(vyroba_tr[[\"time\",\"level_1\",0]], \n",
    "                          how=\"left\",\n",
    "                          left_on = [\"timestamp\",\"Inštalovaný výkon FVE (kWp)\"],\n",
    "                          right_on = [\"time\",\"level_1\"])"
   ]
  },
  {
   "cell_type": "code",
   "execution_count": 12,
   "metadata": {},
   "outputs": [],
   "source": [
    "df_final.drop([\"time\",\"level_1\",\"Číslo OM\"],axis = 1, inplace=True)"
   ]
  },
  {
   "cell_type": "code",
   "execution_count": 13,
   "metadata": {},
   "outputs": [
    {
     "data": {
      "text/plain": [
       "spotreba                       5245996\n",
       "om                             5245996\n",
       "timestamp                      5245996\n",
       "Druh tarify                    5245996\n",
       "Inštalovaný výkon FVE (kWp)    5245996\n",
       "0                              3489396\n",
       "dtype: int64"
      ]
     },
     "execution_count": 13,
     "metadata": {},
     "output_type": "execute_result"
    }
   ],
   "source": [
    "df_final.count()"
   ]
  },
  {
   "cell_type": "code",
   "execution_count": 14,
   "metadata": {},
   "outputs": [],
   "source": [
    "df_final.fillna(0,inplace = True)"
   ]
  },
  {
   "cell_type": "code",
   "execution_count": 15,
   "metadata": {},
   "outputs": [],
   "source": [
    "# df_final.head()\n",
    "df_final = df_final.rename({0: \"vyroba\", \n",
    "                            \"Inštalovaný výkon FVE (kWp)\":\"vykon\",\n",
    "                           \"Druh tarify\":\"tarifa\"}, axis=1)"
   ]
  },
  {
   "cell_type": "code",
   "execution_count": 16,
   "metadata": {},
   "outputs": [
    {
     "data": {
      "text/plain": [
       "150"
      ]
     },
     "execution_count": 16,
     "metadata": {},
     "output_type": "execute_result"
    }
   ],
   "source": [
    "len(df_final.om.unique())"
   ]
  },
  {
   "cell_type": "markdown",
   "metadata": {},
   "source": [
    "#### getting the diff for everyone everytime"
   ]
  },
  {
   "cell_type": "code",
   "execution_count": 17,
   "metadata": {},
   "outputs": [],
   "source": [
    "df_final[\"diff\"] = df_final.vyroba - df_final.spotreba\n",
    "\n",
    "# total_spotreba_per_day = df_with_day[[\"day\",\"spotreba\",\"vyroba\"]].groupby(\"day\")[[\"spotreba\",\"vyroba\"]].sum()"
   ]
  },
  {
   "cell_type": "code",
   "execution_count": 18,
   "metadata": {},
   "outputs": [
    {
     "data": {
      "text/plain": [
       "spotreba     5245996\n",
       "om           5245996\n",
       "timestamp    5245996\n",
       "tarifa       5245996\n",
       "vykon        5245996\n",
       "vyroba       5245996\n",
       "diff         5245996\n",
       "dtype: int64"
      ]
     },
     "execution_count": 18,
     "metadata": {},
     "output_type": "execute_result"
    }
   ],
   "source": [
    "df_final.count()"
   ]
  },
  {
   "cell_type": "code",
   "execution_count": 19,
   "metadata": {},
   "outputs": [
    {
     "data": {
      "text/html": [
       "<div>\n",
       "<style scoped>\n",
       "    .dataframe tbody tr th:only-of-type {\n",
       "        vertical-align: middle;\n",
       "    }\n",
       "\n",
       "    .dataframe tbody tr th {\n",
       "        vertical-align: top;\n",
       "    }\n",
       "\n",
       "    .dataframe thead th {\n",
       "        text-align: right;\n",
       "    }\n",
       "</style>\n",
       "<table border=\"1\" class=\"dataframe\">\n",
       "  <thead>\n",
       "    <tr style=\"text-align: right;\">\n",
       "      <th></th>\n",
       "      <th>spotreba</th>\n",
       "      <th>om</th>\n",
       "      <th>timestamp</th>\n",
       "      <th>tarifa</th>\n",
       "      <th>vykon</th>\n",
       "      <th>vyroba</th>\n",
       "      <th>diff</th>\n",
       "    </tr>\n",
       "  </thead>\n",
       "  <tbody>\n",
       "    <tr>\n",
       "      <th>0</th>\n",
       "      <td>0.211</td>\n",
       "      <td>1</td>\n",
       "      <td>2016-01-01 00:15:00</td>\n",
       "      <td>D2</td>\n",
       "      <td>2.0</td>\n",
       "      <td>0.0</td>\n",
       "      <td>-0.211</td>\n",
       "    </tr>\n",
       "    <tr>\n",
       "      <th>1</th>\n",
       "      <td>0.210</td>\n",
       "      <td>1</td>\n",
       "      <td>2016-01-01 00:30:00</td>\n",
       "      <td>D2</td>\n",
       "      <td>2.0</td>\n",
       "      <td>0.0</td>\n",
       "      <td>-0.210</td>\n",
       "    </tr>\n",
       "    <tr>\n",
       "      <th>2</th>\n",
       "      <td>0.210</td>\n",
       "      <td>1</td>\n",
       "      <td>2016-01-01 00:45:00</td>\n",
       "      <td>D2</td>\n",
       "      <td>2.0</td>\n",
       "      <td>0.0</td>\n",
       "      <td>-0.210</td>\n",
       "    </tr>\n",
       "    <tr>\n",
       "      <th>3</th>\n",
       "      <td>0.206</td>\n",
       "      <td>1</td>\n",
       "      <td>2016-01-01 01:00:00</td>\n",
       "      <td>D2</td>\n",
       "      <td>2.0</td>\n",
       "      <td>0.0</td>\n",
       "      <td>-0.206</td>\n",
       "    </tr>\n",
       "    <tr>\n",
       "      <th>4</th>\n",
       "      <td>0.205</td>\n",
       "      <td>1</td>\n",
       "      <td>2016-01-01 01:15:00</td>\n",
       "      <td>D2</td>\n",
       "      <td>2.0</td>\n",
       "      <td>0.0</td>\n",
       "      <td>-0.205</td>\n",
       "    </tr>\n",
       "  </tbody>\n",
       "</table>\n",
       "</div>"
      ],
      "text/plain": [
       "   spotreba  om           timestamp tarifa  vykon  vyroba   diff\n",
       "0     0.211   1 2016-01-01 00:15:00     D2    2.0     0.0 -0.211\n",
       "1     0.210   1 2016-01-01 00:30:00     D2    2.0     0.0 -0.210\n",
       "2     0.210   1 2016-01-01 00:45:00     D2    2.0     0.0 -0.210\n",
       "3     0.206   1 2016-01-01 01:00:00     D2    2.0     0.0 -0.206\n",
       "4     0.205   1 2016-01-01 01:15:00     D2    2.0     0.0 -0.205"
      ]
     },
     "execution_count": 19,
     "metadata": {},
     "output_type": "execute_result"
    }
   ],
   "source": [
    "df_final.head()"
   ]
  },
  {
   "cell_type": "markdown",
   "metadata": {},
   "source": [
    "#### percentages"
   ]
  },
  {
   "cell_type": "code",
   "execution_count": 20,
   "metadata": {},
   "outputs": [],
   "source": [
    "all_times = list(df_final.timestamp.unique())\n",
    "df_final[\"viac_spotreby\"] = 0\n",
    "df_final.loc[df_final[\"diff\"] <= 0, \"viac_spotreby\"] = 1"
   ]
  },
  {
   "cell_type": "code",
   "execution_count": 21,
   "metadata": {},
   "outputs": [],
   "source": [
    "temp_gr = df_final.groupby([\"timestamp\",\"viac_spotreby\",\"om\"])[[\"diff\"]].sum()"
   ]
  },
  {
   "cell_type": "code",
   "execution_count": 22,
   "metadata": {},
   "outputs": [],
   "source": [
    "temp_gr_pcts = temp_gr.groupby(level=[0,1]).apply(lambda x:\n",
    "                                                 100 * x / float(x.sum()))"
   ]
  },
  {
   "cell_type": "code",
   "execution_count": 23,
   "metadata": {},
   "outputs": [],
   "source": [
    "temp_gr_pcts = temp_gr_pcts.rename({\"diff\": \"percentage\"}, axis=1)\n",
    "temp_gr_pcts = temp_gr_pcts.reset_index()"
   ]
  },
  {
   "cell_type": "code",
   "execution_count": 24,
   "metadata": {},
   "outputs": [],
   "source": [
    "df_final = df_final.merge(temp_gr_pcts.reset_index(), how = \"left\", on = [\"timestamp\",\"om\"])"
   ]
  },
  {
   "cell_type": "code",
   "execution_count": 25,
   "metadata": {},
   "outputs": [
    {
     "data": {
      "text/html": [
       "<div>\n",
       "<style scoped>\n",
       "    .dataframe tbody tr th:only-of-type {\n",
       "        vertical-align: middle;\n",
       "    }\n",
       "\n",
       "    .dataframe tbody tr th {\n",
       "        vertical-align: top;\n",
       "    }\n",
       "\n",
       "    .dataframe thead th {\n",
       "        text-align: right;\n",
       "    }\n",
       "</style>\n",
       "<table border=\"1\" class=\"dataframe\">\n",
       "  <thead>\n",
       "    <tr style=\"text-align: right;\">\n",
       "      <th></th>\n",
       "      <th>spotreba</th>\n",
       "      <th>om</th>\n",
       "      <th>timestamp</th>\n",
       "      <th>tarifa</th>\n",
       "      <th>vykon</th>\n",
       "      <th>vyroba</th>\n",
       "      <th>diff</th>\n",
       "      <th>viac_spotreby_x</th>\n",
       "      <th>index</th>\n",
       "      <th>viac_spotreby_y</th>\n",
       "      <th>percentage</th>\n",
       "    </tr>\n",
       "  </thead>\n",
       "  <tbody>\n",
       "    <tr>\n",
       "      <th>0</th>\n",
       "      <td>0.211</td>\n",
       "      <td>1</td>\n",
       "      <td>2016-01-01 00:15:00</td>\n",
       "      <td>D2</td>\n",
       "      <td>2.0</td>\n",
       "      <td>0.0</td>\n",
       "      <td>-0.211</td>\n",
       "      <td>1</td>\n",
       "      <td>147</td>\n",
       "      <td>1</td>\n",
       "      <td>0.697163</td>\n",
       "    </tr>\n",
       "    <tr>\n",
       "      <th>1</th>\n",
       "      <td>0.210</td>\n",
       "      <td>1</td>\n",
       "      <td>2016-01-01 00:30:00</td>\n",
       "      <td>D2</td>\n",
       "      <td>2.0</td>\n",
       "      <td>0.0</td>\n",
       "      <td>-0.210</td>\n",
       "      <td>1</td>\n",
       "      <td>294</td>\n",
       "      <td>1</td>\n",
       "      <td>0.696575</td>\n",
       "    </tr>\n",
       "    <tr>\n",
       "      <th>2</th>\n",
       "      <td>0.210</td>\n",
       "      <td>1</td>\n",
       "      <td>2016-01-01 00:45:00</td>\n",
       "      <td>D2</td>\n",
       "      <td>2.0</td>\n",
       "      <td>0.0</td>\n",
       "      <td>-0.210</td>\n",
       "      <td>1</td>\n",
       "      <td>441</td>\n",
       "      <td>1</td>\n",
       "      <td>0.696899</td>\n",
       "    </tr>\n",
       "    <tr>\n",
       "      <th>3</th>\n",
       "      <td>0.206</td>\n",
       "      <td>1</td>\n",
       "      <td>2016-01-01 01:00:00</td>\n",
       "      <td>D2</td>\n",
       "      <td>2.0</td>\n",
       "      <td>0.0</td>\n",
       "      <td>-0.206</td>\n",
       "      <td>1</td>\n",
       "      <td>588</td>\n",
       "      <td>1</td>\n",
       "      <td>0.668940</td>\n",
       "    </tr>\n",
       "    <tr>\n",
       "      <th>4</th>\n",
       "      <td>0.205</td>\n",
       "      <td>1</td>\n",
       "      <td>2016-01-01 01:15:00</td>\n",
       "      <td>D2</td>\n",
       "      <td>2.0</td>\n",
       "      <td>0.0</td>\n",
       "      <td>-0.205</td>\n",
       "      <td>1</td>\n",
       "      <td>735</td>\n",
       "      <td>1</td>\n",
       "      <td>0.692088</td>\n",
       "    </tr>\n",
       "  </tbody>\n",
       "</table>\n",
       "</div>"
      ],
      "text/plain": [
       "   spotreba  om           timestamp tarifa  vykon  vyroba   diff  \\\n",
       "0     0.211   1 2016-01-01 00:15:00     D2    2.0     0.0 -0.211   \n",
       "1     0.210   1 2016-01-01 00:30:00     D2    2.0     0.0 -0.210   \n",
       "2     0.210   1 2016-01-01 00:45:00     D2    2.0     0.0 -0.210   \n",
       "3     0.206   1 2016-01-01 01:00:00     D2    2.0     0.0 -0.206   \n",
       "4     0.205   1 2016-01-01 01:15:00     D2    2.0     0.0 -0.205   \n",
       "\n",
       "   viac_spotreby_x  index  viac_spotreby_y  percentage  \n",
       "0                1    147                1    0.697163  \n",
       "1                1    294                1    0.696575  \n",
       "2                1    441                1    0.696899  \n",
       "3                1    588                1    0.668940  \n",
       "4                1    735                1    0.692088  "
      ]
     },
     "execution_count": 25,
     "metadata": {},
     "output_type": "execute_result"
    }
   ],
   "source": [
    "df_final.head()"
   ]
  },
  {
   "cell_type": "code",
   "execution_count": 26,
   "metadata": {},
   "outputs": [],
   "source": [
    "df_final = df_final.rename({\"viac_spotreby_x\": \"viac_spotreby\"}, axis=1)\n",
    "df_final.drop(\"viac_spotreby_y\", axis = 1, inplace=True)"
   ]
  },
  {
   "cell_type": "code",
   "execution_count": 27,
   "metadata": {},
   "outputs": [],
   "source": [
    "# total_energy_left = df_final[[\"timestamp\",\"diff\"]].groupby(\"timestamp\").sum(\"diff\")"
   ]
  },
  {
   "cell_type": "code",
   "execution_count": 34,
   "metadata": {},
   "outputs": [],
   "source": [
    "# only those with profit \n",
    "# df_with_day_profit = temp[temp[\"diff\"] > 0]\n",
    "# df_with_day_loss = temp[temp[\"diff\"] <= 0]\n",
    "# df_with_day_loss[\"percentage\"] = df_with_day_loss[\"diff\"] / df_with_day_loss[\"diff\"].sum()\n",
    "# df_with_day_profit[\"percentage\"] = df_with_day_profit[\"diff\"] / df_with_day_profit[\"diff\"].sum()\n",
    "\n",
    "# total_energy_left = temp[temp[\"diff\"] > 0][\"diff\"].sum()\n",
    "# total_energy_needed = -temp[temp[\"diff\"] <= 0][\"diff\"].sum()\n",
    "total_energy_left = df_final[[\"timestamp\",\"viac_spotreby\",\"diff\"]].groupby([\"timestamp\",\"viac_spotreby\"]).sum()\n",
    "index = pd.MultiIndex.from_product([all_times, [0,1]], names = [\"timestamp\", \"viac_spotreby\"])\n",
    "all_comb = pd.DataFrame(index = index).reset_index()\n",
    "\n",
    "total_energy_left = all_comb.merge(total_energy_left.reset_index(), how = \"left\", on = [\"timestamp\",\"viac_spotreby\"])\n",
    "\n",
    "total_energy_left.fillna(0, inplace=True)\n",
    "\n",
    "# bad_guys = list(temp[temp[\"diff\"] < 0].om.unique())"
   ]
  },
  {
   "cell_type": "code",
   "execution_count": 35,
   "metadata": {},
   "outputs": [
    {
     "data": {
      "text/html": [
       "<div>\n",
       "<style scoped>\n",
       "    .dataframe tbody tr th:only-of-type {\n",
       "        vertical-align: middle;\n",
       "    }\n",
       "\n",
       "    .dataframe tbody tr th {\n",
       "        vertical-align: top;\n",
       "    }\n",
       "\n",
       "    .dataframe thead th {\n",
       "        text-align: right;\n",
       "    }\n",
       "</style>\n",
       "<table border=\"1\" class=\"dataframe\">\n",
       "  <thead>\n",
       "    <tr style=\"text-align: right;\">\n",
       "      <th></th>\n",
       "      <th>timestamp</th>\n",
       "      <th>viac_spotreby</th>\n",
       "      <th>diff</th>\n",
       "    </tr>\n",
       "  </thead>\n",
       "  <tbody>\n",
       "    <tr>\n",
       "      <th>0</th>\n",
       "      <td>2016-01-01 00:15:00</td>\n",
       "      <td>0</td>\n",
       "      <td>0.0000</td>\n",
       "    </tr>\n",
       "    <tr>\n",
       "      <th>1</th>\n",
       "      <td>2016-01-01 00:15:00</td>\n",
       "      <td>1</td>\n",
       "      <td>-30.2655</td>\n",
       "    </tr>\n",
       "    <tr>\n",
       "      <th>2</th>\n",
       "      <td>2016-01-01 00:30:00</td>\n",
       "      <td>0</td>\n",
       "      <td>0.0000</td>\n",
       "    </tr>\n",
       "    <tr>\n",
       "      <th>3</th>\n",
       "      <td>2016-01-01 00:30:00</td>\n",
       "      <td>1</td>\n",
       "      <td>-30.1475</td>\n",
       "    </tr>\n",
       "    <tr>\n",
       "      <th>4</th>\n",
       "      <td>2016-01-01 00:45:00</td>\n",
       "      <td>0</td>\n",
       "      <td>0.0000</td>\n",
       "    </tr>\n",
       "  </tbody>\n",
       "</table>\n",
       "</div>"
      ],
      "text/plain": [
       "            timestamp  viac_spotreby     diff\n",
       "0 2016-01-01 00:15:00              0   0.0000\n",
       "1 2016-01-01 00:15:00              1 -30.2655\n",
       "2 2016-01-01 00:30:00              0   0.0000\n",
       "3 2016-01-01 00:30:00              1 -30.1475\n",
       "4 2016-01-01 00:45:00              0   0.0000"
      ]
     },
     "execution_count": 35,
     "metadata": {},
     "output_type": "execute_result"
    }
   ],
   "source": [
    "total_energy_left.head()"
   ]
  },
  {
   "cell_type": "code",
   "execution_count": 36,
   "metadata": {},
   "outputs": [
    {
     "data": {
      "text/html": [
       "<div>\n",
       "<style scoped>\n",
       "    .dataframe tbody tr th:only-of-type {\n",
       "        vertical-align: middle;\n",
       "    }\n",
       "\n",
       "    .dataframe tbody tr th {\n",
       "        vertical-align: top;\n",
       "    }\n",
       "\n",
       "    .dataframe thead th {\n",
       "        text-align: right;\n",
       "    }\n",
       "</style>\n",
       "<table border=\"1\" class=\"dataframe\">\n",
       "  <thead>\n",
       "    <tr style=\"text-align: right;\">\n",
       "      <th></th>\n",
       "      <th>timestamp</th>\n",
       "      <th>viac_spotreby_total</th>\n",
       "    </tr>\n",
       "  </thead>\n",
       "  <tbody>\n",
       "    <tr>\n",
       "      <th>1</th>\n",
       "      <td>2016-01-01 00:15:00</td>\n",
       "      <td>1</td>\n",
       "    </tr>\n",
       "    <tr>\n",
       "      <th>3</th>\n",
       "      <td>2016-01-01 00:30:00</td>\n",
       "      <td>1</td>\n",
       "    </tr>\n",
       "    <tr>\n",
       "      <th>5</th>\n",
       "      <td>2016-01-01 00:45:00</td>\n",
       "      <td>1</td>\n",
       "    </tr>\n",
       "    <tr>\n",
       "      <th>7</th>\n",
       "      <td>2016-01-01 01:00:00</td>\n",
       "      <td>1</td>\n",
       "    </tr>\n",
       "    <tr>\n",
       "      <th>9</th>\n",
       "      <td>2016-01-01 01:15:00</td>\n",
       "      <td>1</td>\n",
       "    </tr>\n",
       "  </tbody>\n",
       "</table>\n",
       "</div>"
      ],
      "text/plain": [
       "            timestamp  viac_spotreby_total\n",
       "1 2016-01-01 00:15:00                    1\n",
       "3 2016-01-01 00:30:00                    1\n",
       "5 2016-01-01 00:45:00                    1\n",
       "7 2016-01-01 01:00:00                    1\n",
       "9 2016-01-01 01:15:00                    1"
      ]
     },
     "execution_count": 36,
     "metadata": {},
     "output_type": "execute_result"
    }
   ],
   "source": [
    "total_energy_left[\"diff_abs\"] = total_energy_left[\"diff\"].abs()\n",
    "temp_max = total_energy_left.groupby([\"timestamp\"])[[\"diff_abs\"]].max()\n",
    "temp_max[\"ind\"] = \"value\"\n",
    "temp_max = temp_max.reset_index()\n",
    "\n",
    "temp_max = total_energy_left.merge(temp_max,\n",
    "                       how = \"left\",\n",
    "                                  on = [\"timestamp\",\"diff_abs\"])\n",
    "\n",
    "temp_max = temp_max[temp_max.ind.notnull()][[\"timestamp\",\"viac_spotreby\"]]\n",
    "temp_max.rename({\"viac_spotreby\":\"viac_spotreby_total\"},axis = 1, inplace=True)\n",
    "temp_max.head()"
   ]
  },
  {
   "cell_type": "code",
   "execution_count": 37,
   "metadata": {},
   "outputs": [],
   "source": [
    "total_energy_left.rename({\"diff\": \"diff_total\"},\n",
    "                                            axis =1,\n",
    "                                            inplace = True)"
   ]
  },
  {
   "cell_type": "code",
   "execution_count": 39,
   "metadata": {},
   "outputs": [],
   "source": [
    "df_final = df_final.merge(total_energy_left[[\"timestamp\",\"viac_spotreby\",\"diff_total\"]], how = \"left\", on = [\"timestamp\",\"viac_spotreby\"])"
   ]
  },
  {
   "cell_type": "code",
   "execution_count": 40,
   "metadata": {},
   "outputs": [
    {
     "data": {
      "text/html": [
       "<div>\n",
       "<style scoped>\n",
       "    .dataframe tbody tr th:only-of-type {\n",
       "        vertical-align: middle;\n",
       "    }\n",
       "\n",
       "    .dataframe tbody tr th {\n",
       "        vertical-align: top;\n",
       "    }\n",
       "\n",
       "    .dataframe thead th {\n",
       "        text-align: right;\n",
       "    }\n",
       "</style>\n",
       "<table border=\"1\" class=\"dataframe\">\n",
       "  <thead>\n",
       "    <tr style=\"text-align: right;\">\n",
       "      <th></th>\n",
       "      <th>spotreba</th>\n",
       "      <th>om</th>\n",
       "      <th>timestamp</th>\n",
       "      <th>tarifa</th>\n",
       "      <th>vykon</th>\n",
       "      <th>vyroba</th>\n",
       "      <th>diff</th>\n",
       "      <th>viac_spotreby</th>\n",
       "      <th>index</th>\n",
       "      <th>percentage</th>\n",
       "      <th>diff_total</th>\n",
       "    </tr>\n",
       "  </thead>\n",
       "  <tbody>\n",
       "    <tr>\n",
       "      <th>0</th>\n",
       "      <td>0.211</td>\n",
       "      <td>1</td>\n",
       "      <td>2016-01-01 00:15:00</td>\n",
       "      <td>D2</td>\n",
       "      <td>2.0</td>\n",
       "      <td>0.0</td>\n",
       "      <td>-0.211</td>\n",
       "      <td>1</td>\n",
       "      <td>147</td>\n",
       "      <td>0.697163</td>\n",
       "      <td>-30.2655</td>\n",
       "    </tr>\n",
       "    <tr>\n",
       "      <th>1</th>\n",
       "      <td>0.210</td>\n",
       "      <td>1</td>\n",
       "      <td>2016-01-01 00:30:00</td>\n",
       "      <td>D2</td>\n",
       "      <td>2.0</td>\n",
       "      <td>0.0</td>\n",
       "      <td>-0.210</td>\n",
       "      <td>1</td>\n",
       "      <td>294</td>\n",
       "      <td>0.696575</td>\n",
       "      <td>-30.1475</td>\n",
       "    </tr>\n",
       "    <tr>\n",
       "      <th>2</th>\n",
       "      <td>0.210</td>\n",
       "      <td>1</td>\n",
       "      <td>2016-01-01 00:45:00</td>\n",
       "      <td>D2</td>\n",
       "      <td>2.0</td>\n",
       "      <td>0.0</td>\n",
       "      <td>-0.210</td>\n",
       "      <td>1</td>\n",
       "      <td>441</td>\n",
       "      <td>0.696899</td>\n",
       "      <td>-30.1335</td>\n",
       "    </tr>\n",
       "    <tr>\n",
       "      <th>3</th>\n",
       "      <td>0.206</td>\n",
       "      <td>1</td>\n",
       "      <td>2016-01-01 01:00:00</td>\n",
       "      <td>D2</td>\n",
       "      <td>2.0</td>\n",
       "      <td>0.0</td>\n",
       "      <td>-0.206</td>\n",
       "      <td>1</td>\n",
       "      <td>588</td>\n",
       "      <td>0.668940</td>\n",
       "      <td>-30.7950</td>\n",
       "    </tr>\n",
       "    <tr>\n",
       "      <th>4</th>\n",
       "      <td>0.205</td>\n",
       "      <td>1</td>\n",
       "      <td>2016-01-01 01:15:00</td>\n",
       "      <td>D2</td>\n",
       "      <td>2.0</td>\n",
       "      <td>0.0</td>\n",
       "      <td>-0.205</td>\n",
       "      <td>1</td>\n",
       "      <td>735</td>\n",
       "      <td>0.692088</td>\n",
       "      <td>-29.6205</td>\n",
       "    </tr>\n",
       "  </tbody>\n",
       "</table>\n",
       "</div>"
      ],
      "text/plain": [
       "   spotreba  om           timestamp tarifa  vykon  vyroba   diff  \\\n",
       "0     0.211   1 2016-01-01 00:15:00     D2    2.0     0.0 -0.211   \n",
       "1     0.210   1 2016-01-01 00:30:00     D2    2.0     0.0 -0.210   \n",
       "2     0.210   1 2016-01-01 00:45:00     D2    2.0     0.0 -0.210   \n",
       "3     0.206   1 2016-01-01 01:00:00     D2    2.0     0.0 -0.206   \n",
       "4     0.205   1 2016-01-01 01:15:00     D2    2.0     0.0 -0.205   \n",
       "\n",
       "   viac_spotreby  index  percentage  diff_total  \n",
       "0              1    147    0.697163    -30.2655  \n",
       "1              1    294    0.696575    -30.1475  \n",
       "2              1    441    0.696899    -30.1335  \n",
       "3              1    588    0.668940    -30.7950  \n",
       "4              1    735    0.692088    -29.6205  "
      ]
     },
     "execution_count": 40,
     "metadata": {},
     "output_type": "execute_result"
    }
   ],
   "source": [
    "df_final.head()"
   ]
  },
  {
   "cell_type": "code",
   "execution_count": null,
   "metadata": {},
   "outputs": [],
   "source": []
  },
  {
   "cell_type": "code",
   "execution_count": 41,
   "metadata": {},
   "outputs": [],
   "source": [
    "res = df_final.copy(deep=True)"
   ]
  },
  {
   "cell_type": "code",
   "execution_count": 42,
   "metadata": {},
   "outputs": [],
   "source": [
    "res = res.merge(temp_max, on = \"timestamp\")"
   ]
  },
  {
   "cell_type": "markdown",
   "metadata": {},
   "source": [
    "#### what to buy and sell to community"
   ]
  },
  {
   "cell_type": "code",
   "execution_count": 45,
   "metadata": {},
   "outputs": [],
   "source": [
    "res[\"nakup_from_community\"] = 0\n",
    "res.loc[(res.viac_spotreby == 1) & (res.viac_spotreby_total == 1), \"nakup_from_community\"] = \\\n",
    "        (res.loc[(res.viac_spotreby == 1) & (res.viac_spotreby_total == 1)].percentage / 100 ) * res.loc[res.viac_spotreby == 0].diff_total.values[0]\n",
    "\n",
    "res.loc[(res.viac_spotreby == 1) & (res.viac_spotreby_total == 0), \"nakup_from_community\"] = \\\n",
    "        -res.loc[(res.viac_spotreby == 1) & (res.viac_spotreby_total == 0)][\"diff\"]\n",
    "\n",
    "\n",
    "res[\"nakup_from_network\"] = 0\n",
    "res.loc[res.viac_spotreby == 1, \"nakup_from_network\"] = \\\n",
    "- res.loc[res.viac_spotreby == 1][\"diff\"] - res.loc[res.viac_spotreby == 1][\"nakup_from_community\"]\n",
    "\n",
    "    \n",
    "res[\"predaj_to_community\"] = 0\n",
    "res.loc[(res.viac_spotreby == 0) & (res.viac_spotreby_total == 0), \"predaj_to_community\"] = \\\n",
    "        (res.loc[(res.viac_spotreby == 0) & (res.viac_spotreby_total == 0)].percentage / 100 ) * res.loc[res.viac_spotreby == 1].diff_total.values[0]\n",
    "\n",
    "res.loc[(res.viac_spotreby == 0) & (res.viac_spotreby_total == 1), \"predaj_to_community\"] = \\\n",
    "        res.loc[(res.viac_spotreby == 0) & (res.viac_spotreby_total == 1)][\"diff\"]\n",
    "\n",
    "    \n",
    "res[\"predaj_to_network\"] = 0\n",
    "res.loc[res.viac_spotreby == 0, \"predaj_to_network\"] = \\\n",
    "         res.loc[res.viac_spotreby == 0][\"diff\"] - res.loc[res.viac_spotreby == 0][\"predaj_to_community\"]"
   ]
  },
  {
   "cell_type": "code",
   "execution_count": null,
   "metadata": {},
   "outputs": [],
   "source": []
  },
  {
   "cell_type": "code",
   "execution_count": 47,
   "metadata": {},
   "outputs": [],
   "source": [
    "res = res.drop(\"index\", axis = 1)"
   ]
  },
  {
   "cell_type": "code",
   "execution_count": 49,
   "metadata": {},
   "outputs": [
    {
     "data": {
      "text/html": [
       "<div>\n",
       "<style scoped>\n",
       "    .dataframe tbody tr th:only-of-type {\n",
       "        vertical-align: middle;\n",
       "    }\n",
       "\n",
       "    .dataframe tbody tr th {\n",
       "        vertical-align: top;\n",
       "    }\n",
       "\n",
       "    .dataframe thead th {\n",
       "        text-align: right;\n",
       "    }\n",
       "</style>\n",
       "<table border=\"1\" class=\"dataframe\">\n",
       "  <thead>\n",
       "    <tr style=\"text-align: right;\">\n",
       "      <th></th>\n",
       "      <th>spotreba</th>\n",
       "      <th>om</th>\n",
       "      <th>timestamp</th>\n",
       "      <th>tarifa</th>\n",
       "      <th>vykon</th>\n",
       "      <th>vyroba</th>\n",
       "      <th>diff</th>\n",
       "      <th>viac_spotreby</th>\n",
       "      <th>percentage</th>\n",
       "      <th>diff_total</th>\n",
       "      <th>viac_spotreby_total</th>\n",
       "      <th>nakup_from_community</th>\n",
       "      <th>nakup_from_network</th>\n",
       "      <th>predaj_to_community</th>\n",
       "      <th>predaj_to_network</th>\n",
       "    </tr>\n",
       "  </thead>\n",
       "  <tbody>\n",
       "    <tr>\n",
       "      <th>0</th>\n",
       "      <td>0.211</td>\n",
       "      <td>1</td>\n",
       "      <td>2016-01-01 00:15:00</td>\n",
       "      <td>D2</td>\n",
       "      <td>2.0</td>\n",
       "      <td>0.0</td>\n",
       "      <td>-0.211</td>\n",
       "      <td>1</td>\n",
       "      <td>0.697163</td>\n",
       "      <td>-30.2655</td>\n",
       "      <td>1</td>\n",
       "      <td>0.000029</td>\n",
       "      <td>0.210971</td>\n",
       "      <td>0.0</td>\n",
       "      <td>0.0</td>\n",
       "    </tr>\n",
       "    <tr>\n",
       "      <th>1</th>\n",
       "      <td>0.060</td>\n",
       "      <td>2</td>\n",
       "      <td>2016-01-01 00:15:00</td>\n",
       "      <td>D2</td>\n",
       "      <td>7.2</td>\n",
       "      <td>0.0</td>\n",
       "      <td>-0.060</td>\n",
       "      <td>1</td>\n",
       "      <td>0.198246</td>\n",
       "      <td>-30.2655</td>\n",
       "      <td>1</td>\n",
       "      <td>0.000008</td>\n",
       "      <td>0.059992</td>\n",
       "      <td>0.0</td>\n",
       "      <td>0.0</td>\n",
       "    </tr>\n",
       "    <tr>\n",
       "      <th>2</th>\n",
       "      <td>0.292</td>\n",
       "      <td>3</td>\n",
       "      <td>2016-01-01 00:15:00</td>\n",
       "      <td>D2</td>\n",
       "      <td>2.0</td>\n",
       "      <td>0.0</td>\n",
       "      <td>-0.292</td>\n",
       "      <td>1</td>\n",
       "      <td>0.964795</td>\n",
       "      <td>-30.2655</td>\n",
       "      <td>1</td>\n",
       "      <td>0.000041</td>\n",
       "      <td>0.291959</td>\n",
       "      <td>0.0</td>\n",
       "      <td>0.0</td>\n",
       "    </tr>\n",
       "    <tr>\n",
       "      <th>3</th>\n",
       "      <td>1.535</td>\n",
       "      <td>4</td>\n",
       "      <td>2016-01-01 00:15:00</td>\n",
       "      <td>D1</td>\n",
       "      <td>0.0</td>\n",
       "      <td>0.0</td>\n",
       "      <td>-1.535</td>\n",
       "      <td>1</td>\n",
       "      <td>5.071781</td>\n",
       "      <td>-30.2655</td>\n",
       "      <td>1</td>\n",
       "      <td>0.000215</td>\n",
       "      <td>1.534785</td>\n",
       "      <td>0.0</td>\n",
       "      <td>0.0</td>\n",
       "    </tr>\n",
       "    <tr>\n",
       "      <th>4</th>\n",
       "      <td>0.460</td>\n",
       "      <td>5</td>\n",
       "      <td>2016-01-01 00:15:00</td>\n",
       "      <td>D4</td>\n",
       "      <td>9.2</td>\n",
       "      <td>0.0</td>\n",
       "      <td>-0.460</td>\n",
       "      <td>1</td>\n",
       "      <td>1.519882</td>\n",
       "      <td>-30.2655</td>\n",
       "      <td>1</td>\n",
       "      <td>0.000064</td>\n",
       "      <td>0.459936</td>\n",
       "      <td>0.0</td>\n",
       "      <td>0.0</td>\n",
       "    </tr>\n",
       "  </tbody>\n",
       "</table>\n",
       "</div>"
      ],
      "text/plain": [
       "   spotreba  om           timestamp tarifa  vykon  vyroba   diff  \\\n",
       "0     0.211   1 2016-01-01 00:15:00     D2    2.0     0.0 -0.211   \n",
       "1     0.060   2 2016-01-01 00:15:00     D2    7.2     0.0 -0.060   \n",
       "2     0.292   3 2016-01-01 00:15:00     D2    2.0     0.0 -0.292   \n",
       "3     1.535   4 2016-01-01 00:15:00     D1    0.0     0.0 -1.535   \n",
       "4     0.460   5 2016-01-01 00:15:00     D4    9.2     0.0 -0.460   \n",
       "\n",
       "   viac_spotreby  percentage  diff_total  viac_spotreby_total  \\\n",
       "0              1    0.697163    -30.2655                    1   \n",
       "1              1    0.198246    -30.2655                    1   \n",
       "2              1    0.964795    -30.2655                    1   \n",
       "3              1    5.071781    -30.2655                    1   \n",
       "4              1    1.519882    -30.2655                    1   \n",
       "\n",
       "   nakup_from_community  nakup_from_network  predaj_to_community  \\\n",
       "0              0.000029            0.210971                  0.0   \n",
       "1              0.000008            0.059992                  0.0   \n",
       "2              0.000041            0.291959                  0.0   \n",
       "3              0.000215            1.534785                  0.0   \n",
       "4              0.000064            0.459936                  0.0   \n",
       "\n",
       "   predaj_to_network  \n",
       "0                0.0  \n",
       "1                0.0  \n",
       "2                0.0  \n",
       "3                0.0  \n",
       "4                0.0  "
      ]
     },
     "execution_count": 49,
     "metadata": {},
     "output_type": "execute_result"
    }
   ],
   "source": [
    "res.head()"
   ]
  },
  {
   "cell_type": "code",
   "execution_count": 53,
   "metadata": {},
   "outputs": [],
   "source": [
    "res.to_csv(data_path + \"data_prepared_for_dashboard.csv\", sep = \";\", index = False)"
   ]
  },
  {
   "cell_type": "code",
   "execution_count": null,
   "metadata": {},
   "outputs": [],
   "source": []
  },
  {
   "cell_type": "code",
   "execution_count": null,
   "metadata": {},
   "outputs": [],
   "source": []
  },
  {
   "cell_type": "code",
   "execution_count": null,
   "metadata": {},
   "outputs": [],
   "source": []
  },
  {
   "cell_type": "code",
   "execution_count": null,
   "metadata": {},
   "outputs": [],
   "source": []
  },
  {
   "cell_type": "code",
   "execution_count": null,
   "metadata": {},
   "outputs": [],
   "source": []
  }
 ],
 "metadata": {
  "kernelspec": {
   "display_name": "Python 3",
   "language": "python",
   "name": "python3"
  },
  "language_info": {
   "codemirror_mode": {
    "name": "ipython",
    "version": 3
   },
   "file_extension": ".py",
   "mimetype": "text/x-python",
   "name": "python",
   "nbconvert_exporter": "python",
   "pygments_lexer": "ipython3",
   "version": "3.6.1"
  }
 },
 "nbformat": 4,
 "nbformat_minor": 2
}
