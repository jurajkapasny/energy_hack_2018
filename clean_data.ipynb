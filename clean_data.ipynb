{
 "cells": [
  {
   "cell_type": "code",
   "execution_count": 5,
   "metadata": {},
   "outputs": [],
   "source": [
    "import pandas as pd\n",
    "import datetime"
   ]
  },
  {
   "cell_type": "code",
   "execution_count": 6,
   "metadata": {},
   "outputs": [],
   "source": [
    "data_path = \"/Users/jurajkapasny/Data/energy_hack/\""
   ]
  },
  {
   "cell_type": "markdown",
   "metadata": {},
   "source": [
    "### Load data"
   ]
  },
  {
   "cell_type": "code",
   "execution_count": 3,
   "metadata": {},
   "outputs": [],
   "source": [
    "om_info = pd.read_excel(data_path + \"Energyhack2_data_update.xlsx\", sheet_name=\"1. Odberné miesta\")\n",
    "om_spotreba = pd.read_excel(data_path + \"Energyhack2_data_update.xlsx\", sheet_name=\"2. Spotreba 150 OM\")\n",
    "vyroba = pd.read_excel(data_path + \"Energyhack2_data_update.xlsx\", sheet_name=\"3. Výroba a počet FVE\")"
   ]
  },
  {
   "cell_type": "markdown",
   "metadata": {},
   "source": [
    "### clean and transform spotreba"
   ]
  },
  {
   "cell_type": "markdown",
   "metadata": {},
   "source": [
    "#### spotreba"
   ]
  },
  {
   "cell_type": "code",
   "execution_count": 4,
   "metadata": {},
   "outputs": [],
   "source": [
    "om_spotreba.drop(\"Veličina\", axis = 1, inplace = True)"
   ]
  },
  {
   "cell_type": "code",
   "execution_count": 5,
   "metadata": {},
   "outputs": [],
   "source": [
    "om_spotreba = om_spotreba.set_index(\"Číslo OM\")\n",
    "om_spotreba[\"Dátum a čas\"] = om_spotreba[\"Dátum a čas\"].astype(str)"
   ]
  },
  {
   "cell_type": "code",
   "execution_count": 6,
   "metadata": {},
   "outputs": [],
   "source": [
    "om_spotreba.rename(columns={datetime.datetime(1900, 1, 1, 0, 0):'00:00:00'}, inplace=True)"
   ]
  },
  {
   "cell_type": "code",
   "execution_count": 7,
   "metadata": {},
   "outputs": [],
   "source": [
    "transformed_data = []\n",
    "for i in range(1,151):\n",
    "    temp = pd.DataFrame(om_spotreba[om_spotreba.index == i].set_index(\"Dátum a čas\").stack(), columns=[\"spotreba\"])\n",
    "    temp[\"om\"] = i\n",
    "    transformed_data.append(temp)\n",
    "om_spotreba_tr = pd.concat(transformed_data)"
   ]
  },
  {
   "cell_type": "code",
   "execution_count": 8,
   "metadata": {},
   "outputs": [],
   "source": [
    "om_spotreba_tr.to_csv(data_path + \"spotreba_prepared.csv\", sep = \";\")"
   ]
  },
  {
   "cell_type": "code",
   "execution_count": null,
   "metadata": {},
   "outputs": [],
   "source": []
  },
  {
   "cell_type": "markdown",
   "metadata": {},
   "source": [
    "#### vyroba"
   ]
  },
  {
   "cell_type": "code",
   "execution_count": 117,
   "metadata": {},
   "outputs": [
    {
     "data": {
      "text/html": [
       "<div>\n",
       "<style scoped>\n",
       "    .dataframe tbody tr th:only-of-type {\n",
       "        vertical-align: middle;\n",
       "    }\n",
       "\n",
       "    .dataframe tbody tr th {\n",
       "        vertical-align: top;\n",
       "    }\n",
       "\n",
       "    .dataframe thead th {\n",
       "        text-align: right;\n",
       "    }\n",
       "</style>\n",
       "<table border=\"1\" class=\"dataframe\">\n",
       "  <thead>\n",
       "    <tr style=\"text-align: right;\">\n",
       "      <th></th>\n",
       "      <th>Inštalovaný výkon FVE (kWp)</th>\n",
       "      <th>2</th>\n",
       "      <th>2.5</th>\n",
       "      <th>3.15</th>\n",
       "      <th>4</th>\n",
       "      <th>5</th>\n",
       "      <th>7.2</th>\n",
       "      <th>9.2</th>\n",
       "      <th>Unnamed: 8</th>\n",
       "      <th>Unnamed: 9</th>\n",
       "      <th>...</th>\n",
       "      <th>Unnamed: 33</th>\n",
       "      <th>Unnamed: 34</th>\n",
       "      <th>Unnamed: 35</th>\n",
       "      <th>Unnamed: 36</th>\n",
       "      <th>Unnamed: 37</th>\n",
       "      <th>Unnamed: 38</th>\n",
       "      <th>Unnamed: 39</th>\n",
       "      <th>Unnamed: 40</th>\n",
       "      <th>Unnamed: 41</th>\n",
       "      <th>Unnamed: 42</th>\n",
       "    </tr>\n",
       "  </thead>\n",
       "  <tbody>\n",
       "    <tr>\n",
       "      <th>0</th>\n",
       "      <td>Dátum a čas</td>\n",
       "      <td>Výroba FVE (kWh)</td>\n",
       "      <td>NaN</td>\n",
       "      <td>NaN</td>\n",
       "      <td>NaN</td>\n",
       "      <td>NaN</td>\n",
       "      <td>NaN</td>\n",
       "      <td>NaN</td>\n",
       "      <td>NaN</td>\n",
       "      <td>NaN</td>\n",
       "      <td>...</td>\n",
       "      <td>NaN</td>\n",
       "      <td>NaN</td>\n",
       "      <td>NaN</td>\n",
       "      <td>NaN</td>\n",
       "      <td>NaN</td>\n",
       "      <td>NaN</td>\n",
       "      <td>NaN</td>\n",
       "      <td>NaN</td>\n",
       "      <td>NaN</td>\n",
       "      <td>NaN</td>\n",
       "    </tr>\n",
       "    <tr>\n",
       "      <th>1</th>\n",
       "      <td>2016-01-01 00:00:00</td>\n",
       "      <td>0</td>\n",
       "      <td>0.0</td>\n",
       "      <td>0.0</td>\n",
       "      <td>0.0</td>\n",
       "      <td>0.0</td>\n",
       "      <td>0.0</td>\n",
       "      <td>0.0</td>\n",
       "      <td>NaN</td>\n",
       "      <td>NaN</td>\n",
       "      <td>...</td>\n",
       "      <td>vyroba</td>\n",
       "      <td>3000.0</td>\n",
       "      <td>NaN</td>\n",
       "      <td>NaN</td>\n",
       "      <td>spotreba bez fve</td>\n",
       "      <td>3000.0</td>\n",
       "      <td>360.0</td>\n",
       "      <td>NaN</td>\n",
       "      <td>spotreba bez fve</td>\n",
       "      <td>2000.0</td>\n",
       "    </tr>\n",
       "    <tr>\n",
       "      <th>2</th>\n",
       "      <td>2016-01-01 00:15:00</td>\n",
       "      <td>0</td>\n",
       "      <td>0.0</td>\n",
       "      <td>0.0</td>\n",
       "      <td>0.0</td>\n",
       "      <td>0.0</td>\n",
       "      <td>0.0</td>\n",
       "      <td>0.0</td>\n",
       "      <td>NaN</td>\n",
       "      <td>NaN</td>\n",
       "      <td>...</td>\n",
       "      <td>Spotreba</td>\n",
       "      <td>1000.0</td>\n",
       "      <td>NaN</td>\n",
       "      <td>NaN</td>\n",
       "      <td>Spotreba z FVE</td>\n",
       "      <td>1000.0</td>\n",
       "      <td>120.0</td>\n",
       "      <td>NaN</td>\n",
       "      <td>Spotreba z FVE</td>\n",
       "      <td>1000.0</td>\n",
       "    </tr>\n",
       "    <tr>\n",
       "      <th>3</th>\n",
       "      <td>2016-01-01 00:30:00</td>\n",
       "      <td>0</td>\n",
       "      <td>0.0</td>\n",
       "      <td>0.0</td>\n",
       "      <td>0.0</td>\n",
       "      <td>0.0</td>\n",
       "      <td>0.0</td>\n",
       "      <td>0.0</td>\n",
       "      <td>NaN</td>\n",
       "      <td>NaN</td>\n",
       "      <td>...</td>\n",
       "      <td>Usetrene</td>\n",
       "      <td>120.0</td>\n",
       "      <td>NaN</td>\n",
       "      <td>NaN</td>\n",
       "      <td>Usetrene</td>\n",
       "      <td>10.0</td>\n",
       "      <td>50.0</td>\n",
       "      <td>NaN</td>\n",
       "      <td>Usetrene</td>\n",
       "      <td>NaN</td>\n",
       "    </tr>\n",
       "    <tr>\n",
       "      <th>4</th>\n",
       "      <td>2016-01-01 00:45:00</td>\n",
       "      <td>0</td>\n",
       "      <td>0.0</td>\n",
       "      <td>0.0</td>\n",
       "      <td>0.0</td>\n",
       "      <td>0.0</td>\n",
       "      <td>0.0</td>\n",
       "      <td>0.0</td>\n",
       "      <td>NaN</td>\n",
       "      <td>NaN</td>\n",
       "      <td>...</td>\n",
       "      <td>zarobene</td>\n",
       "      <td>90.0</td>\n",
       "      <td>NaN</td>\n",
       "      <td>NaN</td>\n",
       "      <td>NaN</td>\n",
       "      <td>NaN</td>\n",
       "      <td>70.0</td>\n",
       "      <td>NaN</td>\n",
       "      <td>NaN</td>\n",
       "      <td>NaN</td>\n",
       "    </tr>\n",
       "  </tbody>\n",
       "</table>\n",
       "<p>5 rows × 43 columns</p>\n",
       "</div>"
      ],
      "text/plain": [
       "  Inštalovaný výkon FVE (kWp)                 2  2.5  3.15    4    5  7.2  \\\n",
       "0                 Dátum a čas  Výroba FVE (kWh)  NaN   NaN  NaN  NaN  NaN   \n",
       "1         2016-01-01 00:00:00                 0  0.0   0.0  0.0  0.0  0.0   \n",
       "2         2016-01-01 00:15:00                 0  0.0   0.0  0.0  0.0  0.0   \n",
       "3         2016-01-01 00:30:00                 0  0.0   0.0  0.0  0.0  0.0   \n",
       "4         2016-01-01 00:45:00                 0  0.0   0.0  0.0  0.0  0.0   \n",
       "\n",
       "   9.2  Unnamed: 8  Unnamed: 9     ...       Unnamed: 33  Unnamed: 34  \\\n",
       "0  NaN         NaN         NaN     ...               NaN          NaN   \n",
       "1  0.0         NaN         NaN     ...            vyroba       3000.0   \n",
       "2  0.0         NaN         NaN     ...          Spotreba       1000.0   \n",
       "3  0.0         NaN         NaN     ...         Usetrene         120.0   \n",
       "4  0.0         NaN         NaN     ...          zarobene         90.0   \n",
       "\n",
       "   Unnamed: 35  Unnamed: 36       Unnamed: 37  Unnamed: 38  Unnamed: 39  \\\n",
       "0          NaN          NaN               NaN          NaN          NaN   \n",
       "1          NaN          NaN  spotreba bez fve       3000.0        360.0   \n",
       "2          NaN          NaN    Spotreba z FVE       1000.0        120.0   \n",
       "3          NaN          NaN          Usetrene         10.0         50.0   \n",
       "4          NaN          NaN               NaN          NaN         70.0   \n",
       "\n",
       "   Unnamed: 40       Unnamed: 41  Unnamed: 42  \n",
       "0          NaN               NaN          NaN  \n",
       "1          NaN  spotreba bez fve       2000.0  \n",
       "2          NaN    Spotreba z FVE       1000.0  \n",
       "3          NaN          Usetrene          NaN  \n",
       "4          NaN               NaN          NaN  \n",
       "\n",
       "[5 rows x 43 columns]"
      ]
     },
     "execution_count": 117,
     "metadata": {},
     "output_type": "execute_result"
    }
   ],
   "source": [
    "vyroba.head()"
   ]
  },
  {
   "cell_type": "code",
   "execution_count": 118,
   "metadata": {},
   "outputs": [],
   "source": [
    "to_drop = []\n",
    "for cl in vyroba.columns:\n",
    "    if str(cl).find(\"Unnamed\") != -1:\n",
    "        to_drop.append(cl)\n",
    "vyroba.drop(to_drop, axis=1, inplace=True)"
   ]
  },
  {
   "cell_type": "code",
   "execution_count": 119,
   "metadata": {},
   "outputs": [],
   "source": [
    "vyroba.drop(0, axis = 0, inplace=True)"
   ]
  },
  {
   "cell_type": "code",
   "execution_count": 120,
   "metadata": {},
   "outputs": [],
   "source": [
    "vyroba.rename(columns={\"Inštalovaný výkon FVE (kWp)\":'time'}, inplace=True)"
   ]
  },
  {
   "cell_type": "code",
   "execution_count": 121,
   "metadata": {},
   "outputs": [],
   "source": [
    "vyroba = vyroba.set_index(\"time\")"
   ]
  },
  {
   "cell_type": "code",
   "execution_count": 122,
   "metadata": {},
   "outputs": [
    {
     "data": {
      "text/html": [
       "<div>\n",
       "<style scoped>\n",
       "    .dataframe tbody tr th:only-of-type {\n",
       "        vertical-align: middle;\n",
       "    }\n",
       "\n",
       "    .dataframe tbody tr th {\n",
       "        vertical-align: top;\n",
       "    }\n",
       "\n",
       "    .dataframe thead th {\n",
       "        text-align: right;\n",
       "    }\n",
       "</style>\n",
       "<table border=\"1\" class=\"dataframe\">\n",
       "  <thead>\n",
       "    <tr style=\"text-align: right;\">\n",
       "      <th></th>\n",
       "      <th>2</th>\n",
       "      <th>2.5</th>\n",
       "      <th>3.15</th>\n",
       "      <th>4</th>\n",
       "      <th>5</th>\n",
       "      <th>7.2</th>\n",
       "      <th>9.2</th>\n",
       "    </tr>\n",
       "    <tr>\n",
       "      <th>time</th>\n",
       "      <th></th>\n",
       "      <th></th>\n",
       "      <th></th>\n",
       "      <th></th>\n",
       "      <th></th>\n",
       "      <th></th>\n",
       "      <th></th>\n",
       "    </tr>\n",
       "  </thead>\n",
       "  <tbody>\n",
       "    <tr>\n",
       "      <th>2016-01-01 00:00:00</th>\n",
       "      <td>0</td>\n",
       "      <td>0.0</td>\n",
       "      <td>0.0</td>\n",
       "      <td>0.0</td>\n",
       "      <td>0.0</td>\n",
       "      <td>0.0</td>\n",
       "      <td>0.0</td>\n",
       "    </tr>\n",
       "    <tr>\n",
       "      <th>2016-01-01 00:15:00</th>\n",
       "      <td>0</td>\n",
       "      <td>0.0</td>\n",
       "      <td>0.0</td>\n",
       "      <td>0.0</td>\n",
       "      <td>0.0</td>\n",
       "      <td>0.0</td>\n",
       "      <td>0.0</td>\n",
       "    </tr>\n",
       "    <tr>\n",
       "      <th>2016-01-01 00:30:00</th>\n",
       "      <td>0</td>\n",
       "      <td>0.0</td>\n",
       "      <td>0.0</td>\n",
       "      <td>0.0</td>\n",
       "      <td>0.0</td>\n",
       "      <td>0.0</td>\n",
       "      <td>0.0</td>\n",
       "    </tr>\n",
       "    <tr>\n",
       "      <th>2016-01-01 00:45:00</th>\n",
       "      <td>0</td>\n",
       "      <td>0.0</td>\n",
       "      <td>0.0</td>\n",
       "      <td>0.0</td>\n",
       "      <td>0.0</td>\n",
       "      <td>0.0</td>\n",
       "      <td>0.0</td>\n",
       "    </tr>\n",
       "    <tr>\n",
       "      <th>2016-01-01 01:00:00</th>\n",
       "      <td>0</td>\n",
       "      <td>0.0</td>\n",
       "      <td>0.0</td>\n",
       "      <td>0.0</td>\n",
       "      <td>0.0</td>\n",
       "      <td>0.0</td>\n",
       "      <td>0.0</td>\n",
       "    </tr>\n",
       "  </tbody>\n",
       "</table>\n",
       "</div>"
      ],
      "text/plain": [
       "                     2  2.5  3.15    4    5  7.2  9.2\n",
       "time                                                 \n",
       "2016-01-01 00:00:00  0  0.0   0.0  0.0  0.0  0.0  0.0\n",
       "2016-01-01 00:15:00  0  0.0   0.0  0.0  0.0  0.0  0.0\n",
       "2016-01-01 00:30:00  0  0.0   0.0  0.0  0.0  0.0  0.0\n",
       "2016-01-01 00:45:00  0  0.0   0.0  0.0  0.0  0.0  0.0\n",
       "2016-01-01 01:00:00  0  0.0   0.0  0.0  0.0  0.0  0.0"
      ]
     },
     "execution_count": 122,
     "metadata": {},
     "output_type": "execute_result"
    }
   ],
   "source": [
    "vyroba.head()"
   ]
  },
  {
   "cell_type": "code",
   "execution_count": 123,
   "metadata": {},
   "outputs": [],
   "source": [
    "vyroba.to_csv(data_path + \"vyroba_prepared.csv\", sep = \";\")"
   ]
  },
  {
   "cell_type": "code",
   "execution_count": null,
   "metadata": {},
   "outputs": [],
   "source": []
  },
  {
   "cell_type": "code",
   "execution_count": null,
   "metadata": {},
   "outputs": [],
   "source": []
  },
  {
   "cell_type": "markdown",
   "metadata": {},
   "source": [
    "#### om info"
   ]
  },
  {
   "cell_type": "code",
   "execution_count": 125,
   "metadata": {},
   "outputs": [],
   "source": [
    "om_info.drop(0, axis=0,inplace=True)"
   ]
  },
  {
   "cell_type": "code",
   "execution_count": 126,
   "metadata": {},
   "outputs": [
    {
     "data": {
      "text/html": [
       "<div>\n",
       "<style scoped>\n",
       "    .dataframe tbody tr th:only-of-type {\n",
       "        vertical-align: middle;\n",
       "    }\n",
       "\n",
       "    .dataframe tbody tr th {\n",
       "        vertical-align: top;\n",
       "    }\n",
       "\n",
       "    .dataframe thead th {\n",
       "        text-align: right;\n",
       "    }\n",
       "</style>\n",
       "<table border=\"1\" class=\"dataframe\">\n",
       "  <thead>\n",
       "    <tr style=\"text-align: right;\">\n",
       "      <th></th>\n",
       "      <th>Číslo OM</th>\n",
       "      <th>Zapojenie</th>\n",
       "      <th>Druh tarify</th>\n",
       "      <th>Inštalovaný výkon FVE (kWp)</th>\n",
       "    </tr>\n",
       "  </thead>\n",
       "  <tbody>\n",
       "    <tr>\n",
       "      <th>1</th>\n",
       "      <td>1</td>\n",
       "      <td>A</td>\n",
       "      <td>D2</td>\n",
       "      <td>2</td>\n",
       "    </tr>\n",
       "    <tr>\n",
       "      <th>2</th>\n",
       "      <td>2</td>\n",
       "      <td>A</td>\n",
       "      <td>D2</td>\n",
       "      <td>7.2</td>\n",
       "    </tr>\n",
       "    <tr>\n",
       "      <th>3</th>\n",
       "      <td>3</td>\n",
       "      <td>A</td>\n",
       "      <td>D2</td>\n",
       "      <td>2</td>\n",
       "    </tr>\n",
       "    <tr>\n",
       "      <th>4</th>\n",
       "      <td>4</td>\n",
       "      <td>A</td>\n",
       "      <td>D1</td>\n",
       "      <td>0</td>\n",
       "    </tr>\n",
       "    <tr>\n",
       "      <th>5</th>\n",
       "      <td>5</td>\n",
       "      <td>C</td>\n",
       "      <td>D4</td>\n",
       "      <td>9.2</td>\n",
       "    </tr>\n",
       "  </tbody>\n",
       "</table>\n",
       "</div>"
      ],
      "text/plain": [
       "  Číslo OM Zapojenie Druh tarify Inštalovaný výkon FVE (kWp)\n",
       "1        1         A          D2                           2\n",
       "2        2         A          D2                         7.2\n",
       "3        3         A          D2                           2\n",
       "4        4         A          D1                           0\n",
       "5        5         C          D4                         9.2"
      ]
     },
     "execution_count": 126,
     "metadata": {},
     "output_type": "execute_result"
    }
   ],
   "source": [
    "om_info.head()"
   ]
  },
  {
   "cell_type": "code",
   "execution_count": 127,
   "metadata": {},
   "outputs": [],
   "source": [
    "om_info.to_csv(data_path + \"om_info_prepared.csv\", sep = \";\")"
   ]
  },
  {
   "cell_type": "code",
   "execution_count": null,
   "metadata": {},
   "outputs": [],
   "source": []
  },
  {
   "cell_type": "markdown",
   "metadata": {},
   "source": [
    "#### Cena nakup zo siete"
   ]
  },
  {
   "cell_type": "code",
   "execution_count": 7,
   "metadata": {},
   "outputs": [],
   "source": [
    "druh_tarify = [\"D1\",\"D2\",\"D3\",\"D4\",\"D5\"]\n",
    "hodiny = [i for i in range(24)]"
   ]
  },
  {
   "cell_type": "code",
   "execution_count": 8,
   "metadata": {},
   "outputs": [],
   "source": [
    "index = pd.MultiIndex.from_product([druh_tarify, hodiny], names = [\"druh_tarify\", \"hodiny\"])\n",
    "price_nakup_zo_siete = pd.DataFrame(index = index).reset_index()\n"
   ]
  },
  {
   "cell_type": "code",
   "execution_count": 11,
   "metadata": {},
   "outputs": [],
   "source": [
    "price_nakup_zo_siete[\"price\"] = [0.119989,0.119989,0.119989,0.119989,\n",
    "                                0.119989,0.119989,0.119989,0.119989,\n",
    "                                0.119989,0.119989,0.119989,0.119989,\n",
    "                                0.119989,0.119989,0.119989,0.119989,\n",
    "                                0.119989,0.119989,0.119989,0.119989,\n",
    "                                0.119989,0.119989,0.119989,0.119989,\n",
    "                                0.100094,0.100094,0.100094,0.100094,\n",
    "                                0.100094,0.100094,0.100094,0.100094,\n",
    "                                0.100094,0.100094,0.100094,0.100094,\n",
    "                                0.100094,0.100094,0.100094,0.100094,\n",
    "                                0.100094,0.100094,0.100094,0.100094,\n",
    "                                0.100094,0.100094,0.100094,0.100094,\n",
    "                                0.083694,0.083694,0.083694,0.083694,\n",
    "                                0.103394,0.103394,0.103394,0.083694,\n",
    "                                0.083694,0.103394,0.103394,0.103394,\n",
    "                                0.103394,0.103394,0.083694,0.083694,\n",
    "                                0.083694,0.103394,0.103394,0.103394,\n",
    "                                0.103394,0.103394,0.103394,0.083694,\n",
    "                                0.075168,0.075168,0.075168,0.075168,\n",
    "                                0.075168,0.075168,0.098168,0.098168,\n",
    "                                0.098168,0.098168,0.098168,0.098168,\n",
    "                                0.098168,0.098168,0.098168,0.098168,\n",
    "                                0.098168,0.098168,0.098168,0.098168,\n",
    "                                0.098168,0.098168,0.075168,0.075168,\n",
    "                                0.099668,0.077868,0.077868,0.077868,\n",
    "                                0.077868,0.077868,0.077868,0.077868,\n",
    "                                0.077868,0.099668,0.077868,0.099668,\n",
    "                                0.077868,0.077868,0.077868,0.077868,\n",
    "                                0.077868,0.077868,0.077868,0.077868,\n",
    "                                0.077868,0.077868,0.099668,0.077868\n",
    "                                ]"
   ]
  },
  {
   "cell_type": "code",
   "execution_count": 13,
   "metadata": {},
   "outputs": [],
   "source": [
    "price_nakup_zo_siete.to_csv(data_path + \"price_zo_siete.csv\", sep = \";\", index = False)"
   ]
  },
  {
   "cell_type": "code",
   "execution_count": null,
   "metadata": {},
   "outputs": [],
   "source": []
  },
  {
   "cell_type": "markdown",
   "metadata": {},
   "source": [
    "#### Cena nakup z komunity"
   ]
  },
  {
   "cell_type": "code",
   "execution_count": 14,
   "metadata": {},
   "outputs": [],
   "source": [
    "price_nakup_z_komunity = pd.read_excel(data_path + \"Energyhack2_data_update.xlsx\", sheet_name=\"B. Cena nákup komunita\")"
   ]
  },
  {
   "cell_type": "code",
   "execution_count": 22,
   "metadata": {},
   "outputs": [],
   "source": [
    "price_nakup_z_komunity_cl = price_nakup_z_komunity.iloc[1:,0:2].reset_index(drop=True)"
   ]
  },
  {
   "cell_type": "code",
   "execution_count": 34,
   "metadata": {},
   "outputs": [],
   "source": [
    "add_on = price_nakup_z_komunity.iloc[1:7,[3,5]]\n",
    "add_on.columns = [\"tarifa\",\"cena\"]\n",
    "add_on.drop(1,axis = 0, inplace=True)"
   ]
  },
  {
   "cell_type": "code",
   "execution_count": 39,
   "metadata": {},
   "outputs": [],
   "source": [
    "price_nakup_z_komunity_cl.columns = [\"timestamp\",\"main_price\"]\n",
    "price_nakup_z_komunity_cl.timestamp = pd.to_datetime(price_nakup_z_komunity_cl.timestamp)\n",
    "price_nakup_z_komunity_cl.main_price = price_nakup_z_komunity_cl.main_price / 1000"
   ]
  },
  {
   "cell_type": "code",
   "execution_count": 56,
   "metadata": {},
   "outputs": [],
   "source": [
    "price_nakup_z_komunity_cl.to_csv(data_path + \"price_z_komunity.csv\", sep = \";\", index = False)\n",
    "add_on.to_csv(data_path + \"add_on_price_z_komunity.csv\", sep = \";\", index = False)"
   ]
  },
  {
   "cell_type": "code",
   "execution_count": null,
   "metadata": {},
   "outputs": [],
   "source": []
  },
  {
   "cell_type": "markdown",
   "metadata": {},
   "source": [
    "#### Cena predaj do komunity"
   ]
  },
  {
   "cell_type": "code",
   "execution_count": 48,
   "metadata": {},
   "outputs": [],
   "source": [
    "price_predaj_do_komunity = pd.read_excel(data_path + \"Energyhack2_data_update.xlsx\", sheet_name=\"C. Cena predaj komunita\")"
   ]
  },
  {
   "cell_type": "code",
   "execution_count": 49,
   "metadata": {},
   "outputs": [],
   "source": [
    "price_predaj_do_komunity = price_predaj_do_komunity.iloc[1:,0:2].reset_index(drop=True)"
   ]
  },
  {
   "cell_type": "code",
   "execution_count": 50,
   "metadata": {},
   "outputs": [],
   "source": [
    "price_predaj_do_komunity.columns = [\"timestamp\",\"main_price\"]\n",
    "price_predaj_do_komunity.timestamp = pd.to_datetime(price_predaj_do_komunity.timestamp)\n",
    "price_predaj_do_komunity.main_price = (price_predaj_do_komunity.main_price / 1000) - 0.008"
   ]
  },
  {
   "cell_type": "code",
   "execution_count": 51,
   "metadata": {},
   "outputs": [
    {
     "data": {
      "text/html": [
       "<div>\n",
       "<style scoped>\n",
       "    .dataframe tbody tr th:only-of-type {\n",
       "        vertical-align: middle;\n",
       "    }\n",
       "\n",
       "    .dataframe tbody tr th {\n",
       "        vertical-align: top;\n",
       "    }\n",
       "\n",
       "    .dataframe thead th {\n",
       "        text-align: right;\n",
       "    }\n",
       "</style>\n",
       "<table border=\"1\" class=\"dataframe\">\n",
       "  <thead>\n",
       "    <tr style=\"text-align: right;\">\n",
       "      <th></th>\n",
       "      <th>timestamp</th>\n",
       "      <th>main_price</th>\n",
       "    </tr>\n",
       "  </thead>\n",
       "  <tbody>\n",
       "    <tr>\n",
       "      <th>0</th>\n",
       "      <td>2016-01-01 00:00:00</td>\n",
       "      <td>0.0249</td>\n",
       "    </tr>\n",
       "    <tr>\n",
       "      <th>1</th>\n",
       "      <td>2016-01-01 00:15:00</td>\n",
       "      <td>0.02501</td>\n",
       "    </tr>\n",
       "    <tr>\n",
       "      <th>2</th>\n",
       "      <td>2016-01-01 00:30:00</td>\n",
       "      <td>0.02512</td>\n",
       "    </tr>\n",
       "    <tr>\n",
       "      <th>3</th>\n",
       "      <td>2016-01-01 00:45:00</td>\n",
       "      <td>0.02523</td>\n",
       "    </tr>\n",
       "    <tr>\n",
       "      <th>4</th>\n",
       "      <td>2016-01-01 01:00:00</td>\n",
       "      <td>0.02534</td>\n",
       "    </tr>\n",
       "  </tbody>\n",
       "</table>\n",
       "</div>"
      ],
      "text/plain": [
       "            timestamp main_price\n",
       "0 2016-01-01 00:00:00     0.0249\n",
       "1 2016-01-01 00:15:00    0.02501\n",
       "2 2016-01-01 00:30:00    0.02512\n",
       "3 2016-01-01 00:45:00    0.02523\n",
       "4 2016-01-01 01:00:00    0.02534"
      ]
     },
     "execution_count": 51,
     "metadata": {},
     "output_type": "execute_result"
    }
   ],
   "source": [
    "price_predaj_do_komunity.head()"
   ]
  },
  {
   "cell_type": "code",
   "execution_count": 52,
   "metadata": {},
   "outputs": [],
   "source": [
    "price_predaj_do_komunity.to_csv(data_path + \"price_do_komunity.csv\", sep = \";\", index = False)"
   ]
  },
  {
   "cell_type": "code",
   "execution_count": null,
   "metadata": {},
   "outputs": [],
   "source": []
  },
  {
   "cell_type": "markdown",
   "metadata": {},
   "source": [
    "#### Cena predaj do siete"
   ]
  },
  {
   "cell_type": "code",
   "execution_count": 43,
   "metadata": {},
   "outputs": [],
   "source": [
    "price_predaj_do_siete = pd.read_excel(data_path + \"Energyhack2_data_update.xlsx\", sheet_name=\"D. Cena predaj sieť\")"
   ]
  },
  {
   "cell_type": "code",
   "execution_count": 53,
   "metadata": {},
   "outputs": [],
   "source": [
    "price_predaj_do_siete = price_predaj_do_siete.iloc[1:,0:2].reset_index(drop=True)\n",
    "\n",
    "price_predaj_do_siete.columns = [\"timestamp\",\"main_price\"]\n",
    "price_predaj_do_siete.timestamp = pd.to_datetime(price_predaj_do_siete.timestamp)\n",
    "price_predaj_do_siete.main_price = (price_predaj_do_siete.main_price / 1000) - 0.012"
   ]
  },
  {
   "cell_type": "code",
   "execution_count": 54,
   "metadata": {},
   "outputs": [
    {
     "data": {
      "text/html": [
       "<div>\n",
       "<style scoped>\n",
       "    .dataframe tbody tr th:only-of-type {\n",
       "        vertical-align: middle;\n",
       "    }\n",
       "\n",
       "    .dataframe tbody tr th {\n",
       "        vertical-align: top;\n",
       "    }\n",
       "\n",
       "    .dataframe thead th {\n",
       "        text-align: right;\n",
       "    }\n",
       "</style>\n",
       "<table border=\"1\" class=\"dataframe\">\n",
       "  <thead>\n",
       "    <tr style=\"text-align: right;\">\n",
       "      <th></th>\n",
       "      <th>timestamp</th>\n",
       "      <th>main_price</th>\n",
       "    </tr>\n",
       "  </thead>\n",
       "  <tbody>\n",
       "    <tr>\n",
       "      <th>0</th>\n",
       "      <td>2016-01-01 00:00:00</td>\n",
       "      <td>0.0209</td>\n",
       "    </tr>\n",
       "    <tr>\n",
       "      <th>1</th>\n",
       "      <td>2016-01-01 00:15:00</td>\n",
       "      <td>0.02101</td>\n",
       "    </tr>\n",
       "    <tr>\n",
       "      <th>2</th>\n",
       "      <td>2016-01-01 00:30:00</td>\n",
       "      <td>0.02112</td>\n",
       "    </tr>\n",
       "    <tr>\n",
       "      <th>3</th>\n",
       "      <td>2016-01-01 00:45:00</td>\n",
       "      <td>0.02123</td>\n",
       "    </tr>\n",
       "    <tr>\n",
       "      <th>4</th>\n",
       "      <td>2016-01-01 01:00:00</td>\n",
       "      <td>0.02134</td>\n",
       "    </tr>\n",
       "  </tbody>\n",
       "</table>\n",
       "</div>"
      ],
      "text/plain": [
       "            timestamp main_price\n",
       "0 2016-01-01 00:00:00     0.0209\n",
       "1 2016-01-01 00:15:00    0.02101\n",
       "2 2016-01-01 00:30:00    0.02112\n",
       "3 2016-01-01 00:45:00    0.02123\n",
       "4 2016-01-01 01:00:00    0.02134"
      ]
     },
     "execution_count": 54,
     "metadata": {},
     "output_type": "execute_result"
    }
   ],
   "source": [
    "price_predaj_do_siete.head()"
   ]
  },
  {
   "cell_type": "code",
   "execution_count": 55,
   "metadata": {},
   "outputs": [],
   "source": [
    "price_predaj_do_siete.to_csv(data_path + \"price_do_siete.csv\", sep = \";\", index = False)"
   ]
  },
  {
   "cell_type": "code",
   "execution_count": null,
   "metadata": {},
   "outputs": [],
   "source": []
  },
  {
   "cell_type": "code",
   "execution_count": null,
   "metadata": {},
   "outputs": [],
   "source": []
  }
 ],
 "metadata": {
  "kernelspec": {
   "display_name": "Python 3",
   "language": "python",
   "name": "python3"
  },
  "language_info": {
   "codemirror_mode": {
    "name": "ipython",
    "version": 3
   },
   "file_extension": ".py",
   "mimetype": "text/x-python",
   "name": "python",
   "nbconvert_exporter": "python",
   "pygments_lexer": "ipython3",
   "version": "3.6.1"
  }
 },
 "nbformat": 4,
 "nbformat_minor": 2
}
